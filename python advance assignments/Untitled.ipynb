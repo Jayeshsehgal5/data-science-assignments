{
 "cells": [
  {
   "cell_type": "code",
   "execution_count": 16,
   "metadata": {},
   "outputs": [
    {
     "name": "stdout",
     "output_type": "stream",
     "text": [
      "[[1, -1], [3, 1]]\n",
      "4\n"
     ]
    }
   ],
   "source": [
    "\n",
    "l=[[\"#\",\"!\"],[\"O\",\"X\"]]\n",
    "s=0\n",
    "S=0\n",
    "for i in(l):\n",
    "    for j in range(len(i)):\n",
    "        if i[j]==\"#\":\n",
    "            i[j]=1\n",
    "        elif i[j]==\"O\":\n",
    "            i[j]=3\n",
    "        elif i[j]==\"X\":\n",
    "            i[j]=1\n",
    "        elif i[j]==\"!\":\n",
    "            i[j]=-1\n",
    "        elif i[j]==\"!!\":\n",
    "            i[j]=-3\n",
    "        elif i[j]==\"!!!\":\n",
    "            i[j]==-5\n",
    "print(l)\n",
    "for i in l:\n",
    "    for j in i:\n",
    "        s=s+j\n",
    "    S=S+s\n",
    "if S>0:\n",
    "    print(\"SUM\",S)\n",
    "else:\n",
    "    print(0)\n",
    "\n",
    "        \n",
    "            \n",
    "      "
   ]
  },
  {
   "cell_type": "code",
   "execution_count": null,
   "metadata": {},
   "outputs": [],
   "source": [
    "# = 5\n",
    "O = 3\n",
    "X = 1\n",
    "! = -1\n",
    "!! = -3\n",
    "!!! = -5"
   ]
  },
  {
   "cell_type": "code",
   "execution_count": 20,
   "metadata": {},
   "outputs": [
    {
     "data": {
      "text/plain": [
       "dict_keys(['A', 'B'])"
      ]
     },
     "execution_count": 20,
     "metadata": {},
     "output_type": "execute_result"
    }
   ],
   "source": [
    "d={\"A\":\"-\",\"B\":\"_\"}\n",
    "s=\"ABAB\"\n",
    "d.fromkeys\n",
    "x=\"\"\n",
    "for i in s:\n",
    "    if i==\"A\":\n",
    "        s=s.replace(i,\"_\")\n",
    "    elif i==\"B\":\n",
    "        s=s.replace(i,\"-\")\n",
    "d.keys()\n",
    "    \n"
   ]
  },
  {
   "cell_type": "code",
   "execution_count": 39,
   "metadata": {},
   "outputs": [
    {
     "name": "stdout",
     "output_type": "stream",
     "text": [
      "10101\n"
     ]
    },
    {
     "data": {
      "text/plain": [
       "[True, False, True, False, True]"
      ]
     },
     "execution_count": 39,
     "metadata": {},
     "output_type": "execute_result"
    }
   ],
   "source": [
    "odd=\"acegikmoqsuwy\"\n",
    "even=\"bdfhjlnprtvxz\"\n",
    "s=\"abcde\"\n",
    "for i in s:\n",
    "    if i in even:\n",
    "        s=s.replace(i,\"0\")\n",
    "    else:\n",
    "        s=s.replace(i,\"1\")\n",
    "print(s)\n",
    "n=s\n",
    "m=[]\n",
    "for i in n:\n",
    "    if i==\"1\":\n",
    "        m.append(True)\n",
    "    else:\n",
    "        m.append(False)\n",
    "m\n",
    "        \n",
    "\n"
   ]
  },
  {
   "cell_type": "code",
   "execution_count": 27,
   "metadata": {},
   "outputs": [
    {
     "data": {
      "text/plain": [
       "True"
      ]
     },
     "execution_count": 27,
     "metadata": {},
     "output_type": "execute_result"
    }
   ],
   "source": []
  },
  {
   "cell_type": "code",
   "execution_count": 41,
   "metadata": {},
   "outputs": [
    {
     "name": "stdout",
     "output_type": "stream",
     "text": [
      "enter month4\n",
      "enter year2000\n"
     ]
    },
    {
     "data": {
      "text/plain": [
       "datetime.date(2000, 4, 13)"
      ]
     },
     "execution_count": 41,
     "metadata": {},
     "output_type": "execute_result"
    }
   ],
   "source": [
    "import datetime\n",
    "month, year=int(input(\"enter month\")),int(input(\"enter year\"))\n",
    "spooky = datetime.date(year, month, 13)\n",
    "print(spooky.strftime(\"%A\") == \"Friday\")\n"
   ]
  },
  {
   "cell_type": "code",
   "execution_count": 86,
   "metadata": {
    "scrolled": true
   },
   "outputs": [
    {
     "ename": "IndexError",
     "evalue": "list index out of range",
     "output_type": "error",
     "traceback": [
      "\u001b[1;31m---------------------------------------------------------------------------\u001b[0m",
      "\u001b[1;31mIndexError\u001b[0m                                Traceback (most recent call last)",
      "\u001b[1;32m<ipython-input-86-976265795364>\u001b[0m in \u001b[0;36m<module>\u001b[1;34m\u001b[0m\n\u001b[0;32m      3\u001b[0m \u001b[0ml\u001b[0m\u001b[1;33m.\u001b[0m\u001b[0msort\u001b[0m\u001b[1;33m(\u001b[0m\u001b[1;33m)\u001b[0m\u001b[1;33m\u001b[0m\u001b[1;33m\u001b[0m\u001b[0m\n\u001b[0;32m      4\u001b[0m \u001b[1;32mfor\u001b[0m \u001b[0mi\u001b[0m \u001b[1;32min\u001b[0m \u001b[0mrange\u001b[0m\u001b[1;33m(\u001b[0m\u001b[0mlen\u001b[0m\u001b[1;33m(\u001b[0m\u001b[0ml\u001b[0m\u001b[1;33m)\u001b[0m\u001b[1;33m-\u001b[0m\u001b[1;36m1\u001b[0m\u001b[1;33m)\u001b[0m\u001b[1;33m:\u001b[0m\u001b[1;33m\u001b[0m\u001b[1;33m\u001b[0m\u001b[0m\n\u001b[1;32m----> 5\u001b[1;33m     \u001b[1;32mif\u001b[0m \u001b[0ml\u001b[0m\u001b[1;33m[\u001b[0m\u001b[0mi\u001b[0m\u001b[1;33m]\u001b[0m\u001b[1;33m==\u001b[0m\u001b[0ml\u001b[0m\u001b[1;33m[\u001b[0m\u001b[0mi\u001b[0m\u001b[1;33m+\u001b[0m\u001b[1;36m1\u001b[0m\u001b[1;33m]\u001b[0m\u001b[1;33m:\u001b[0m\u001b[1;33m\u001b[0m\u001b[1;33m\u001b[0m\u001b[0m\n\u001b[0m\u001b[0;32m      6\u001b[0m         \u001b[0ml\u001b[0m\u001b[1;33m.\u001b[0m\u001b[0mremove\u001b[0m\u001b[1;33m(\u001b[0m\u001b[0ml\u001b[0m\u001b[1;33m[\u001b[0m\u001b[0mi\u001b[0m\u001b[1;33m]\u001b[0m\u001b[1;33m)\u001b[0m\u001b[1;33m\u001b[0m\u001b[1;33m\u001b[0m\u001b[0m\n\u001b[0;32m      7\u001b[0m \u001b[1;33m\u001b[0m\u001b[0m\n",
      "\u001b[1;31mIndexError\u001b[0m: list index out of range"
     ]
    }
   ],
   "source": [
    "l=[\"cow\",\"pig\",\"cow\",\"cow\"]\n",
    "x=\"s\"\n",
    "l.sort()\n",
    "for i in range(len(l)-1):\n",
    "    if l[i]==l[i+1]:\n",
    "        l.remove(l[i])\n",
    "\n",
    "\n",
    "        \n",
    "\n",
    "\n",
    "\n",
    "    \n",
    "   \n",
    "\n",
    "        \n"
   ]
  },
  {
   "cell_type": "code",
   "execution_count": 75,
   "metadata": {},
   "outputs": [
    {
     "data": {
      "text/plain": [
       "[1, 33, 4]"
      ]
     },
     "execution_count": 75,
     "metadata": {},
     "output_type": "execute_result"
    }
   ],
   "source": [
    "l=[1,2,33,4]\n",
    "l.remove(2)\n",
    "l"
   ]
  },
  {
   "cell_type": "code",
   "execution_count": 80,
   "metadata": {},
   "outputs": [
    {
     "data": {
      "text/plain": [
       "'1234678'"
      ]
     },
     "execution_count": 80,
     "metadata": {},
     "output_type": "execute_result"
    }
   ],
   "source": [
    "i_str =  '12345555555678'\n",
    "\n",
    "for i in range(len(b)-1):\n",
    "    if b[i] == b[i+1]:\n",
    "        i_str = i_str.replace(b[i],'')\n",
    "i_str"
   ]
  },
  {
   "cell_type": "code",
   "execution_count": 89,
   "metadata": {},
   "outputs": [
    {
     "data": {
      "text/plain": [
       "[1, 4]"
      ]
     },
     "execution_count": 89,
     "metadata": {},
     "output_type": "execute_result"
    }
   ],
   "source": [
    "\n",
    ":\n",
    "    for x in set(data):\n",
    "        if data.count(x) > n:\n",
    "            while x in data:\n",
    "                data.remove(x)\n",
    "    return data\n",
    "solution([1, 2, 2, 3, 3, 4, 5, 5],1)"
   ]
  },
  {
   "cell_type": "code",
   "execution_count": 90,
   "metadata": {},
   "outputs": [
    {
     "name": "stdout",
     "output_type": "stream",
     "text": [
      "[1, 4]\n"
     ]
    }
   ],
   "source": [
    "l=[1,2,2,3,3,4,5,5]\n",
    "for i in set(l):\n",
    "    if l.count(i)>1:\n",
    "        while i in l:\n",
    "            l.remove(i)\n",
    "print(l)"
   ]
  },
  {
   "cell_type": "code",
   "execution_count": 3,
   "metadata": {},
   "outputs": [
    {
     "name": "stdout",
     "output_type": "stream",
     "text": [
      "sum=  24\n"
     ]
    }
   ],
   "source": [
    "a=\"12+12\"\n",
    "for i in a:\n",
    "    if i==\"+\":\n",
    "        s=a.split(\"+\")\n",
    "        m=0\n",
    "        for i in range(len(s)):\n",
    "            s[i]=int(s[i])\n",
    "        for i in s:\n",
    "            m=m+i\n",
    "        print(\"sum= \",m)\n",
    "    elif i==\"-\":\n",
    "        s=a.split(\"-\")\n",
    "        for i in range(len(s)):\n",
    "            s[i]=int(s[i])\n",
    "        \n",
    "        m=max(s)-min(s)\n",
    "        print(\"subtraction= \",m)\n",
    "    elif i==\"//\":\n",
    "        s=a.split(\"//\")\n",
    "        for i in range(len(s)):\n",
    "            s[i]=int(s[i])\n",
    "        if s[1]==0:\n",
    "            print(-1)\n",
    "        \n",
    "            \n",
    "    elif i==\"*\":\n",
    "        s=a.split(\"*\")\n",
    "        m=1\n",
    "        for i in range(len(s)):\n",
    "            s[i]=int(s[i])\n",
    "        for i in s:\n",
    "            m=m*i\n",
    "        print(\"multiplication \",m)\n",
    "        \n",
    "        \n",
    "    \n",
    "\n",
    "        "
   ]
  },
  {
   "cell_type": "code",
   "execution_count": 94,
   "metadata": {},
   "outputs": [
    {
     "data": {
      "text/plain": [
       "[12, 12]"
      ]
     },
     "execution_count": 94,
     "metadata": {},
     "output_type": "execute_result"
    }
   ],
   "source": [
    "l=[\"12\",\"12\"]\n",
    "for i in range(len(l)):\n",
    "    l[i]=int(l[i])\n",
    "l\n",
    "    "
   ]
  },
  {
   "cell_type": "code",
   "execution_count": 4,
   "metadata": {},
   "outputs": [
    {
     "name": "stdout",
     "output_type": "stream",
     "text": [
      "sum=  24\n"
     ]
    }
   ],
   "source": [
    "a=\"12+12\"\n",
    "for i in a:\n",
    "    if i==\"+\":\n",
    "        s=a.split(\"+\")\n",
    "        m=0\n",
    "        \n",
    "        for i in range(len(s)):\n",
    "            s[i]=int(s[i])\n",
    "        for i in s:\n",
    "            m=m+i\n",
    "        print(\"sum= \",m)"
   ]
  },
  {
   "cell_type": "code",
   "execution_count": 104,
   "metadata": {},
   "outputs": [
    {
     "name": "stdout",
     "output_type": "stream",
     "text": [
      "enter value2\n",
      "enter value3\n",
      "enter value4\n",
      "enter value5\n"
     ]
    },
    {
     "data": {
      "text/plain": [
       "[[2, 3], [4, 5]]"
      ]
     },
     "execution_count": 104,
     "metadata": {},
     "output_type": "execute_result"
    }
   ],
   "source": [
    "l=[]\n",
    "\n",
    "for i in range(1,3):\n",
    "    m=[]\n",
    "   \n",
    "    for j in range(1,3):\n",
    "        \n",
    "        val=int(input(\"enter value\"))\n",
    "        m.append(val)\n",
    "    l.append(m)\n",
    "l\n",
    "\n",
    "\n",
    "    \n",
    "   "
   ]
  },
  {
   "cell_type": "markdown",
   "metadata": {},
   "source": [
    "#### "
   ]
  },
  {
   "cell_type": "code",
   "execution_count": 118,
   "metadata": {},
   "outputs": [
    {
     "name": "stdout",
     "output_type": "stream",
     "text": [
      "0.9230769230769231\n"
     ]
    }
   ],
   "source": [
    "a=\"12//13\"\n",
    "s=a.split(\"//\")\n",
    "for i in range(len(s)):\n",
    "    \n",
    "    s[i]=int(s[i])\n",
    "if s[1]==0:\n",
    "    print(-1)\n",
    "else:\n",
    "    print(s[0]/s[1])\n",
    "        "
   ]
  },
  {
   "cell_type": "code",
   "execution_count": 3,
   "metadata": {},
   "outputs": [
    {
     "ename": "NameError",
     "evalue": "name 's' is not defined",
     "output_type": "error",
     "traceback": [
      "\u001b[1;31m---------------------------------------------------------------------------\u001b[0m",
      "\u001b[1;31mNameError\u001b[0m                                 Traceback (most recent call last)",
      "\u001b[1;32m<ipython-input-3-a24ba1c0b7a1>\u001b[0m in \u001b[0;36m<module>\u001b[1;34m\u001b[0m\n\u001b[0;32m      3\u001b[0m     \u001b[1;32mif\u001b[0m \u001b[0mi\u001b[0m\u001b[1;33m==\u001b[0m\u001b[1;34m\"//\"\u001b[0m\u001b[1;33m:\u001b[0m\u001b[1;33m\u001b[0m\u001b[1;33m\u001b[0m\u001b[0m\n\u001b[0;32m      4\u001b[0m         \u001b[0ms\u001b[0m\u001b[1;33m=\u001b[0m\u001b[0ma\u001b[0m\u001b[1;33m.\u001b[0m\u001b[0msplit\u001b[0m\u001b[1;33m(\u001b[0m\u001b[1;34m\"//\"\u001b[0m\u001b[1;33m)\u001b[0m\u001b[1;33m\u001b[0m\u001b[1;33m\u001b[0m\u001b[0m\n\u001b[1;32m----> 5\u001b[1;33m \u001b[1;32mfor\u001b[0m \u001b[0mi\u001b[0m \u001b[1;32min\u001b[0m \u001b[0mrange\u001b[0m\u001b[1;33m(\u001b[0m\u001b[0mlen\u001b[0m\u001b[1;33m(\u001b[0m\u001b[0ms\u001b[0m\u001b[1;33m)\u001b[0m\u001b[1;33m)\u001b[0m\u001b[1;33m:\u001b[0m\u001b[1;33m\u001b[0m\u001b[1;33m\u001b[0m\u001b[0m\n\u001b[0m\u001b[0;32m      6\u001b[0m     \u001b[0ms\u001b[0m\u001b[1;33m[\u001b[0m\u001b[0mi\u001b[0m\u001b[1;33m]\u001b[0m\u001b[1;33m=\u001b[0m\u001b[0mint\u001b[0m\u001b[1;33m(\u001b[0m\u001b[0ms\u001b[0m\u001b[1;33m[\u001b[0m\u001b[0mi\u001b[0m\u001b[1;33m]\u001b[0m\u001b[1;33m)\u001b[0m\u001b[1;33m\u001b[0m\u001b[1;33m\u001b[0m\u001b[0m\n\u001b[0;32m      7\u001b[0m \u001b[0mprint\u001b[0m\u001b[1;33m(\u001b[0m\u001b[0ms\u001b[0m\u001b[1;33m)\u001b[0m\u001b[1;33m\u001b[0m\u001b[1;33m\u001b[0m\u001b[0m\n",
      "\u001b[1;31mNameError\u001b[0m: name 's' is not defined"
     ]
    }
   ],
   "source": [
    "a=\"12//13\"\n",
    "for i in a:\n",
    "    if i==\"//\":\n",
    "        s=a.split(\"//\")\n",
    "for i in range(len(s)):\n",
    "    s[i]=int(s[i])\n",
    "print(s)\n",
    "if s[1]==0:\n",
    "    print(-1)\n",
    "else:\n",
    "    print(s[0]/s[1])"
   ]
  },
  {
   "cell_type": "code",
   "execution_count": 11,
   "metadata": {},
   "outputs": [
    {
     "ename": "NameError",
     "evalue": "name 's' is not defined",
     "output_type": "error",
     "traceback": [
      "\u001b[1;31m---------------------------------------------------------------------------\u001b[0m",
      "\u001b[1;31mNameError\u001b[0m                                 Traceback (most recent call last)",
      "\u001b[1;32m<ipython-input-11-0867062cc70a>\u001b[0m in \u001b[0;36m<module>\u001b[1;34m\u001b[0m\n\u001b[0;32m      3\u001b[0m     \u001b[1;32mif\u001b[0m \u001b[0mi\u001b[0m\u001b[1;33m==\u001b[0m\u001b[1;34m\"+\"\u001b[0m\u001b[1;33m:\u001b[0m\u001b[1;33m\u001b[0m\u001b[1;33m\u001b[0m\u001b[0m\n\u001b[0;32m      4\u001b[0m         \u001b[0ms\u001b[0m\u001b[1;33m=\u001b[0m\u001b[0mx\u001b[0m\u001b[1;33m.\u001b[0m\u001b[0msplit\u001b[0m\u001b[1;33m(\u001b[0m\u001b[0mi\u001b[0m\u001b[1;33m)\u001b[0m\u001b[1;33m\u001b[0m\u001b[1;33m\u001b[0m\u001b[0m\n\u001b[1;32m----> 5\u001b[1;33m     \u001b[0mprint\u001b[0m\u001b[1;33m(\u001b[0m\u001b[0ms\u001b[0m\u001b[1;33m)\u001b[0m\u001b[1;33m\u001b[0m\u001b[1;33m\u001b[0m\u001b[0m\n\u001b[0m\u001b[0;32m      6\u001b[0m \u001b[1;33m\u001b[0m\u001b[0m\n\u001b[0;32m      7\u001b[0m \u001b[1;33m\u001b[0m\u001b[0m\n",
      "\u001b[1;31mNameError\u001b[0m: name 's' is not defined"
     ]
    }
   ],
   "source": [
    "x=\"12+12\"\n",
    "for i in x:\n",
    "    if i==\"+\":\n",
    "        s=x.split(i) elif i==\"//\":\n",
    "        s=a.split(\"//\")\n",
    "        for i in range(len(s)):\n",
    "            s[i]=int(s[i])\n",
    "        if s[1]==0:\n",
    "            print(-1)\n",
    "        else:\n",
    "            print(s[0]/s[1])print(s)\n",
    "\n",
    "    "
   ]
  },
  {
   "cell_type": "code",
   "execution_count": 13,
   "metadata": {},
   "outputs": [
    {
     "data": {
      "text/plain": [
       "['12', '12']"
      ]
     },
     "execution_count": 13,
     "metadata": {},
     "output_type": "execute_result"
    }
   ],
   "source": [
    "a=\"12//12\"\n",
    "for i in a:\n",
    "    if i==\"//\":\n",
    "        s=a.split(i)\n",
    "s"
   ]
  },
  {
   "cell_type": "code",
   "execution_count": 25,
   "metadata": {},
   "outputs": [
    {
     "data": {
      "text/plain": [
       "('perimeter of triangle', 47.07918859608948)"
      ]
     },
     "execution_count": 25,
     "metadata": {},
     "output_type": "execute_result"
    }
   ],
   "source": [
    "import math\n",
    "def perimeter(l):\n",
    "    \n",
    "    x1=l[0][0]\n",
    "    y1=l[0][1]\n",
    "    x2=l[1][0]\n",
    "    y2=l[1][1]\n",
    "    x3=l[2][0]\n",
    "    y3=l[2][1]\n",
    "    p=math.sqrt((x2-x1)**2+(y2-y1)**2)+math.sqrt((x3-x2)**2+(y3-y2)**2)+math.sqrt((x1-x3)**2+(y1-y3)**2)\n",
    "    return(\"perimeter of triangle\",p)\n",
    "perimeter([[15,7],[5,22],[11,1]])\n",
    "    \n"
   ]
  },
  {
   "cell_type": "code",
   "execution_count": 24,
   "metadata": {},
   "outputs": [
    {
     "name": "stdout",
     "output_type": "stream",
     "text": [
      "perimeter of triangle 47.07918859608948\n"
     ]
    }
   ],
   "source": [
    "l=[[15,7],[5,22],[11,1]]\n",
    "\n",
    "x1=l[0][0]\n",
    "y1=l[0][1]\n",
    "x2=l[1][0]\n",
    "y2=l[1][1]\n",
    "x3=l[2][0]\n",
    "y3=l[2][1]\n",
    "p=math.sqrt((x2-x1)**2+(y2-y1)**2)+math.sqrt((x3-x2)**2+(y3-y2)**2)+math.sqrt((x1-x3)**2+(y1-y3)**2)\n",
    "print(\"perimeter of triangle\",p)\n"
   ]
  },
  {
   "cell_type": "code",
   "execution_count": null,
   "metadata": {},
   "outputs": [],
   "source": [
    "def bonus(n):\n",
    "    while n<100:\n",
    "        while n\n",
    "\n",
    "        "
   ]
  },
  {
   "cell_type": "code",
   "execution_count": 80,
   "metadata": {},
   "outputs": [
    {
     "name": "stdout",
     "output_type": "stream",
     "text": [
      "enter a number23\n"
     ]
    },
    {
     "data": {
      "text/plain": [
       "29"
      ]
     },
     "execution_count": 80,
     "metadata": {},
     "output_type": "execute_result"
    }
   ],
   "source": [
    "n=int(input(\"enter a number\"))\n",
    "k=n\n",
    "x=str(n)\n",
    "count=1\n",
    "m=\",\".join(x)\n",
    "l=m.split(\",\")\n",
    "for i in range(len(l)):\n",
    "    l[i]=int(l[i])\n",
    "for i in range(len(l)):\n",
    "    l[i]=l[i]**count\n",
    "    count=count+1\n",
    "y=\"\"\n",
    "for i in l:\n",
    "    y=y+str(i)\n",
    "y=int(y)\n",
    "y\n"
   ]
  },
  {
   "cell_type": "code",
   "execution_count": 32,
   "metadata": {},
   "outputs": [
    {
     "data": {
      "text/plain": [
       "'3,2'"
      ]
     },
     "execution_count": 32,
     "metadata": {},
     "output_type": "execute_result"
    }
   ],
   "source": [
    "n=str(32)\n",
    "m=\",\".join(n)\n",
    "m"
   ]
  },
  {
   "cell_type": "code",
   "execution_count": 43,
   "metadata": {},
   "outputs": [],
   "source": [
    "a=\"abcd\"\n",
    "b=\"abcde\"\n",
    "for i in range(len(b)-1):\n",
    "    if a[i]==b[i]:\n",
    "        continue\n",
    "    else:\n",
    "        print(i)"
   ]
  },
  {
   "cell_type": "code",
   "execution_count": 59,
   "metadata": {},
   "outputs": [
    {
     "name": "stdout",
     "output_type": "stream",
     "text": [
      "dissarium no\n",
      "not a dissarium no\n"
     ]
    }
   ],
   "source": [
    "import math\n",
    "def dissarium(n):\n",
    "    m=n\n",
    "    s=0\n",
    "    count=len(str(m))\n",
    "    while(m!=0):\n",
    "        a=m%10\n",
    "        s=s+math.pow(a,count)\n",
    "        count=count-1\n",
    "        m=m//10\n",
    "    if s==n:\n",
    "        return(\"dissarium no\")\n",
    "    else:\n",
    "        return(\"not a dissarium no\")\n",
    "print(dissarium(135))\n",
    "print(dissarium(75))\n"
   ]
  },
  {
   "cell_type": "code",
   "execution_count": 65,
   "metadata": {},
   "outputs": [
    {
     "name": "stdout",
     "output_type": "stream",
     "text": [
      "enter a number10\n",
      "55\n"
     ]
    }
   ],
   "source": [
    "n=int(input(\"enter a number\"))\n",
    "l=[]\n",
    "a=0\n",
    "b=1\n",
    "for i in range(1,n+2):\n",
    "    l.append(a)\n",
    "    \n",
    "    a,b=b,a+b\n",
    "print(l[-1])"
   ]
  },
  {
   "cell_type": "code",
   "execution_count": 69,
   "metadata": {
    "scrolled": true
   },
   "outputs": [
    {
     "ename": "TypeError",
     "evalue": "ord() expected a character, but string of length 5 found",
     "output_type": "error",
     "traceback": [
      "\u001b[1;31m---------------------------------------------------------------------------\u001b[0m",
      "\u001b[1;31mTypeError\u001b[0m                                 Traceback (most recent call last)",
      "\u001b[1;32m<ipython-input-69-8d0ec1f7d4e4>\u001b[0m in \u001b[0;36m<module>\u001b[1;34m\u001b[0m\n\u001b[1;32m----> 1\u001b[1;33m \u001b[0mhex\u001b[0m\u001b[1;33m(\u001b[0m\u001b[0mord\u001b[0m\u001b[1;33m(\u001b[0m\u001b[1;34m\"hello\"\u001b[0m\u001b[1;33m)\u001b[0m\u001b[1;33m)\u001b[0m\u001b[1;33m\u001b[0m\u001b[1;33m\u001b[0m\u001b[0m\n\u001b[0m",
      "\u001b[1;31mTypeError\u001b[0m: ord() expected a character, but string of length 5 found"
     ]
    }
   ],
   "source": [
    "hex(ord(\"h\"))\n"
   ]
  },
  {
   "cell_type": "code",
   "execution_count": 77,
   "metadata": {},
   "outputs": [
    {
     "data": {
      "text/plain": [
       "'helloo'"
      ]
     },
     "execution_count": 77,
     "metadata": {},
     "output_type": "execute_result"
    }
   ],
   "source": [
    "h=\"helloo\"\n",
    "\n",
    "for i in h:\n",
    "    if s.count(i)>1:\n",
    "        h=h.replace(i,\"@\")\n",
    "\n",
    "    "
   ]
  },
  {
   "cell_type": "code",
   "execution_count": 81,
   "metadata": {},
   "outputs": [],
   "source": [
    "def uncensor(string, vowels):\n",
    "    x = \"\"\n",
    "    counter = 0\n",
    "    for i in range(len(string)):\n",
    "        if string[i] == \"*\":\n",
    "            x=x+ vowels[counter]\n",
    "            count=count + 1\n",
    "        else:\n",
    "            new_ += string[i]\n",
    "    return new_"
   ]
  },
  {
   "cell_type": "code",
   "execution_count": 85,
   "metadata": {},
   "outputs": [],
   "source": [
    "a=\"abcdf\"\n",
    "b=\"abcde\"\n",
    "count=0\n",
    "for i in range(len(b)):\n",
    "    if a[count]!=b[count]:\n",
    "        count=count+1\n",
    "        print(i)\n",
    "        "
   ]
  },
  {
   "cell_type": "code",
   "execution_count": 88,
   "metadata": {},
   "outputs": [
    {
     "name": "stdout",
     "output_type": "stream",
     "text": [
      "enter a number5\n"
     ]
    },
    {
     "ename": "NameError",
     "evalue": "name 'number' is not defined",
     "output_type": "error",
     "traceback": [
      "\u001b[1;31m---------------------------------------------------------------------------\u001b[0m",
      "\u001b[1;31mNameError\u001b[0m                                 Traceback (most recent call last)",
      "\u001b[1;32m<ipython-input-88-a906ff205dd4>\u001b[0m in \u001b[0;36m<module>\u001b[1;34m\u001b[0m\n\u001b[0;32m      1\u001b[0m \u001b[0ml\u001b[0m\u001b[1;33m=\u001b[0m \u001b[1;33m[\u001b[0m\u001b[1;36m2\u001b[0m\u001b[1;33m,\u001b[0m \u001b[1;36m8\u001b[0m\u001b[1;33m]\u001b[0m\u001b[1;33m\u001b[0m\u001b[1;33m\u001b[0m\u001b[0m\n\u001b[0;32m      2\u001b[0m \u001b[0mn\u001b[0m \u001b[1;33m=\u001b[0m \u001b[0mint\u001b[0m\u001b[1;33m(\u001b[0m\u001b[0minput\u001b[0m\u001b[1;33m(\u001b[0m\u001b[1;34m\"enter a number\"\u001b[0m\u001b[1;33m)\u001b[0m\u001b[1;33m)\u001b[0m\u001b[1;33m\u001b[0m\u001b[1;33m\u001b[0m\u001b[0m\n\u001b[1;32m----> 3\u001b[1;33m \u001b[0mprint\u001b[0m\u001b[1;33m(\u001b[0m\u001b[0marr\u001b[0m\u001b[1;33m[\u001b[0m\u001b[0mnumber\u001b[0m\u001b[1;33m%\u001b[0m\u001b[1;36m2\u001b[0m\u001b[1;33m]\u001b[0m\u001b[1;33m)\u001b[0m\u001b[1;33m\u001b[0m\u001b[1;33m\u001b[0m\u001b[0m\n\u001b[0m",
      "\u001b[1;31mNameError\u001b[0m: name 'number' is not defined"
     ]
    }
   ],
   "source": [
    "l= [8,2]\n",
    "n = int(input(\"enter a number\"))\n",
    "print(arr[number%2])"
   ]
  },
  {
   "cell_type": "code",
   "execution_count": 95,
   "metadata": {},
   "outputs": [
    {
     "data": {
      "text/plain": [
       "1"
      ]
     },
     "execution_count": 95,
     "metadata": {},
     "output_type": "execute_result"
    }
   ],
   "source": [
    "l=[1,2,1,1,1]\n",
    "m=[]\n",
    "for i in l:\n",
    "    if l.count(i)>len(l)/2:\n",
    "        m.append(i)\n",
    "x=set(m)\n",
    "m=list(x)\n",
    "m[0]\n"
   ]
  },
  {
   "cell_type": "markdown",
   "metadata": {},
   "source": [
    "Create a function that takes a string txt and censors any word from a given\n",
    "list lst. The text removed must be replaced by the given character char."
   ]
  },
  {
   "cell_type": "code",
   "execution_count": 128,
   "metadata": {},
   "outputs": [
    {
     "data": {
      "text/plain": [
       "'***** is we*nes***'"
      ]
     },
     "execution_count": 128,
     "metadata": {},
     "output_type": "execute_result"
    }
   ],
   "source": [
    "a=\"today is wednesday\"\n",
    "b=[\"today\"]\n",
    "x=\"\"\n",
    "x=x+\"\".join(b)\n",
    "for i in x:\n",
    "    if i in a:\n",
    "        a=a.replace(i,\"*\")\n",
    "a\n",
    "        \n",
    "    "
   ]
  },
  {
   "cell_type": "code",
   "execution_count": null,
   "metadata": {},
   "outputs": [],
   "source": []
  },
  {
   "cell_type": "code",
   "execution_count": 119,
   "metadata": {},
   "outputs": [
    {
     "data": {
      "text/plain": [
       "'aabcdef'"
      ]
     },
     "execution_count": 119,
     "metadata": {},
     "output_type": "execute_result"
    }
   ],
   "source": []
  },
  {
   "cell_type": "code",
   "execution_count": 105,
   "metadata": {},
   "outputs": [
    {
     "data": {
      "text/plain": [
       "'today is wednesday'"
      ]
     },
     "execution_count": 105,
     "metadata": {},
     "output_type": "execute_result"
    }
   ],
   "source": [
    "\n",
    "    "
   ]
  },
  {
   "cell_type": "code",
   "execution_count": 113,
   "metadata": {},
   "outputs": [
    {
     "data": {
      "text/plain": [
       "'todayis'"
      ]
     },
     "execution_count": 113,
     "metadata": {},
     "output_type": "execute_result"
    }
   ],
   "source": [
    "\n",
    "x"
   ]
  },
  {
   "cell_type": "code",
   "execution_count": 133,
   "metadata": {},
   "outputs": [
    {
     "ename": "IndentationError",
     "evalue": "unindent does not match any outer indentation level (<tokenize>, line 8)",
     "output_type": "error",
     "traceback": [
      "\u001b[1;36m  File \u001b[1;32m\"<tokenize>\"\u001b[1;36m, line \u001b[1;32m8\u001b[0m\n\u001b[1;33m    l\u001b[0m\n\u001b[1;37m    ^\u001b[0m\n\u001b[1;31mIndentationError\u001b[0m\u001b[1;31m:\u001b[0m unindent does not match any outer indentation level\n"
     ]
    }
   ],
   "source": [
    "l=[[\"#\",\"!\"]]\n",
    "for i in l:\n",
    "    for j in i:\n",
    "        if j==\"#\":\n",
    "            j=1\n",
    "        elif j==\"!\":\n",
    "            j=2"
   ]
  },
  {
   "cell_type": "code",
   "execution_count": 2,
   "metadata": {
    "scrolled": true
   },
   "outputs": [
    {
     "name": "stdout",
     "output_type": "stream",
     "text": [
      "e\n"
     ]
    }
   ],
   "source": [
    "a=\"abcde\"\n",
    "b=\"abcd\"\n",
    "for i in a:\n",
    "    if i not in b:\n",
    "        print(i)"
   ]
  },
  {
   "cell_type": "code",
   "execution_count": 9,
   "metadata": {},
   "outputs": [
    {
     "data": {
      "text/plain": [
       "[1, 2, 7, 3, 4, 3, 5]"
      ]
     },
     "execution_count": 9,
     "metadata": {},
     "output_type": "execute_result"
    }
   ],
   "source": [
    "l=[1,2,3,4,5]\n",
    "m=[]\n",
    "l.insert(4,3)\n",
    "l.insert(2,7)\n",
    "l\n",
    "\n"
   ]
  },
  {
   "cell_type": "code",
   "execution_count": 12,
   "metadata": {},
   "outputs": [
    {
     "data": {
      "text/plain": [
       "[2, 1, 1]"
      ]
     },
     "execution_count": 12,
     "metadata": {},
     "output_type": "execute_result"
    }
   ],
   "source": [
    "l=[\"abc\",(1,2),1,1]\n",
    "m=[]\n",
    "counti=0\n",
    "counts=0\n",
    "countt=0\n",
    "for i in l:\n",
    "    if type(i)==int:\n",
    "        counti=counti+1\n",
    "    elif type(i)==str:\n",
    "        counts=counts+1\n",
    "    elif type(i)==tuple:\n",
    "        countt=countt+1\n",
    "m.insert(0,counti)\n",
    "m.insert(1,counts)\n",
    "m.insert(2,countt)\n",
    "m\n"
   ]
  },
  {
   "cell_type": "code",
   "execution_count": 23,
   "metadata": {},
   "outputs": [
    {
     "data": {
      "text/plain": [
       "[3, 1, 2, 1, 1, 1]"
      ]
     },
     "execution_count": 23,
     "metadata": {},
     "output_type": "execute_result"
    }
   ],
   "source": [
    "def count_datatype(*args):\n",
    "    m=[]\n",
    "    counti=0\n",
    "    counts=0\n",
    "    countl=0\n",
    "    countb=0\n",
    "    countt=0\n",
    "    countd=0\n",
    "    for i in args:\n",
    "        if type(i)==int:\n",
    "            counti=counti+1\n",
    "        elif type(i)==str:\n",
    "            counts=counts+1\n",
    "        elif type(i)==bool:\n",
    "            countb=countb+1\n",
    "        elif type(i)==list:\n",
    "            countl=countl+1\n",
    "        elif type(i)==tuple:\n",
    "            countt=countt+1\n",
    "        elif type(i)==dict:\n",
    "            countd=countd+1\n",
    "    m.insert(0,counti)\n",
    "    m.insert(1,counts)\n",
    "    m.insert(2,countb)\n",
    "    m.insert(3,countl)\n",
    "    m.insert(4,countt)\n",
    "    m.insert(5,countd)\n",
    "    return(m)\n",
    "       \n",
    "        \n",
    "count_datatype(\"str\",[1,3,4],1,2,4,True,False,(1,2),{\"a\":\"1\"})"
   ]
  },
  {
   "cell_type": "code",
   "execution_count": 24,
   "metadata": {},
   "outputs": [
    {
     "name": "stdout",
     "output_type": "stream",
     "text": [
      "1\n",
      "2\n",
      "3\n",
      "5\n",
      "7\n",
      "11\n",
      "13\n",
      "17\n",
      "19\n",
      "23\n",
      "29\n",
      "31\n",
      "37\n",
      "41\n",
      "43\n",
      "47\n",
      "53\n",
      "59\n",
      "61\n",
      "67\n",
      "71\n",
      "73\n",
      "79\n",
      "83\n",
      "89\n"
     ]
    }
   ],
   "source": [
    "for i in range(1,97):\n",
    "    x=0\n",
    "    for j in range(2,i):\n",
    "        if i%j==0:\n",
    "            x=1\n",
    "            break\n",
    "    if x==0:\n",
    "        print(i)\n",
    "        "
   ]
  },
  {
   "cell_type": "code",
   "execution_count": 44,
   "metadata": {},
   "outputs": [
    {
     "data": {
      "text/plain": [
       "'juie'"
      ]
     },
     "execution_count": 44,
     "metadata": {},
     "output_type": "execute_result"
    }
   ],
   "source": [
    "s=\"jdueie\"\n",
    "n=3\n",
    "l=[]\n",
    "for i in s:\n",
    "    l.append(i)\n",
    "\n",
    "for i in range(1,3):\n",
    "    l.remove(l[i])\n",
    "x=\"\".join(l)\n",
    "x\n",
    "\n",
    "    \n",
    "\n",
    "    \n",
    "    \n"
   ]
  },
  {
   "cell_type": "code",
   "execution_count": 51,
   "metadata": {},
   "outputs": [
    {
     "name": "stdout",
     "output_type": "stream",
     "text": [
      "b\n",
      "d\n"
     ]
    }
   ],
   "source": [
    "l=[\"a\",\"b\",\"c\",\"d\"]\n",
    "n=\"even\"\n",
    "if n==\"even\":\n",
    "    for i in l:\n",
    "        if (l.index(i)+1)%2==0:\n",
    "            return(i)"
   ]
  },
  {
   "cell_type": "code",
   "execution_count": 50,
   "metadata": {},
   "outputs": [
    {
     "name": "stdout",
     "output_type": "stream",
     "text": [
      "1\n",
      "2\n",
      "3\n",
      "4\n"
     ]
    }
   ],
   "source": [
    "l=[\"a\",\"b\",\"c\",\"d\"]\n",
    "for i in l:\n",
    "    print(l.index(i)+1)"
   ]
  },
  {
   "cell_type": "code",
   "execution_count": 55,
   "metadata": {},
   "outputs": [
    {
     "ename": "TypeError",
     "evalue": "'builtin_function_or_method' object is not subscriptable",
     "output_type": "error",
     "traceback": [
      "\u001b[1;31m---------------------------------------------------------------------------\u001b[0m",
      "\u001b[1;31mTypeError\u001b[0m                                 Traceback (most recent call last)",
      "\u001b[1;32m<ipython-input-55-77b8da41b824>\u001b[0m in \u001b[0;36m<module>\u001b[1;34m\u001b[0m\n\u001b[0;32m      1\u001b[0m \u001b[1;32mimport\u001b[0m \u001b[0mmath\u001b[0m\u001b[1;33m\u001b[0m\u001b[1;33m\u001b[0m\u001b[0m\n\u001b[0;32m      2\u001b[0m \u001b[1;32mfrom\u001b[0m \u001b[0mfunctools\u001b[0m \u001b[1;32mimport\u001b[0m \u001b[0mreduce\u001b[0m\u001b[1;33m\u001b[0m\u001b[1;33m\u001b[0m\u001b[0m\n\u001b[1;32m----> 3\u001b[1;33m \u001b[0mmath\u001b[0m\u001b[1;33m.\u001b[0m\u001b[0mgcd\u001b[0m\u001b[1;33m(\u001b[0m\u001b[0mreduce\u001b[0m\u001b[1;33m[\u001b[0m\u001b[1;36m10\u001b[0m\u001b[1;33m,\u001b[0m\u001b[1;36m20\u001b[0m\u001b[1;33m,\u001b[0m\u001b[1;36m30\u001b[0m\u001b[1;33m]\u001b[0m\u001b[1;33m)\u001b[0m\u001b[1;33m\u001b[0m\u001b[1;33m\u001b[0m\u001b[0m\n\u001b[0m",
      "\u001b[1;31mTypeError\u001b[0m: 'builtin_function_or_method' object is not subscriptable"
     ]
    }
   ],
   "source": [
    "import math\n",
    "from functools import reduce\n",
    "math.gcd(reduce[10,20,30])"
   ]
  },
  {
   "cell_type": "code",
   "execution_count": 59,
   "metadata": {},
   "outputs": [
    {
     "data": {
      "text/plain": [
       "10"
      ]
     },
     "execution_count": 59,
     "metadata": {},
     "output_type": "execute_result"
    }
   ],
   "source": [
    "import math\n",
    "from functools import reduce\n",
    "def gcd(l):\n",
    "    x = reduce(math.gcd, l)\n",
    "    return x\n",
    "find_gcd([10,20,30])"
   ]
  },
  {
   "cell_type": "code",
   "execution_count": 75,
   "metadata": {},
   "outputs": [
    {
     "name": "stdout",
     "output_type": "stream",
     "text": [
      "binary and decimal\n",
      "binary\n"
     ]
    }
   ],
   "source": [
    "def binary(num):\n",
    "        return(bin(num).replace(\"0b\",\"\")) \n",
    "\n",
    "def palindrome_type(n):\n",
    "    m=n\n",
    "    m=str(m)\n",
    "    m=m[::-1]\n",
    "    x=int(m)\n",
    "    j=binary(n)\n",
    "    j=int(j)\n",
    "    k=str(j)\n",
    "    k=k[::-1]\n",
    "    k=int(k)\n",
    "    \n",
    "    if x==n and k!=j:\n",
    "        return(\"decimal\")\n",
    "    elif x!=n and k==j:\n",
    "        return(\"binary\")\n",
    "    elif x==n and k==j:\n",
    "        return(\"binary and decimal\")\n",
    "print(palindrome_type(313))\n",
    "print(palindrome_type(427787))\n",
    "    \n",
    "    \n",
    "    \n",
    "    "
   ]
  },
  {
   "cell_type": "code",
   "execution_count": 119,
   "metadata": {},
   "outputs": [
    {
     "name": "stdout",
     "output_type": "stream",
     "text": [
      "102:40:00\n"
     ]
    }
   ],
   "source": [
    "\n",
    "\n",
    "\n",
    "m=0\n",
    "l=s.split(\":\")\n",
    "for i in range(len(l)):\n",
    "    l[i]=int(l[i])\n",
    "\n",
    "l[0]=l[0]*60\n",
    "l[2]=l[2]/60\n",
    "for i in l:\n",
    "    m=m+i\n",
    "t=m/x\n",
    "k = t\n",
    "import time\n",
    "time.strftime('%H:%M:%S', time.gmtime(t)\n",
    "\n",
    "\n",
    "\n",
    "\n",
    "    "
   ]
  },
  {
   "cell_type": "code",
   "execution_count": 104,
   "metadata": {},
   "outputs": [
    {
     "name": "stdout",
     "output_type": "stream",
     "text": [
      "0 40\n"
     ]
    }
   ],
   "source": [
    "x=40\n",
    "hr=x//60\n",
    "minutes=x%60\n",
    "print(hr,minutes)"
   ]
  },
  {
   "cell_type": "code",
   "execution_count": 131,
   "metadata": {},
   "outputs": [
    {
     "name": "stdout",
     "output_type": "stream",
     "text": [
      "[10, 10, 10, 10, 20, 20, 20, 30, 50]\n",
      "10\n",
      "10\n",
      "10\n",
      "20\n",
      "20\n"
     ]
    }
   ],
   "source": [
    "l=[10, 20, 20, 10, 10, 30, 50, 10, 20]\n",
    "l.sort()\n",
    "print(l)\n",
    "for i in range(len(l)-1):\n",
    "    if l[i]==l[i+1]:\n",
    "        print(l[i])"
   ]
  },
  {
   "cell_type": "code",
   "execution_count": 138,
   "metadata": {},
   "outputs": [
    {
     "name": "stdout",
     "output_type": "stream",
     "text": [
      "-23\n"
     ]
    }
   ],
   "source": [
    "s=\"-12 13%14&-11\"\n",
    "k=\"&%@?\"\n",
    "m=[]\n",
    "sum=0\n",
    "for i in s:\n",
    "    if i in k:\n",
    "        s=s.replace(i,\" \")\n",
    "l=s.split(\" \")\n",
    "for i in range(len(l)):\n",
    "     l[i]=int(l[i])\n",
    "for i in l:\n",
    "    if i<0:\n",
    "        m.append(i)\n",
    "for i in m:\n",
    "    sum=sum+i\n",
    "print(sum)\n",
    "    \n"
   ]
  },
  {
   "cell_type": "code",
   "execution_count": 141,
   "metadata": {},
   "outputs": [
    {
     "data": {
      "text/plain": [
       "[['*', '*', '*', '*'],\n",
       " ['*', '*', '*', '*'],\n",
       " ['*', '*', '*', '*'],\n",
       " ['*', '*', '*', '*'],\n",
       " ['*', '*', '*', '*']]"
      ]
     },
     "execution_count": 141,
     "metadata": {},
     "output_type": "execute_result"
    }
   ],
   "source": [
    "r=5\n",
    "c=4\n",
    "l=[]\n",
    "for i in range(5):\n",
    "    k=[]\n",
    "    for j in range(4):\n",
    "        k.append(\"*\")\n",
    "    l.append(k)\n",
    "l"
   ]
  },
  {
   "cell_type": "code",
   "execution_count": 153,
   "metadata": {},
   "outputs": [
    {
     "name": "stdout",
     "output_type": "stream",
     "text": [
      "False\n"
     ]
    }
   ],
   "source": [
    "s=\"fotune favours the bold\"\n",
    "l=s.split(\" \")\n",
    "m=[]\n",
    "l\n",
    "for i in l:\n",
    "    for j in i:\n",
    "        if i.count(j)>1:\n",
    "            m.append(i)\n",
    "if len(m)>0:\n",
    "    print(True)\n",
    "else:\n",
    "    print(False)\n"
   ]
  },
  {
   "cell_type": "code",
   "execution_count": 164,
   "metadata": {},
   "outputs": [
    {
     "name": "stdout",
     "output_type": "stream",
     "text": [
      "o\n",
      "o\n",
      "l\n",
      "l\n"
     ]
    }
   ],
   "source": [
    "s=\"fotune favouros the bod\"\n",
    "l=s.split(\" \")\n",
    "m=[]\n",
    "\n",
    "for i in l:\n",
    "    for j in i:\n",
    "        if i.count(j)>1:\n",
    "            print(j)\n",
    "            m.append(i)\n",
    "\n",
    "            \n",
    "           "
   ]
  },
  {
   "cell_type": "code",
   "execution_count": 214,
   "metadata": {},
   "outputs": [
    {
     "data": {
      "text/plain": [
       "[0, 1, 2, 3, 4, 0]"
      ]
     },
     "execution_count": 214,
     "metadata": {},
     "output_type": "execute_result"
    }
   ],
   "source": [
    "l=[0, 0, 0, 0, 4, 0, 0, 0, 0]\n",
    "x=(len(l)-1)/2\n",
    "for i in range(int(x)):\n",
    "    l[i]=i\n",
    "\n",
    "for i in range(-int(x),-1):\n",
    "    l.pop(i)\n",
    "l\n",
    "    \n",
    "    \n",
    "\n",
    "\n",
    "\n",
    "    \n",
    "\n",
    "\n",
    "\n",
    "\n",
    "\n"
   ]
  },
  {
   "cell_type": "code",
   "execution_count": 200,
   "metadata": {},
   "outputs": [
    {
     "data": {
      "text/plain": [
       "[1, 2, 3, 4]"
      ]
     },
     "execution_count": 200,
     "metadata": {},
     "output_type": "execute_result"
    }
   ],
   "source": [
    "l=[1,2,3,4,5]\n",
    "l.pop(-1)\n",
    "l"
   ]
  },
  {
   "cell_type": "code",
   "execution_count": 222,
   "metadata": {},
   "outputs": [
    {
     "data": {
      "text/plain": [
       "'loves me,loves me not,LOVES ME'"
      ]
     },
     "execution_count": 222,
     "metadata": {},
     "output_type": "execute_result"
    }
   ],
   "source": [
    "def loves_me(n):\n",
    "\n",
    "    a=\"loves me\"\n",
    "    b=\"loves me not\"\n",
    "    m=[]\n",
    "    for i in range(1,n+1):\n",
    "        m.append(a)\n",
    "\n",
    "        a,b=b,a\n",
    "    m[-1]=m[-1].upper()\n",
    "    x=\",\".join(m)\n",
    "    return(x)\n"
   ]
  },
  {
   "cell_type": "code",
   "execution_count": 240,
   "metadata": {},
   "outputs": [
    {
     "data": {
      "text/plain": [
       "['2344b', '332c', '832u32']"
      ]
     },
     "execution_count": 240,
     "metadata": {},
     "output_type": "execute_result"
    }
   ],
   "source": [
    "l=[\"332c\", \"832u32\", \"2344b\"]\n",
    "alphabet\n",
    "l\n",
    "    \n",
    "\n"
   ]
  },
  {
   "cell_type": "code",
   "execution_count": 258,
   "metadata": {},
   "outputs": [
    {
     "data": {
      "text/plain": [
       "'610'"
      ]
     },
     "execution_count": 258,
     "metadata": {},
     "output_type": "execute_result"
    }
   ],
   "source": [
    "def meme_sum(a,b):\n",
    "    a=str(a)\n",
    "    b=str(b)\n",
    "    a=\",\".join(a)\n",
    "    b=\",\".join(b)\n",
    "    a=a.split(\",\")\n",
    "    b=b.split(\",\")\n",
    "    for i in range(len(a)):\n",
    "        a[i]=int(a[i])\n",
    "    for i in range(len(b)):\n",
    "        b[i]=int(b[i])\n",
    "    y=[]\n",
    "    for i in range(len(a)):\n",
    "        y.append(str(a[i]+b[i]))\n",
    "\n",
    "    r=\"\".join(y)\n",
    "    return(r)\n",
    "\n",
    "\n",
    "               \n",
    "               \n"
   ]
  },
  {
   "cell_type": "code",
   "execution_count": 255,
   "metadata": {},
   "outputs": [
    {
     "data": {
      "text/plain": [
       "'1234'"
      ]
     },
     "execution_count": 255,
     "metadata": {},
     "output_type": "execute_result"
    }
   ],
   "source": [
    "l=[1,2,3,4]\n",
    "for i in range(len(l)):\n",
    "    l[i]=str(l[i])\n",
    "    \n",
    "    \n",
    "x=\"\".join(l)\n",
    "x"
   ]
  },
  {
   "cell_type": "code",
   "execution_count": 271,
   "metadata": {},
   "outputs": [
    {
     "data": {
      "text/plain": [
       "13"
      ]
     },
     "execution_count": 271,
     "metadata": {},
     "output_type": "execute_result"
    }
   ],
   "source": [
    "def is_prime(n):\n",
    "    x=0\n",
    "    for i in range(2,n):\n",
    "        if n%i==0:\n",
    "            x=1\n",
    "            break\n",
    "    if x==0:\n",
    "        return(\"prime\")\n",
    "    else:\n",
    "        return(\"nprime\")\n",
    "def next_prime(x):\n",
    "    m=x\n",
    "    while True:\n",
    "        x=x+1\n",
    "        for i in range(2,x):\n",
    "            if x%i==0:\n",
    "                break\n",
    "        else:\n",
    "            if is_prime(m)==\"prime\":\n",
    "                return(m)\n",
    "            else:\n",
    "                return(x)\n",
    "next_prime(13)\n",
    "            \n",
    "            \n"
   ]
  },
  {
   "cell_type": "code",
   "execution_count": 278,
   "metadata": {},
   "outputs": [
    {
     "data": {
      "text/plain": [
       "['b', 'd']"
      ]
     },
     "execution_count": 278,
     "metadata": {},
     "output_type": "execute_result"
    }
   ],
   "source": [
    "def remove_letters(l,s):\n",
    "    for i in s:\n",
    "        if i in l:\n",
    "            l.remove(i)\n",
    "    return(l)\n",
    "remove_letters([\"a\",\"b\",\"b\",\"c\",\"d\"],\"abc\")"
   ]
  },
  {
   "cell_type": "code",
   "execution_count": 323,
   "metadata": {},
   "outputs": [
    {
     "data": {
      "text/plain": [
       "170"
      ]
     },
     "execution_count": 323,
     "metadata": {},
     "output_type": "execute_result"
    }
   ],
   "source": [
    "\n",
    "def sum_dollar(s):\n",
    "    l=s.split(\",\")\n",
    "    k=[]\n",
    "    m=[]\n",
    "    a=\"d\"\n",
    "    s=0\n",
    "    for i in l:\n",
    "        for j in range(len(i)):\n",
    "            if i[j]==\"d\":\n",
    "                k.append(i)\n",
    "    for i in k:\n",
    "        for j in i:\n",
    "            if j in a:\n",
    "                i=i.replace(j,\"\")\n",
    "                m.append(int(i))\n",
    "    for i in m:\n",
    "        s=s+i\n",
    "    return(s)\n",
    "sum_dollar(\"p30,d20,p60,d150\")\n",
    "\n",
    "            \n",
    "            \n",
    "            \n",
    "\n",
    "   \n",
    "   \n",
    "            \n",
    "            \n",
    "          \n",
    "\n",
    "    \n",
    "            \n",
    "            \n",
    "        \n",
    "\n",
    "  \n",
    "    \n",
    "            \n",
    "        "
   ]
  },
  {
   "cell_type": "code",
   "execution_count": 286,
   "metadata": {},
   "outputs": [
    {
     "data": {
      "text/plain": [
       "[[1, 1], [1, 1]]"
      ]
     },
     "execution_count": 286,
     "metadata": {},
     "output_type": "execute_result"
    }
   ],
   "source": [
    "l=[[\"#\",\"#\"],[\"#\",\"#\"]]\n",
    "for i in l:\n",
    "    for j in range(len(i)):\n",
    "        if i[j]==\"#\":\n",
    "            i[j]=1\n",
    "l\n",
    "            \n",
    "    \n",
    "    "
   ]
  },
  {
   "cell_type": "code",
   "execution_count": 315,
   "metadata": {},
   "outputs": [
    {
     "data": {
      "text/plain": [
       "['20', '30']"
      ]
     },
     "execution_count": 315,
     "metadata": {},
     "output_type": "execute_result"
    }
   ],
   "source": [
    "l=[\"d20\",\"d30\"]\n",
    "a=\"d\"\n",
    "m=[]\n",
    "for i in l:\n",
    "    for j in i:\n",
    "        if j in a:\n",
    "            i=i.replace(j,\"\")\n",
    "            m.append(i)\n",
    "m\n",
    "            \n"
   ]
  },
  {
   "cell_type": "code",
   "execution_count": 338,
   "metadata": {},
   "outputs": [
    {
     "data": {
      "text/plain": [
       "[3.0, 3.0, 3.0]"
      ]
     },
     "execution_count": 338,
     "metadata": {},
     "output_type": "execute_result"
    }
   ],
   "source": [
    "l=[4,1,4]\n",
    "mi=min(l)\n",
    "index=l.index(mi)\n",
    "m=[]\n",
    "k=[]\n",
    "s=0\n",
    "k.append(mi)\n",
    "l.remove(mi)\n",
    "for i in l:\n",
    "    m.append(i*75/100)\n",
    "    j=i*25/100\n",
    "\n",
    "    k.append(j)\n",
    "for i in k:\n",
    "    s=s+i\n",
    "m.insert(index,s)\n",
    "m\n",
    "    \n",
    "    \n",
    "\n",
    "\n"
   ]
  },
  {
   "cell_type": "code",
   "execution_count": 337,
   "metadata": {},
   "outputs": [
    {
     "name": "stdout",
     "output_type": "stream",
     "text": [
      "1.0\n",
      "0.25\n",
      "1.0\n"
     ]
    }
   ],
   "source": [
    "l=[4,1,4]\n",
    "for i in l:\n",
    "    print(i*25/100)"
   ]
  },
  {
   "cell_type": "code",
   "execution_count": 354,
   "metadata": {},
   "outputs": [
    {
     "data": {
      "text/plain": [
       "['enp', 'ahis', 'lov']"
      ]
     },
     "execution_count": 354,
     "metadata": {},
     "output_type": "execute_result"
    }
   ],
   "source": [
    "def letters(s,r):\n",
    "    l=[]\n",
    "    k=[]\n",
    "    j=[]\n",
    "    n=[]\n",
    "    for i in s:\n",
    "        if i in r:\n",
    "            l.append(i)\n",
    "    \n",
    "    l=set(l)\n",
    "    l=list(l)\n",
    "    l.sort()\n",
    "    x=\"\".join(l)\n",
    "    k.append(x)\n",
    "    for i in s:\n",
    "        if i not in r:\n",
    "            j.append(i)\n",
    "    \n",
    "    j=set(j)\n",
    "    j=list(j)\n",
    "    j.sort()\n",
    "    b=\"\".join(j)\n",
    "    k.append(b)\n",
    "    for i in r:\n",
    "        if i not in s:\n",
    "            n.append(i)\n",
    "    \n",
    "    n=set(n)\n",
    "    n=list(n)\n",
    "    n.sort()\n",
    "    f=\"\".join(n)\n",
    "    k.append(f)\n",
    "    return(k)\n",
    "letters(\"happiness\",\"envelope\")\n",
    "\n",
    "\n",
    "\n",
    "\n",
    "\n"
   ]
  },
  {
   "cell_type": "markdown",
   "metadata": {},
   "source": [
    "Write a function that pairs the first number in an array with the last, the\n",
    "second number with the second to last, etc."
   ]
  },
  {
   "cell_type": "markdown",
   "metadata": {},
   "source": [
    "Write a function that returns True if a given name can generate an array of\n",
    "words."
   ]
  },
  {
   "cell_type": "code",
   "execution_count": 422,
   "metadata": {},
   "outputs": [
    {
     "ename": "TypeError",
     "evalue": "argument of type 'int' is not iterable",
     "output_type": "error",
     "traceback": [
      "\u001b[1;31m---------------------------------------------------------------------------\u001b[0m",
      "\u001b[1;31mTypeError\u001b[0m                                 Traceback (most recent call last)",
      "\u001b[1;32m<ipython-input-422-aac24a0e693b>\u001b[0m in \u001b[0;36m<module>\u001b[1;34m\u001b[0m\n\u001b[0;32m     17\u001b[0m     \u001b[1;32melse\u001b[0m\u001b[1;33m:\u001b[0m\u001b[1;33m\u001b[0m\u001b[1;33m\u001b[0m\u001b[0m\n\u001b[0;32m     18\u001b[0m         \u001b[1;32mreturn\u001b[0m\u001b[1;33m(\u001b[0m\u001b[1;34m\"false\"\u001b[0m\u001b[1;33m)\u001b[0m\u001b[1;33m\u001b[0m\u001b[1;33m\u001b[0m\u001b[0m\n\u001b[1;32m---> 19\u001b[1;33m \u001b[0managram\u001b[0m\u001b[1;33m(\u001b[0m\u001b[1;34m\"chriss prat\"\u001b[0m\u001b[1;33m,\u001b[0m\u001b[1;33m[\u001b[0m\u001b[1;34m\"chirpes\"\u001b[0m\u001b[1;33m,\u001b[0m\u001b[1;34m\"ratz\"\u001b[0m\u001b[1;33m]\u001b[0m\u001b[1;33m)\u001b[0m\u001b[1;33m\u001b[0m\u001b[1;33m\u001b[0m\u001b[0m\n\u001b[0m",
      "\u001b[1;32m<ipython-input-422-aac24a0e693b>\u001b[0m in \u001b[0;36managram\u001b[1;34m(s, l)\u001b[0m\n\u001b[0;32m      8\u001b[0m     \u001b[1;32mfor\u001b[0m \u001b[0mi\u001b[0m \u001b[1;32min\u001b[0m \u001b[0ml\u001b[0m\u001b[1;33m:\u001b[0m\u001b[1;33m\u001b[0m\u001b[1;33m\u001b[0m\u001b[0m\n\u001b[0;32m      9\u001b[0m         \u001b[1;32mfor\u001b[0m \u001b[0mj\u001b[0m \u001b[1;32min\u001b[0m \u001b[0mi\u001b[0m\u001b[1;33m:\u001b[0m\u001b[1;33m\u001b[0m\u001b[1;33m\u001b[0m\u001b[0m\n\u001b[1;32m---> 10\u001b[1;33m             \u001b[1;32mif\u001b[0m \u001b[0mj\u001b[0m \u001b[1;32mnot\u001b[0m \u001b[1;32min\u001b[0m \u001b[0ma\u001b[0m\u001b[1;33m:\u001b[0m\u001b[1;33m\u001b[0m\u001b[1;33m\u001b[0m\u001b[0m\n\u001b[0m\u001b[0;32m     11\u001b[0m                 \u001b[0mx\u001b[0m\u001b[1;33m=\u001b[0m\u001b[1;36m1\u001b[0m\u001b[1;33m\u001b[0m\u001b[1;33m\u001b[0m\u001b[0m\n\u001b[0;32m     12\u001b[0m                 \u001b[1;32mbreak\u001b[0m\u001b[1;33m\u001b[0m\u001b[1;33m\u001b[0m\u001b[0m\n",
      "\u001b[1;31mTypeError\u001b[0m: argument of type 'int' is not iterable"
     ]
    }
   ],
   "source": [
    "def anagram(s,l):\n",
    "   \n",
    "    s=s.lower()\n",
    "    s=s.replace(\" \",\"\")\n",
    "    m=s\n",
    "    b=\"\".join(l)\n",
    "    x=0\n",
    "    for i in l:\n",
    "        for j in i:\n",
    "            if j not in a:\n",
    "                x=1\n",
    "                break\n",
    "    if len(b)!=len(s):\n",
    "        return(\"false\")\n",
    "    elif x==0:\n",
    "        return(\"true\")\n",
    "    else:\n",
    "        return(\"false\")\n",
    "anagram(\"chriss prat\",[\"chirpes\",\"ratz\"])\n"
   ]
  },
  {
   "cell_type": "code",
   "execution_count": 391,
   "metadata": {},
   "outputs": [
    {
     "name": "stdout",
     "output_type": "stream",
     "text": [
      "true\n"
     ]
    },
    {
     "data": {
      "text/plain": [
       "['injures', 'ebb', 'it']"
      ]
     },
     "execution_count": 391,
     "metadata": {},
     "output_type": "execute_result"
    }
   ],
   "source": [
    "s=\"Justin beiber\"\n",
    "s=s=s.lower()\n",
    "s=s.replace(\" \",\"\")\n",
    "l=[\"injures\",\"ebb\",\"it\"]\n",
    "x=\"\".join(l)\n",
    "len(x)\n",
    "len(s)    \n",
    "if len(x)==len(s):\n",
    "    print(\"true\")\n",
    "l"
   ]
  },
  {
   "cell_type": "code",
   "execution_count": 418,
   "metadata": {},
   "outputs": [
    {
     "name": "stdout",
     "output_type": "stream",
     "text": [
      "([1, 2],)\n",
      "([3, 6],)\n",
      "([1, 2],)\n"
     ]
    }
   ],
   "source": [
    "\n",
    "l=[[1,2],[3,6],[1,2]]\n",
    "zip(l)\n",
    "for i in zip(l):\n",
    "    print(i)"
   ]
  },
  {
   "cell_type": "code",
   "execution_count": 421,
   "metadata": {},
   "outputs": [
    {
     "data": {
      "text/plain": [
       "[2, 4, 4, 8]"
      ]
     },
     "execution_count": 421,
     "metadata": {},
     "output_type": "execute_result"
    }
   ],
   "source": [
    "l=[1,2,3,4,4,5,7,8]\n",
    "list(filter(lambda x:x%2==0,l))"
   ]
  },
  {
   "cell_type": "code",
   "execution_count": 445,
   "metadata": {},
   "outputs": [
    {
     "data": {
      "text/plain": [
       "[{'name': 'c', 'score': 115, 'reputation': 30},\n",
       " {'name': 'b', 'score': 90, 'reputation': 40},\n",
       " {'name': 'a', 'score': 100, 'reputation': 20}]"
      ]
     },
     "execution_count": 445,
     "metadata": {},
     "output_type": "execute_result"
    }
   ],
   "source": [
    "def scorer(l):\n",
    "\n",
    "    for i in l:\n",
    "        i[\"truevalue\"]=i[\"score\"]+i[\"reputation\"]*2\n",
    "    a=sorted(l,key=lambda x:x[\"truevalue\"],reverse=True)\n",
    "    for i in l:\n",
    "        i.popitem()\n",
    "    return(a)\n",
    "scorer([{ \"name\":\"a\",\"score\":100, \"reputation\": 20 },\n",
    "{\"name\": \"b\",\"score\": 90,\"reputation\": 40 },\n",
    "{ \"name\":\"c\", \"score\": 115, \"reputation\": 30 }])\n",
    "\n"
   ]
  },
  {
   "cell_type": "code",
   "execution_count": 436,
   "metadata": {},
   "outputs": [
    {
     "data": {
      "text/plain": [
       "('true values', 170)"
      ]
     },
     "execution_count": 436,
     "metadata": {},
     "output_type": "execute_result"
    }
   ],
   "source": [
    "d={\"name\": \"b\",\"score\": 90,\"reputation\": 40 }\n",
    "d[\"true values\"]=d[\"score\"]+d[\"reputation\"]*2\n",
    "d.popitem()"
   ]
  },
  {
   "cell_type": "code",
   "execution_count": 451,
   "metadata": {},
   "outputs": [
    {
     "data": {
      "text/plain": [
       "'tr--'"
      ]
     },
     "execution_count": 451,
     "metadata": {},
     "output_type": "execute_result"
    }
   ],
   "source": [
    "def hangman(s,l):\n",
    "    for i in s:\n",
    "        if i not in l:\n",
    "            s=s.replace(i,\"-\")\n",
    "    return(s)\n",
    "hangman(\"tree\",[\"r\",\"t\"])"
   ]
  },
  {
   "cell_type": "code",
   "execution_count": 7,
   "metadata": {},
   "outputs": [
    {
     "name": "stdout",
     "output_type": "stream",
     "text": [
      "[32, 16, 8, 4, 2]\n"
     ]
    }
   ],
   "source": [
    "def collatz(n):\n",
    "    while n!=1:\n",
    "        if n%2==0:\n",
    "\n",
    "            l.append(int(n))\n",
    "            n=n/2\n",
    "\n",
    "\n",
    "        else:\n",
    "\n",
    "            l.append(int(n))\n",
    "            n=n*3+1\n",
    "\n",
    "\n",
    "    print(max(l))\n",
    "    "
   ]
  },
  {
   "cell_type": "code",
   "execution_count": 3,
   "metadata": {},
   "outputs": [
    {
     "name": "stdout",
     "output_type": "stream",
     "text": [
      "45\n"
     ]
    }
   ],
   "source": [
    "\n",
    "i=1\n",
    "s=0\n",
    "\n",
    "while i<10:\n",
    "    s=s+i\n",
    "    i=i+1\n",
    "print(s)\n",
    "    "
   ]
  },
  {
   "cell_type": "code",
   "execution_count": 28,
   "metadata": {},
   "outputs": [
    {
     "name": "stdout",
     "output_type": "stream",
     "text": [
      "['I have a cat', ' I have a mat', ' Things are going swell', '']\n",
      "['I have a cat', ' I have a mat', ' Things are going swell', '']\n",
      "['I have a cat', ' I have a mat', ' Things are going swell', '']\n",
      "['I have a cat', ' I have a mat', ' Things are going swell', '']\n"
     ]
    }
   ],
   "source": [
    "\n",
    "    \n",
    "  \n",
    "        \n",
    "    \n",
    "\n",
    "    "
   ]
  },
  {
   "cell_type": "code",
   "execution_count": 58,
   "metadata": {},
   "outputs": [
    {
     "name": "stdout",
     "output_type": "stream",
     "text": [
      "I have a cat\n",
      "i have a mat\n"
     ]
    }
   ],
   "source": [
    "def sentence_searcher(s,m):\n",
    "    k\n",
    "    m=m.lower()\n",
    "    l=s.split(\".\")\n",
    "    for i in l: \n",
    "        if m in i:\n",
    "            return(i)\n",
    "    \n",
    "text=\"I have a cat.i have a mat.things are going well\"\n",
    "print(sentence_searcher(text,\"have\"))\n",
    "print(sentence_searcher(text,\"MAT\"))"
   ]
  },
  {
   "cell_type": "code",
   "execution_count": 35,
   "metadata": {},
   "outputs": [
    {
     "name": "stdout",
     "output_type": "stream",
     "text": [
      "a\n",
      "b\n",
      "d\n"
     ]
    }
   ],
   "source": [
    "a=\"abcdef\"\n",
    "j=\"abd\"\n",
    "for i in a:\n",
    "    if i in j:\n",
    "        print(i)"
   ]
  },
  {
   "cell_type": "code",
   "execution_count": 51,
   "metadata": {},
   "outputs": [
    {
     "data": {
      "text/plain": [
       "'abc'"
      ]
     },
     "execution_count": 51,
     "metadata": {},
     "output_type": "execute_result"
    }
   ],
   "source": [
    "m=\"ABC\"\n",
    "m=m.lower()\n",
    "m"
   ]
  },
  {
   "cell_type": "code",
   "execution_count": 64,
   "metadata": {},
   "outputs": [
    {
     "data": {
      "text/plain": [
       "'4'"
      ]
     },
     "execution_count": 64,
     "metadata": {},
     "output_type": "execute_result"
    }
   ],
   "source": [
    "a=1234\n",
    "x=a/10\n",
    "x=str(x)\n",
    "x=x[-1]\n",
    "x"
   ]
  },
  {
   "cell_type": "code",
   "execution_count": 72,
   "metadata": {},
   "outputs": [
    {
     "data": {
      "text/plain": [
       "[[1, 2, 3, 4, 5],\n",
       " [2, 4, 6, 8, 10],\n",
       " [3, 6, 9, 12, 15],\n",
       " [4, 8, 12, 16, 20],\n",
       " [5, 10, 15, 20, 25]]"
      ]
     },
     "execution_count": 72,
     "metadata": {},
     "output_type": "execute_result"
    }
   ],
   "source": [
    "def multiplication(n):\n",
    "    \n",
    "    l=[]\n",
    "    for i in range(1,n+1):\n",
    "        \n",
    "        m=[]\n",
    "        for j in range(1,n+1):\n",
    "            m.append(i*j)\n",
    "        l.append(m)\n",
    "    return(l)\n",
    "multiplication(5)\n",
    "\n",
    "    "
   ]
  },
  {
   "cell_type": "markdown",
   "metadata": {},
   "source": [
    "Create a function that determines whether a string is a valid hex code.\n",
    "A hex code must begin with a pound key # and is exactly 6 characters in\n",
    "length. Each character must be a digit from 0-9 or an alphabetic character\n",
    "from A-F. All alphabetic characters may be uppercase or lowercase."
   ]
  },
  {
   "cell_type": "code",
   "execution_count": 57,
   "metadata": {},
   "outputs": [
    {
     "name": "stdout",
     "output_type": "stream",
     "text": [
      "True\n",
      "False\n"
     ]
    }
   ],
   "source": [
    "def  is_valid_hex(a):\n",
    "    x=0\n",
    "    b=\"abcdef\"\n",
    "    if len(a)!=7:\n",
    "        x=1\n",
    "    elif a[0]!=\"#\":\n",
    "        x=2\n",
    "    else:\n",
    "        for i in a:\n",
    "            if i==\"#\":\n",
    "                continue\n",
    "            else:\n",
    "                if i.isdigit()==False and i.isalpha()==False:\n",
    "                    x=3\n",
    "    for i in a:\n",
    "        if i.isalpha()==True:\n",
    "            if i not in b:\n",
    "                x=4\n",
    "    if x==1:\n",
    "        return(False)\n",
    "    elif x==2:\n",
    "        return(False)\n",
    "    elif x==3:\n",
    "        return(False)\n",
    "    elif x==4:\n",
    "        return(False)\n",
    "    elif x==0:\n",
    "        return(True)\n",
    "print(is_valid_hex(\"#d5a5c2\"))\n",
    "print(is_valid_hex(\"ad5c5c2\"))\n",
    "        \n",
    "        \n"
   ]
  },
  {
   "cell_type": "code",
   "execution_count": 24,
   "metadata": {},
   "outputs": [
    {
     "name": "stdout",
     "output_type": "stream",
     "text": [
      "true\n"
     ]
    }
   ],
   "source": [
    "a=\"#cd5c5c\"\n",
    "if a[0]==\"#\":\n",
    "    print(\"true\")\n"
   ]
  },
  {
   "cell_type": "code",
   "execution_count": 59,
   "metadata": {},
   "outputs": [
    {
     "ename": "ValueError",
     "evalue": "invalid literal for int() with base 10: '2+2=4'",
     "output_type": "error",
     "traceback": [
      "\u001b[1;31m---------------------------------------------------------------------------\u001b[0m",
      "\u001b[1;31mValueError\u001b[0m                                Traceback (most recent call last)",
      "\u001b[1;32m<ipython-input-59-ea512a4fc767>\u001b[0m in \u001b[0;36m<module>\u001b[1;34m\u001b[0m\n\u001b[1;32m----> 1\u001b[1;33m \u001b[0mint\u001b[0m\u001b[1;33m(\u001b[0m\u001b[1;34m\"2+2=4\"\u001b[0m\u001b[1;33m)\u001b[0m\u001b[1;33m\u001b[0m\u001b[1;33m\u001b[0m\u001b[0m\n\u001b[0m",
      "\u001b[1;31mValueError\u001b[0m: invalid literal for int() with base 10: '2+2=4'"
     ]
    }
   ],
   "source": [
    "int(\"2+2=4\")"
   ]
  },
  {
   "cell_type": "code",
   "execution_count": 98,
   "metadata": {},
   "outputs": [
    {
     "name": "stdout",
     "output_type": "stream",
     "text": [
      "[-20, 40]\n",
      "[200, 10500]\n"
     ]
    }
   ],
   "source": [
    "def robot(l):\n",
    "    a=\"right \"\n",
    "    b=\"left \"\n",
    "    c=\"up \"\n",
    "    d=\"down \"\n",
    "    right=[]\n",
    "    left=[]\n",
    "    up =[]\n",
    "    down=[]\n",
    "    ri=[]\n",
    "    lef=[]\n",
    "    do=[]\n",
    "    upp=[]\n",
    "    final=[]\n",
    "    r=0\n",
    "    u=0\n",
    "    di=0\n",
    "    le=0\n",
    "    for i in l:\n",
    "        if a in i:\n",
    "            i=i.replace(a,\"\")\n",
    "            right.append(int(i))\n",
    "    for i in l:\n",
    "        if b in i:\n",
    "            i=i.replace(b,\"\")\n",
    "            left.append(int(i))\n",
    "    for i in l:\n",
    "        if c in i:\n",
    "            i=i.replace(c,\"\")\n",
    "            up.append(int(i))\n",
    "    for i in l:\n",
    "        if d in i:\n",
    "            i=i.replace(d,\"\")\n",
    "            down.append(int(i))\n",
    "    for i in right:\n",
    "        r=r+i\n",
    "    ri.append(r)\n",
    "    for i in left:\n",
    "        le=le+i\n",
    "    lef.append(le)\n",
    "    for i in up:\n",
    "        u=u+i\n",
    "    upp.append(u)\n",
    "    for i in down:\n",
    "        di=di+i\n",
    "    do.append(di)\n",
    "    final.append(ri[0]-lef[0])\n",
    "    final.append(upp[0]-do[0])\n",
    "    return(final)\n",
    "print(robot([\"right 10\",\"up 50\",\"left 30\",\"down 10\"]))\n",
    "print(robot([\"right 100\",\"right 100\",\"up 500\",\"up 10000\"]))\n",
    "\n",
    "    \n",
    "    \n",
    "        \n",
    "\n"
   ]
  },
  {
   "cell_type": "markdown",
   "metadata": {},
   "source": [
    "Write a function that will return the longest word in a sentence. In cases\n",
    "where more than one word is found, return the first one."
   ]
  },
  {
   "cell_type": "code",
   "execution_count": 131,
   "metadata": {},
   "outputs": [
    {
     "data": {
      "text/plain": [
       "'forever'"
      ]
     },
     "execution_count": 131,
     "metadata": {},
     "output_type": "execute_result"
    }
   ],
   "source": [
    "def longest_word(s):\n",
    "    l=s.split(\" \")\n",
    "    longest=l[0]\n",
    "    m=[]\n",
    "    for i in l:\n",
    "        if len(i)>len(longest):\n",
    "            longest=i\n",
    "    return(longest)\n",
    "longest_word(\"a thing of beauty is joy forever\")\n",
    "\n",
    "    \n",
    "\n",
    "    "
   ]
  },
  {
   "cell_type": "code",
   "execution_count": 138,
   "metadata": {},
   "outputs": [
    {
     "name": "stdout",
     "output_type": "stream",
     "text": [
      "5\n",
      "6\n"
     ]
    }
   ],
   "source": [
    "l=[1,2,3,4,5,6]\n",
    "largest=l[0]\n",
    "s=l[0]\n",
    "for i in l:\n",
    "    if i>largest:\n",
    "        largest=i\n",
    "for i in l:\n",
    "    if s<i<largest:\n",
    "        s=i\n",
    "print(s)\n",
    "print(largest)"
   ]
  },
  {
   "cell_type": "code",
   "execution_count": 139,
   "metadata": {},
   "outputs": [
    {
     "name": "stdout",
     "output_type": "stream",
     "text": [
      "1\n"
     ]
    }
   ],
   "source": [
    "l=[1,2,3,4,5]\n",
    "j=[1,7,8,9,]\n",
    "for i in l:\n",
    "    if i in j:\n",
    "        print(i)\n"
   ]
  },
  {
   "cell_type": "code",
   "execution_count": 153,
   "metadata": {},
   "outputs": [
    {
     "data": {
      "text/plain": [
       "{'abd': 'abc'}"
      ]
     },
     "execution_count": 153,
     "metadata": {},
     "output_type": "execute_result"
    }
   ],
   "source": [
    "l=[\"salad\",\"($1.99)\",\"abc\",\"($123)\"]\n",
    "d={}\n",
    "for i in range(3):\n",
    "    d[\"abd\"]=l[i]\n",
    "d\n",
    "\n",
    "\n",
    "    \n",
    "\n"
   ]
  },
  {
   "cell_type": "code",
   "execution_count": 140,
   "metadata": {},
   "outputs": [
    {
     "data": {
      "text/plain": [
       "[1, 2, 2, 3]"
      ]
     },
     "execution_count": 140,
     "metadata": {},
     "output_type": "execute_result"
    }
   ],
   "source": [
    "l=[[1,2],[2,3]]\n",
    "sum(l,[])"
   ]
  },
  {
   "cell_type": "code",
   "execution_count": 177,
   "metadata": {},
   "outputs": [
    {
     "data": {
      "text/plain": [
       "[['A', 'B', 'A', 'B'],\n",
       " ['A', 'B', 'A', 'B'],\n",
       " ['A', 'B', 'A', 'B'],\n",
       " ['A', 'B', 'A', 'B']]"
      ]
     },
     "execution_count": 177,
     "metadata": {},
     "output_type": "execute_result"
    }
   ],
   "source": [
    "def checker_board(a,b,c):\n",
    "    l=[]\n",
    "    if b==c:\n",
    "        print(\"invalid\")\n",
    "    else:\n",
    "        for i in range(a):\n",
    "            m=[]\n",
    "            for j in range(a):\n",
    "                m.append(b)\n",
    "                b,c=c,b\n",
    "            l.append(m)\n",
    "    return(l)\n",
    "checker_board(4,\"A\",\"B\")\n",
    "        "
   ]
  },
  {
   "cell_type": "code",
   "execution_count": null,
   "metadata": {},
   "outputs": [],
   "source": []
  },
  {
   "cell_type": "code",
   "execution_count": 156,
   "metadata": {},
   "outputs": [
    {
     "data": {
      "text/plain": [
       "[12, 3, 4, 5, 2, 3]"
      ]
     },
     "execution_count": 156,
     "metadata": {},
     "output_type": "execute_result"
    }
   ],
   "source": [
    "l=[12,3,4,5]\n",
    "l.extend([2,3])\n",
    "l"
   ]
  },
  {
   "cell_type": "code",
   "execution_count": 192,
   "metadata": {},
   "outputs": [
    {
     "data": {
      "text/plain": [
       "4"
      ]
     },
     "execution_count": 192,
     "metadata": {},
     "output_type": "execute_result"
    }
   ],
   "source": [
    "def prime_upto(n):\n",
    "\n",
    "    l=[]\n",
    "    for i in range(2,n):\n",
    "        x=0\n",
    "        for j in range(2,i):\n",
    "            if i%j==0:\n",
    "                x=1\n",
    "                break\n",
    "        if x==0:\n",
    "            l.append(i)\n",
    "    return(len(l))\n",
    "prime_upto(10)\n",
    "\n",
    "\n",
    "        \n",
    "        "
   ]
  },
  {
   "cell_type": "code",
   "execution_count": 194,
   "metadata": {},
   "outputs": [
    {
     "ename": "AttributeError",
     "evalue": "'list' object has no attribute 'split'",
     "output_type": "error",
     "traceback": [
      "\u001b[1;31m---------------------------------------------------------------------------\u001b[0m",
      "\u001b[1;31mAttributeError\u001b[0m                            Traceback (most recent call last)",
      "\u001b[1;32m<ipython-input-194-830e26b5fece>\u001b[0m in \u001b[0;36m<module>\u001b[1;34m\u001b[0m\n\u001b[0;32m      1\u001b[0m \u001b[0ma\u001b[0m\u001b[1;33m=\u001b[0m\u001b[1;33m[\u001b[0m\u001b[1;34m\"Adrian\"\u001b[0m\u001b[1;33m]\u001b[0m\u001b[1;33m\u001b[0m\u001b[1;33m\u001b[0m\u001b[0m\n\u001b[0;32m      2\u001b[0m \u001b[0mb\u001b[0m\u001b[1;33m=\u001b[0m\u001b[1;33m[\u001b[0m\u001b[1;34m\"Abc Agr\"\u001b[0m\u001b[1;33m]\u001b[0m\u001b[1;33m\u001b[0m\u001b[1;33m\u001b[0m\u001b[0m\n\u001b[1;32m----> 3\u001b[1;33m \u001b[0mb\u001b[0m\u001b[1;33m=\u001b[0m\u001b[0mb\u001b[0m\u001b[1;33m.\u001b[0m\u001b[0msplit\u001b[0m\u001b[1;33m(\u001b[0m\u001b[1;34m\" \"\u001b[0m\u001b[1;33m)\u001b[0m\u001b[1;33m\u001b[0m\u001b[1;33m\u001b[0m\u001b[0m\n\u001b[0m\u001b[0;32m      4\u001b[0m \u001b[1;32mif\u001b[0m \u001b[0ma\u001b[0m\u001b[1;33m[\u001b[0m\u001b[1;36m0\u001b[0m\u001b[1;33m]\u001b[0m\u001b[1;33m==\u001b[0m\u001b[0mb\u001b[0m\u001b[1;33m[\u001b[0m\u001b[1;36m0\u001b[0m\u001b[1;33m]\u001b[0m\u001b[1;33m[\u001b[0m\u001b[1;36m0\u001b[0m\u001b[1;33m]\u001b[0m \u001b[1;32mand\u001b[0m \u001b[0mb\u001b[0m\u001b[1;33m[\u001b[0m\u001b[1;36m1\u001b[0m\u001b[1;33m]\u001b[0m\u001b[1;33m[\u001b[0m\u001b[1;36m0\u001b[0m\u001b[1;33m]\u001b[0m\u001b[1;33m:\u001b[0m\u001b[1;33m\u001b[0m\u001b[1;33m\u001b[0m\u001b[0m\n\u001b[0;32m      5\u001b[0m     \u001b[0mprint\u001b[0m\u001b[1;33m(\u001b[0m\u001b[1;34m\"true\"\u001b[0m\u001b[1;33m)\u001b[0m\u001b[1;33m\u001b[0m\u001b[1;33m\u001b[0m\u001b[0m\n",
      "\u001b[1;31mAttributeError\u001b[0m: 'list' object has no attribute 'split'"
     ]
    }
   ],
   "source": [
    "a=[\"Adrian\"]\n",
    "b=[\"Abc Agr\"]\n",
    "(\" \")\n",
    "if a[0]==b[0][0] and b[1][0]:\n",
    "    print(\"true\")"
   ]
  },
  {
   "cell_type": "code",
   "execution_count": 224,
   "metadata": {},
   "outputs": [
    {
     "data": {
      "text/plain": [
       "\"<pclass='one two three'></p>\""
      ]
     },
     "execution_count": 224,
     "metadata": {},
     "output_type": "execute_result"
    }
   ],
   "source": [
    "def secret(s):\n",
    "    for i in s:\n",
    "        s=s.replace(\"p.\",\"\")\n",
    "    l=s.split(\".\")\n",
    "    x=\" \".join(l)\n",
    "    d=\"<pclass='{}'></p>\".format(x)\n",
    "    return(d)\n",
    "secret(\"p.one.two.three\")"
   ]
  },
  {
   "cell_type": "code",
   "execution_count": 208,
   "metadata": {},
   "outputs": [
    {
     "data": {
      "text/plain": [
       "'my name is 2'"
      ]
     },
     "execution_count": 208,
     "metadata": {},
     "output_type": "execute_result"
    }
   ],
   "source": [
    "a=2\n"
   ]
  },
  {
   "cell_type": "code",
   "execution_count": 251,
   "metadata": {},
   "outputs": [
    {
     "name": "stdout",
     "output_type": "stream",
     "text": [
      "1\n",
      "0\n"
     ]
    }
   ],
   "source": [
    "def loneones(a):\n",
    "    a=str(a)\n",
    "    count=0\n",
    "    if a.count(\"1\")==2:\n",
    "        return(2)\n",
    "    elif a.count(\"1\")%2==0:\n",
    "        return(0)\n",
    "    else:\n",
    "        return(count+1)\n",
    "print(loneones(11111))\n",
    "print(loneones(542))"
   ]
  },
  {
   "cell_type": "code",
   "execution_count": 258,
   "metadata": {},
   "outputs": [
    {
     "data": {
      "text/plain": [
       "[[0, 3], [1, 4], [2]]"
      ]
     },
     "execution_count": 258,
     "metadata": {},
     "output_type": "execute_result"
    }
   ],
   "source": [
    "a=3\n",
    "b=5\n",
    "l=[]\n",
    "for i in range(a):\n",
    "    m=[]\n",
    "    for j in range(i,b,a):\n",
    "        m.append(j)\n",
    "    l.append(m)\n",
    "l"
   ]
  },
  {
   "cell_type": "code",
   "execution_count": 264,
   "metadata": {},
   "outputs": [
    {
     "data": {
      "text/plain": [
       "[[2], [3], [4], [3], [4], [5], [4], [5], [6], [5], [6], [7]]"
      ]
     },
     "execution_count": 264,
     "metadata": {},
     "output_type": "execute_result"
    }
   ],
   "source": []
  },
  {
   "cell_type": "code",
   "execution_count": 285,
   "metadata": {},
   "outputs": [
    {
     "name": "stdout",
     "output_type": "stream",
     "text": [
      "[1, 4, 7, 10, 13, 16]\n",
      "[2, 5, 8, 11, 14, 17]\n",
      "[3, 6, 9, 12, 15, 18]\n"
     ]
    }
   ],
   "source": [
    "def next_line(l):\n",
    "    for i in l:\n",
    "        print(i)\n",
    "def pointgrid(a,b):\n",
    "    l=[]\n",
    "    for i in range(1,a+1):\n",
    "        m=[]\n",
    "        for j in range(b):\n",
    "            m.append(i+a*j)\n",
    "\n",
    "        l.append(m)\n",
    "    return(l)\n",
    "next_line(pointgrid(3,6))"
   ]
  },
  {
   "cell_type": "code",
   "execution_count": 283,
   "metadata": {},
   "outputs": [
    {
     "name": "stdout",
     "output_type": "stream",
     "text": [
      "[1, 4, 7, 10, 13]\n",
      "[2, 5, 8, 11, 14]\n",
      "[3, 6, 9, 12, 15]\n"
     ]
    }
   ],
   "source": [
    "l=[]\n",
    "for i in range(1,a+1):\n",
    "    m=[]\n",
    "    for j in range(b):\n",
    "        m.append(i+a*j)\n",
    "    l.append(m)\n",
    "def ab(l):\n",
    "    for i in l:\n",
    "        print(i)\n",
    "ab(l)"
   ]
  },
  {
   "cell_type": "code",
   "execution_count": 298,
   "metadata": {},
   "outputs": [
    {
     "data": {
      "text/plain": [
       "8"
      ]
     },
     "execution_count": 298,
     "metadata": {},
     "output_type": "execute_result"
    }
   ],
   "source": [
    "def smallest_no(l):\n",
    "    \n",
    "    a=[1,2,3,4,5,6,7,8,9,10]\n",
    "    l.sort()\n",
    "    for i in a:\n",
    "        if i not in l:\n",
    "            return(i)\n",
    "smallest_no([-2, 6, 4, 5, 7, -1, 1, 3, 6, -2, 9, 10, 2, 2])\n"
   ]
  },
  {
   "cell_type": "code",
   "execution_count": 334,
   "metadata": {},
   "outputs": [
    {
     "data": {
      "text/plain": [
       "['Batman', 'Spider-Man']"
      ]
     },
     "execution_count": 334,
     "metadata": {},
     "output_type": "execute_result"
    }
   ],
   "source": [
    "def pizza_points(d,a,b):\n",
    "    count=0\n",
    "    l=[]\n",
    "    for i in d.items():\n",
    "        for j in i[1] :\n",
    "            if j>b:\n",
    "                count=count+1\n",
    "        if count>a:\n",
    "            l.append(i[0])\n",
    "    return(l)\n",
    "    \n",
    "pizza_points( {\n",
    "\"Batman\": [22, 30, 11, 22, 22, 52, 27, 12],\n",
    "\"Spider-Man\": [5, 17, 30, 33, 40, 22, 26, 10, 11, 45]\n",
    "},5,20)\n",
    "        \n",
    " \n",
    "        \n",
    "        "
   ]
  },
  {
   "cell_type": "code",
   "execution_count": 330,
   "metadata": {},
   "outputs": [
    {
     "name": "stdout",
     "output_type": "stream",
     "text": [
      "2\n"
     ]
    }
   ],
   "source": [
    "\n",
    "def countsame(s):\n",
    "    s=s.lower()\n",
    "    l=s.split(\" \")\n",
    "    count=0\n",
    "    for i in l:\n",
    "        if i[0]==i[-1]:\n",
    "            count=count+1\n",
    "    print(count)"
   ]
  },
  {
   "cell_type": "code",
   "execution_count": 343,
   "metadata": {},
   "outputs": [
    {
     "data": {
      "text/plain": [
       "'zyx'"
      ]
     },
     "execution_count": 343,
     "metadata": {},
     "output_type": "execute_result"
    }
   ],
   "source": [
    "def atbish_cipher(s):\n",
    "    d={'A' : 'Z', 'B' : 'Y', 'C' : 'X', 'D' : 'W', 'E' : 'V',\n",
    "            'F' : 'U', 'G' : 'T', 'H' : 'S', 'I' : 'R', 'J' : 'Q',\n",
    "            'K' : 'P', 'L' : 'O', 'M' : 'N', 'N' : 'M', 'O' : 'L',\n",
    "            'P' : 'K', 'Q' : 'J', 'R' : 'I', 'S' : 'H', 'T' : 'G',\n",
    "            'U' : 'F', 'V' : 'E', 'W' : 'D', 'X' : 'C', 'Y' : 'B', 'Z' : 'A'}\n",
    "\n",
    "    s=s.upper()\n",
    "    for i in s:\n",
    "        if i in d.keys():\n",
    "            s=s.replace(i,d[i])\n",
    "    return(s.lower())\n",
    "atbish_cipher(\"abc\")\n",
    "\n",
    "  "
   ]
  },
  {
   "cell_type": "code",
   "execution_count": 365,
   "metadata": {},
   "outputs": [
    {
     "data": {
      "text/plain": [
       "5000"
      ]
     },
     "execution_count": 365,
     "metadata": {},
     "output_type": "execute_result"
    }
   ],
   "source": [
    "class employee:\n",
    "    salary=5000\n",
    "    \n",
    "    def __init__(self,name,*args,**kwargs):\n",
    "        self.name=name\n",
    "a=employee(\"jay\")\n",
    "a.salary\n",
    "b=employee(\"jay\",salary=6000)\n",
    "b.salary\n",
    "    \n",
    "        \n",
    "        \n",
    "\n",
    "\n",
    "        \n",
    "    "
   ]
  },
  {
   "cell_type": "code",
   "execution_count": 368,
   "metadata": {},
   "outputs": [
    {
     "data": {
      "text/plain": [
       "[100, 200]"
      ]
     },
     "execution_count": 368,
     "metadata": {},
     "output_type": "execute_result"
    }
   ],
   "source": [
    "class smoothie:\n",
    "    def __init__(self,ingredients):\n",
    "        self.ingredients=ingredients\n",
    "a=smoothie([100,200])\n",
    "a.ingredients\n"
   ]
  },
  {
   "cell_type": "code",
   "execution_count": 2,
   "metadata": {},
   "outputs": [
    {
     "name": "stdout",
     "output_type": "stream",
     "text": [
      "9\n"
     ]
    }
   ],
   "source": [
    "a=5\n",
    "b=4\n",
    "l=[a,b]\n",
    "\n",
    "s=0\n",
    "for i in l:\n",
    "    s=s+i\n",
    "print(s)"
   ]
  },
  {
   "cell_type": "code",
   "execution_count": 17,
   "metadata": {},
   "outputs": [
    {
     "data": {
      "text/plain": [
       "[0.5, 2.5]"
      ]
     },
     "execution_count": 17,
     "metadata": {},
     "output_type": "execute_result"
    }
   ],
   "source": [
    "d={\"Banana\":\"0.5\",\"Mango\":\"2.5\",\"Blueberries\":\"1\",\"Raspberries\":\"1\",\"Apple\":\"1.75\",\"Pineapple\":\"3.5\"}\n",
    "l=[\"Banana\",\"Mango\",\"\"]\n",
    "m=[]\n",
    "for i in l:\n",
    "    if i in d.keys():\n",
    "        i=i.replace(i,d[i])\n",
    "        m.append(float(i))\n",
    "for i \n",
    "\n"
   ]
  },
  {
   "cell_type": "code",
   "execution_count": 41,
   "metadata": {},
   "outputs": [
    {
     "name": "stdout",
     "output_type": "stream",
     "text": [
      "bluebery raspbery raspbery strawbery apple banana fusion\n"
     ]
    }
   ],
   "source": [
    "l=[\"banana\",\"strawberries\",\"apple\",\"blueberries\",\"raspberries\",\"raspberries\"]\n",
    "a=\"berries\"\n",
    "x=[\"raspberries\",\"blueberries\",\"strawberries\"]\n",
    "m=[]\n",
    "l.sort()\n",
    "for i in l:\n",
    "    if a in i:\n",
    "        i=i.replace(a,\"bery\")\n",
    "        m.append(i)\n",
    "for i in l:\n",
    "    if i not in x:\n",
    "        m.append(i)\n",
    "if len(m)==1:\n",
    "    m.append(\"smoothie\")\n",
    "    x=\" \".join(m)\n",
    "    print(x)\n",
    "else:\n",
    "    m.append(\"fusion\")\n",
    "    x=\" \".join(m)\n",
    "    print(x)\n",
    "    \n",
    "\n",
    "\n",
    "        \n",
    "\n",
    "\n",
    "\n",
    "    \n",
    "\n"
   ]
  },
  {
   "cell_type": "code",
   "execution_count": 50,
   "metadata": {},
   "outputs": [
    {
     "data": {
      "text/plain": [
       "{'maths': 'pass!50.0%'}"
      ]
     },
     "execution_count": 50,
     "metadata": {},
     "output_type": "execute_result"
    }
   ],
   "source": [
    "pas=40\n",
    "l=[\"1a\",\"2b\",\"3c\",\"4d\"]\n",
    "f=[\"1a\",\"2c\",\"3d\",\"4d\"]\n",
    "d={}\n",
    "s=\"maths\"\n",
    "count=0\n",
    "for i in range(len(l)):\n",
    "    if l[i]==f[i]:\n",
    "        count=count+1\n",
    "p=(count/len(l))*100\n",
    "if p>pas:\n",
    "    d[s]=\"pass!{}%\".format(p)\n",
    "d\n",
    "\n",
    "\n",
    "\n",
    "    "
   ]
  },
  {
   "cell_type": "code",
   "execution_count": 64,
   "metadata": {},
   "outputs": [
    {
     "data": {
      "text/plain": [
       "8"
      ]
     },
     "execution_count": 64,
     "metadata": {},
     "output_type": "execute_result"
    }
   ],
   "source": [
    "class abc:\n",
    "    def __init__(self,a,b):\n",
    "        self.a=a\n",
    "        self.b=b\n",
    "class xyz(abc):\n",
    "    def su(self):\n",
    "        c=self.a+self.b\n",
    "        return(c)\n",
    "a=abc(2,3)\n",
    "b=xyz(3,5)\n",
    "b.su()"
   ]
  },
  {
   "cell_type": "code",
   "execution_count": 70,
   "metadata": {},
   "outputs": [
    {
     "ename": "AttributeError",
     "evalue": "'student' object has no attribute 'subject'",
     "output_type": "error",
     "traceback": [
      "\u001b[1;31m---------------------------------------------------------------------------\u001b[0m",
      "\u001b[1;31mAttributeError\u001b[0m                            Traceback (most recent call last)",
      "\u001b[1;32m<ipython-input-70-ebd68467333b>\u001b[0m in \u001b[0;36m<module>\u001b[1;34m\u001b[0m\n\u001b[0;32m     15\u001b[0m \u001b[0mt1\u001b[0m\u001b[1;33m=\u001b[0m\u001b[0mtestpaper\u001b[0m\u001b[1;33m(\u001b[0m\u001b[1;34m\"english\"\u001b[0m\u001b[1;33m,\u001b[0m\u001b[1;33m[\u001b[0m\u001b[1;36m1\u001b[0m\u001b[1;33m,\u001b[0m\u001b[1;36m2\u001b[0m\u001b[1;33m,\u001b[0m\u001b[1;36m3\u001b[0m\u001b[1;33m,\u001b[0m\u001b[1;36m4\u001b[0m\u001b[1;33m]\u001b[0m\u001b[1;33m,\u001b[0m\u001b[1;36m40\u001b[0m\u001b[1;33m)\u001b[0m\u001b[1;33m\u001b[0m\u001b[1;33m\u001b[0m\u001b[0m\n\u001b[0;32m     16\u001b[0m \u001b[0ms1\u001b[0m\u001b[1;33m=\u001b[0m\u001b[0mstudent\u001b[0m\u001b[1;33m(\u001b[0m\u001b[1;33m)\u001b[0m\u001b[1;33m\u001b[0m\u001b[1;33m\u001b[0m\u001b[0m\n\u001b[1;32m---> 17\u001b[1;33m \u001b[0ms1\u001b[0m\u001b[1;33m.\u001b[0m\u001b[0msubject\u001b[0m\u001b[1;33m(\u001b[0m\u001b[1;33m)\u001b[0m\u001b[1;33m\u001b[0m\u001b[1;33m\u001b[0m\u001b[0m\n\u001b[0m\u001b[0;32m     18\u001b[0m \u001b[1;33m\u001b[0m\u001b[0m\n\u001b[0;32m     19\u001b[0m \u001b[1;33m\u001b[0m\u001b[0m\n",
      "\u001b[1;31mAttributeError\u001b[0m: 'student' object has no attribute 'subject'"
     ]
    }
   ],
   "source": [
    "class testpaper:\n",
    "    def __init__(self,subject,markscheme,pass_mark):\n",
    "        self.subject=subject\n",
    "        self.markscheme=markscheme\n",
    "        self.pass_mark=pass_mark\n",
    "class student(testpaper):\n",
    "    \n",
    "    test_taken=\"no test taken\"\n",
    "    def __init__(self,*args):\n",
    "        pass\n",
    "        \n",
    "    def take_test(self,t,student_ans):\n",
    "        self.t=t\n",
    "        self.student_ans=student_ans\n",
    "        \n",
    "t1=testpaper(\"english\",[1,2,3,4],40)\n",
    "s1=student()\n",
    "s1.take_test(t1,[1,2,3,4])\n",
    "\n",
    "    "
   ]
  },
  {
   "cell_type": "code",
   "execution_count": 114,
   "metadata": {},
   "outputs": [
    {
     "data": {
      "text/plain": [
       "[1]"
      ]
     },
     "execution_count": 114,
     "metadata": {},
     "output_type": "execute_result"
    }
   ],
   "source": [
    "l=[1,2,3,4]\n",
    "n=3\n",
    "l=l*n\n",
    "l.append(1)\n",
    "m=1\n",
    "k=12\n",
    "del l[m:k+1]\n",
    "l\n"
   ]
  },
  {
   "cell_type": "code",
   "execution_count": 106,
   "metadata": {},
   "outputs": [
    {
     "ename": "IndexError",
     "evalue": "list index out of range",
     "output_type": "error",
     "traceback": [
      "\u001b[1;31m---------------------------------------------------------------------------\u001b[0m",
      "\u001b[1;31mIndexError\u001b[0m                                Traceback (most recent call last)",
      "\u001b[1;32m<ipython-input-106-0de8725f8123>\u001b[0m in \u001b[0;36m<module>\u001b[1;34m\u001b[0m\n\u001b[0;32m      3\u001b[0m \u001b[0mcount\u001b[0m\u001b[1;33m=\u001b[0m\u001b[1;36m0\u001b[0m\u001b[1;33m\u001b[0m\u001b[1;33m\u001b[0m\u001b[0m\n\u001b[0;32m      4\u001b[0m \u001b[1;32mfor\u001b[0m \u001b[0mi\u001b[0m \u001b[1;32min\u001b[0m \u001b[0mrange\u001b[0m\u001b[1;33m(\u001b[0m\u001b[0mlen\u001b[0m\u001b[1;33m(\u001b[0m\u001b[0ml\u001b[0m\u001b[1;33m)\u001b[0m\u001b[1;33m)\u001b[0m\u001b[1;33m:\u001b[0m\u001b[1;33m\u001b[0m\u001b[1;33m\u001b[0m\u001b[0m\n\u001b[1;32m----> 5\u001b[1;33m     \u001b[1;32mif\u001b[0m \u001b[0ml\u001b[0m\u001b[1;33m[\u001b[0m\u001b[0mi\u001b[0m\u001b[1;33m]\u001b[0m\u001b[1;33m*\u001b[0m\u001b[0ml\u001b[0m\u001b[1;33m[\u001b[0m\u001b[0mi\u001b[0m\u001b[1;33m+\u001b[0m\u001b[1;36m1\u001b[0m\u001b[1;33m]\u001b[0m\u001b[1;33m==\u001b[0m\u001b[0mn\u001b[0m\u001b[1;33m:\u001b[0m\u001b[1;33m\u001b[0m\u001b[1;33m\u001b[0m\u001b[0m\n\u001b[0m\u001b[0;32m      6\u001b[0m         \u001b[0mcount\u001b[0m\u001b[1;33m=\u001b[0m\u001b[0mcount\u001b[0m\u001b[1;33m+\u001b[0m\u001b[1;36m1\u001b[0m\u001b[1;33m\u001b[0m\u001b[1;33m\u001b[0m\u001b[0m\n\u001b[0;32m      7\u001b[0m \u001b[0mcount\u001b[0m\u001b[1;33m\u001b[0m\u001b[1;33m\u001b[0m\u001b[0m\n",
      "\u001b[1;31mIndexError\u001b[0m: list index out of range"
     ]
    }
   ],
   "source": [
    "l=[1,2,3,4,5]\n",
    "n=20\n",
    "count=0\n",
    "for i in range(len(l)):\n",
    "    if l[i]*l[i+1]==n:\n",
    "        count=count+1\n",
    "count\n",
    "    \n"
   ]
  },
  {
   "cell_type": "code",
   "execution_count": 113,
   "metadata": {},
   "outputs": [
    {
     "data": {
      "text/plain": [
       "{'white': 3, 'black': 1}"
      ]
     },
     "execution_count": 113,
     "metadata": {},
     "output_type": "execute_result"
    }
   ],
   "source": [
    "def guess_score(a,b):\n",
    "    black=0\n",
    "    white=0\n",
    "    d={}\n",
    "    for i in range(len(a)):\n",
    "        if a[i]==b[i]:\n",
    "            black=black+1\n",
    "\n",
    "        elif a[i] in b:\n",
    "            white=white+1\n",
    "    d[\"white\"]=white\n",
    "    d[\"black\"]=black\n",
    "    return(d)\n",
    "guess_score(\"1423\",\"1234\")\n",
    "\n",
    "\n",
    "    "
   ]
  },
  {
   "cell_type": "code",
   "execution_count": 135,
   "metadata": {},
   "outputs": [
    {
     "data": {
      "text/plain": [
       "[4, 5]"
      ]
     },
     "execution_count": 135,
     "metadata": {},
     "output_type": "execute_result"
    }
   ],
   "source": [
    "def get_product(l,n):\n",
    "    m=[]\n",
    "    k=[]\n",
    "    for i in range(len(l)):\n",
    "        for j in range(i+1,len(l)):\n",
    "            if l[i]*l[j]==n:\n",
    "                m.append(l[i])\n",
    "                m.append(l[j])\n",
    "    return(m)\n",
    "get_product([1,2,3,4,5],20)\n"
   ]
  },
  {
   "cell_type": "code",
   "execution_count": null,
   "metadata": {},
   "outputs": [],
   "source": [
    "\n",
    "from datetime import datetime\n",
    "my_dates = ['5-Nov-18', '25-Mar-17', '1-Nov-18', '7-Mar-17']\n",
    "my_dates.sort(key=lambda date: datetime.strptime(date, \"%d-%b-%y\"))\n",
    "print(my_dates)"
   ]
  },
  {
   "cell_type": "code",
   "execution_count": 7,
   "metadata": {},
   "outputs": [
    {
     "name": "stdout",
     "output_type": "stream",
     "text": [
      "my $$$$ is $$$\n"
     ]
    }
   ],
   "source": [
    "s=\"my name is jay\"\n",
    "l=[\"jay\",\"name\"]\n",
    "k=\"$\"\n",
    "x=s.split(\" \")\n",
    "for i in x:\n",
    "    if i in l:\n",
    "        s=s.replace(i,k*len(i))\n",
    "print(s)"
   ]
  },
  {
   "cell_type": "code",
   "execution_count": 27,
   "metadata": {},
   "outputs": [],
   "source": [
    "s=[\"a\",\"b\",\"c\"]\n",
    "s[0]=1\n",
    "        "
   ]
  },
  {
   "cell_type": "code",
   "execution_count": 29,
   "metadata": {},
   "outputs": [
    {
     "data": {
      "text/plain": [
       "'We are the so-called \"Vikings\" from the north.'"
      ]
     },
     "execution_count": 29,
     "metadata": {},
     "output_type": "execute_result"
    }
   ],
   "source": [
    "txt = \"We are the so-called \\\"Vikings\\\" from the north.\"\n",
    "txt\n"
   ]
  },
  {
   "cell_type": "code",
   "execution_count": 44,
   "metadata": {},
   "outputs": [
    {
     "name": "stdout",
     "output_type": "stream",
     "text": [
      "my name is\\\n"
     ]
    }
   ],
   "source": [
    "a=\"my name is\\\\\"\n",
    "print(a)"
   ]
  },
  {
   "cell_type": "code",
   "execution_count": 49,
   "metadata": {},
   "outputs": [
    {
     "name": "stdout",
     "output_type": "stream",
     "text": [
      "\\how's'' is not a problem\n"
     ]
    }
   ],
   "source": [
    "a=\"\\how is not a problem\"\n",
    "print(a)"
   ]
  },
  {
   "cell_type": "code",
   "execution_count": 51,
   "metadata": {},
   "outputs": [
    {
     "data": {
      "text/plain": [
       "'lo, world!'"
      ]
     },
     "execution_count": 51,
     "metadata": {},
     "output_type": "execute_result"
    }
   ],
   "source": [
    "a=\"Hello, world!\"\n",
    "a[3:]"
   ]
  },
  {
   "cell_type": "code",
   "execution_count": 57,
   "metadata": {},
   "outputs": [
    {
     "data": {
      "text/plain": [
       "['Remember,remember,the', 'fifth', 'of', 'July']"
      ]
     },
     "execution_count": 57,
     "metadata": {},
     "output_type": "execute_result"
    }
   ],
   "source": [
    "\"Remember,remember,the fifth of July\".split()\n",
    "#\"-\".join(\"there can only be one split\".split())"
   ]
  },
  {
   "cell_type": "code",
   "execution_count": 62,
   "metadata": {},
   "outputs": [
    {
     "name": "stdout",
     "output_type": "stream",
     "text": [
      "my name is\"j\" abc\n"
     ]
    }
   ],
   "source": [
    "a=\"my name is\\\"j\\\" abc\"\n",
    "print(a)"
   ]
  },
  {
   "cell_type": "code",
   "execution_count": 64,
   "metadata": {},
   "outputs": [
    {
     "ename": "ModuleNotFoundError",
     "evalue": "No module named 'pyinputplus'",
     "output_type": "error",
     "traceback": [
      "\u001b[1;31m---------------------------------------------------------------------------\u001b[0m",
      "\u001b[1;31mModuleNotFoundError\u001b[0m                       Traceback (most recent call last)",
      "\u001b[1;32m<ipython-input-64-d9e93d31ad84>\u001b[0m in \u001b[0;36m<module>\u001b[1;34m\u001b[0m\n\u001b[1;32m----> 1\u001b[1;33m \u001b[1;32mimport\u001b[0m \u001b[0mpyinputplus\u001b[0m \u001b[1;32mas\u001b[0m \u001b[0mpyip\u001b[0m\u001b[1;33m\u001b[0m\u001b[1;33m\u001b[0m\u001b[0m\n\u001b[0m",
      "\u001b[1;31mModuleNotFoundError\u001b[0m: No module named 'pyinputplus'"
     ]
    }
   ],
   "source": [
    "import pyinputplus as pyip"
   ]
  },
  {
   "cell_type": "code",
   "execution_count": 67,
   "metadata": {},
   "outputs": [
    {
     "name": "stdout",
     "output_type": "stream",
     "text": [
      "Requirement already satisfied: PyInputPlus in c:\\users\\jay\\anaconda3\\lib\\site-packages (0.2.12)\n",
      "Requirement already satisfied: stdiomask>=0.0.3 in c:\\users\\jay\\anaconda3\\lib\\site-packages (from PyInputPlus) (0.0.6)\n",
      "Requirement already satisfied: pysimplevalidate>=0.2.7 in c:\\users\\jay\\anaconda3\\lib\\site-packages (from PyInputPlus) (0.2.12)\n"
     ]
    }
   ],
   "source": [
    "!pip install PyInputPlus"
   ]
  },
  {
   "cell_type": "code",
   "execution_count": 1,
   "metadata": {},
   "outputs": [],
   "source": [
    "import pyinputplus as ab"
   ]
  },
  {
   "cell_type": "code",
   "execution_count": 9,
   "metadata": {},
   "outputs": [
    {
     "name": "stdout",
     "output_type": "stream",
     "text": [
      "\n",
      "Blank values are not allowed.\n",
      "\n",
      "Blank values are not allowed.\n",
      "\n",
      "Blank values are not allowed.\n"
     ]
    },
    {
     "ename": "RetryLimitException",
     "evalue": "",
     "output_type": "error",
     "traceback": [
      "\u001b[1;31m---------------------------------------------------------------------------\u001b[0m",
      "\u001b[1;31mValidationException\u001b[0m                       Traceback (most recent call last)",
      "\u001b[1;32m~\\anaconda3\\lib\\site-packages\\pyinputplus\\__init__.py\u001b[0m in \u001b[0;36m_genericInput\u001b[1;34m(prompt, default, timeout, limit, applyFunc, validationFunc, postValidateApplyFunc, passwordMask)\u001b[0m\n\u001b[0;32m    166\u001b[0m         \u001b[1;32mtry\u001b[0m\u001b[1;33m:\u001b[0m\u001b[1;33m\u001b[0m\u001b[1;33m\u001b[0m\u001b[0m\n\u001b[1;32m--> 167\u001b[1;33m             possibleNewUserInput = validationFunc(\n\u001b[0m\u001b[0;32m    168\u001b[0m                 \u001b[0muserInput\u001b[0m\u001b[1;33m\u001b[0m\u001b[1;33m\u001b[0m\u001b[0m\n",
      "\u001b[1;32m~\\anaconda3\\lib\\site-packages\\pyinputplus\\__init__.py\u001b[0m in \u001b[0;36m<lambda>\u001b[1;34m(value)\u001b[0m\n\u001b[0;32m    242\u001b[0m \u001b[1;33m\u001b[0m\u001b[0m\n\u001b[1;32m--> 243\u001b[1;33m     validationFunc = lambda value: pysv._prevalidationCheck(\n\u001b[0m\u001b[0;32m    244\u001b[0m         \u001b[0mvalue\u001b[0m\u001b[1;33m,\u001b[0m \u001b[0mblank\u001b[0m\u001b[1;33m=\u001b[0m\u001b[0mblank\u001b[0m\u001b[1;33m,\u001b[0m \u001b[0mstrip\u001b[0m\u001b[1;33m=\u001b[0m\u001b[0mstrip\u001b[0m\u001b[1;33m,\u001b[0m \u001b[0mallowRegexes\u001b[0m\u001b[1;33m=\u001b[0m\u001b[0mallowRegexes\u001b[0m\u001b[1;33m,\u001b[0m \u001b[0mblockRegexes\u001b[0m\u001b[1;33m=\u001b[0m\u001b[0mblockRegexes\u001b[0m\u001b[1;33m,\u001b[0m \u001b[0mexcMsg\u001b[0m\u001b[1;33m=\u001b[0m\u001b[1;32mNone\u001b[0m\u001b[1;33m,\u001b[0m\u001b[1;33m\u001b[0m\u001b[1;33m\u001b[0m\u001b[0m\n",
      "\u001b[1;32m~\\anaconda3\\lib\\site-packages\\pysimplevalidate\\__init__.py\u001b[0m in \u001b[0;36m_prevalidationCheck\u001b[1;34m(value, blank, strip, allowRegexes, blockRegexes, excMsg)\u001b[0m\n\u001b[0;32m    249\u001b[0m         \u001b[1;31m# value is blank but blanks aren't allowed.\u001b[0m\u001b[1;33m\u001b[0m\u001b[1;33m\u001b[0m\u001b[1;33m\u001b[0m\u001b[0m\n\u001b[1;32m--> 250\u001b[1;33m         \u001b[0m_raiseValidationException\u001b[0m\u001b[1;33m(\u001b[0m\u001b[0m_\u001b[0m\u001b[1;33m(\u001b[0m\u001b[1;34m\"Blank values are not allowed.\"\u001b[0m\u001b[1;33m)\u001b[0m\u001b[1;33m,\u001b[0m \u001b[0mexcMsg\u001b[0m\u001b[1;33m)\u001b[0m\u001b[1;33m\u001b[0m\u001b[1;33m\u001b[0m\u001b[0m\n\u001b[0m\u001b[0;32m    251\u001b[0m     \u001b[1;32melif\u001b[0m \u001b[0mblank\u001b[0m \u001b[1;32mand\u001b[0m \u001b[0mvalue\u001b[0m \u001b[1;33m==\u001b[0m \u001b[1;34m\"\"\u001b[0m\u001b[1;33m:\u001b[0m\u001b[1;33m\u001b[0m\u001b[1;33m\u001b[0m\u001b[0m\n",
      "\u001b[1;32m~\\anaconda3\\lib\\site-packages\\pysimplevalidate\\__init__.py\u001b[0m in \u001b[0;36m_raiseValidationException\u001b[1;34m(standardExcMsg, customExcMsg)\u001b[0m\n\u001b[0;32m    221\u001b[0m     \u001b[1;32mif\u001b[0m \u001b[0mcustomExcMsg\u001b[0m \u001b[1;32mis\u001b[0m \u001b[1;32mNone\u001b[0m\u001b[1;33m:\u001b[0m\u001b[1;33m\u001b[0m\u001b[1;33m\u001b[0m\u001b[0m\n\u001b[1;32m--> 222\u001b[1;33m         \u001b[1;32mraise\u001b[0m \u001b[0mValidationException\u001b[0m\u001b[1;33m(\u001b[0m\u001b[0mstr\u001b[0m\u001b[1;33m(\u001b[0m\u001b[0mstandardExcMsg\u001b[0m\u001b[1;33m)\u001b[0m\u001b[1;33m)\u001b[0m\u001b[1;33m\u001b[0m\u001b[1;33m\u001b[0m\u001b[0m\n\u001b[0m\u001b[0;32m    223\u001b[0m     \u001b[1;32melse\u001b[0m\u001b[1;33m:\u001b[0m\u001b[1;33m\u001b[0m\u001b[1;33m\u001b[0m\u001b[0m\n",
      "\u001b[1;31mValidationException\u001b[0m: Blank values are not allowed.",
      "\nDuring handling of the above exception, another exception occurred:\n",
      "\u001b[1;31mRetryLimitException\u001b[0m                       Traceback (most recent call last)",
      "\u001b[1;32m<ipython-input-9-477e587eb0e1>\u001b[0m in \u001b[0;36m<module>\u001b[1;34m\u001b[0m\n\u001b[1;32m----> 1\u001b[1;33m \u001b[0mab\u001b[0m\u001b[1;33m.\u001b[0m\u001b[0minputStr\u001b[0m\u001b[1;33m(\u001b[0m\u001b[0mlimit\u001b[0m\u001b[1;33m=\u001b[0m\u001b[1;36m3\u001b[0m\u001b[1;33m)\u001b[0m\u001b[1;33m\u001b[0m\u001b[1;33m\u001b[0m\u001b[0m\n\u001b[0m",
      "\u001b[1;32m~\\anaconda3\\lib\\site-packages\\pyinputplus\\__init__.py\u001b[0m in \u001b[0;36minputStr\u001b[1;34m(prompt, default, blank, timeout, limit, strip, allowRegexes, blockRegexes, applyFunc, postValidateApplyFunc)\u001b[0m\n\u001b[0;32m    245\u001b[0m     )[1]\n\u001b[0;32m    246\u001b[0m \u001b[1;33m\u001b[0m\u001b[0m\n\u001b[1;32m--> 247\u001b[1;33m     return _genericInput(\n\u001b[0m\u001b[0;32m    248\u001b[0m         \u001b[0mprompt\u001b[0m\u001b[1;33m=\u001b[0m\u001b[0mprompt\u001b[0m\u001b[1;33m,\u001b[0m\u001b[1;33m\u001b[0m\u001b[1;33m\u001b[0m\u001b[0m\n\u001b[0;32m    249\u001b[0m         \u001b[0mdefault\u001b[0m\u001b[1;33m=\u001b[0m\u001b[0mdefault\u001b[0m\u001b[1;33m,\u001b[0m\u001b[1;33m\u001b[0m\u001b[1;33m\u001b[0m\u001b[0m\n",
      "\u001b[1;32m~\\anaconda3\\lib\\site-packages\\pyinputplus\\__init__.py\u001b[0m in \u001b[0;36m_genericInput\u001b[1;34m(prompt, default, timeout, limit, applyFunc, validationFunc, postValidateApplyFunc, passwordMask)\u001b[0m\n\u001b[0;32m    186\u001b[0m                 \u001b[1;32melse\u001b[0m\u001b[1;33m:\u001b[0m\u001b[1;33m\u001b[0m\u001b[1;33m\u001b[0m\u001b[0m\n\u001b[0;32m    187\u001b[0m                     \u001b[1;31m# If there is no default, then raise the timeout/limit exception.\u001b[0m\u001b[1;33m\u001b[0m\u001b[1;33m\u001b[0m\u001b[1;33m\u001b[0m\u001b[0m\n\u001b[1;32m--> 188\u001b[1;33m                     \u001b[1;32mraise\u001b[0m \u001b[0mlimitOrTimeoutException\u001b[0m\u001b[1;33m\u001b[0m\u001b[1;33m\u001b[0m\u001b[0m\n\u001b[0m\u001b[0;32m    189\u001b[0m             \u001b[1;32melse\u001b[0m\u001b[1;33m:\u001b[0m\u001b[1;33m\u001b[0m\u001b[1;33m\u001b[0m\u001b[0m\n\u001b[0;32m    190\u001b[0m                 \u001b[1;31m# If there was no timeout/limit exceeded, let the user enter input again.\u001b[0m\u001b[1;33m\u001b[0m\u001b[1;33m\u001b[0m\u001b[1;33m\u001b[0m\u001b[0m\n",
      "\u001b[1;31mRetryLimitException\u001b[0m: "
     ]
    }
   ],
   "source": [
    "ab.inputStr(limit=3)"
   ]
  },
  {
   "cell_type": "markdown",
   "metadata": {},
   "source": [
    "#### "
   ]
  },
  {
   "cell_type": "code",
   "execution_count": 42,
   "metadata": {},
   "outputs": [
    {
     "data": {
      "text/plain": [
       "'jejwfhewurhiuhruiewhrhn\\neryewgryewgreyugryuegr\\n\\n3hru32rhui32hriu3rhiurhui32hri3uhru2'"
      ]
     },
     "execution_count": 42,
     "metadata": {},
     "output_type": "execute_result"
    }
   ],
   "source": [
    "f=open(\"abc.txt\",\"w\")\n",
    "f.write(\"sfhuiwfhiuewfhewuifuewfew\")\n",
    "f.close()\n",
    "f=open(\"abc.txt\",\"w\")\n",
    "\n",
    "f.write(\"hfwuifhiuehefuehf\")\n",
    "f.close()\n",
    "with open(\"abc.txt\",\"w\") as f:\n",
    "    f=f.write(\"jejwfhewurhiuhruiewhrhn\\neryewgryewgreyugryuegr\\n\\n3hru32rhui32hriu3rhiurhui32hri3uhru2\")\n",
    "f=open(\"abc.txt\",\"r\")\n",
    "f.read()\n",
    "\n"
   ]
  },
  {
   "cell_type": "code",
   "execution_count": 12,
   "metadata": {},
   "outputs": [
    {
     "data": {
      "text/plain": [
       "'C:\\\\Users\\\\JAY\\\\Downloads\\\\python advance assignments'"
      ]
     },
     "execution_count": 12,
     "metadata": {},
     "output_type": "execute_result"
    }
   ],
   "source": [
    "import os\n",
    "os.getcwd()"
   ]
  },
  {
   "cell_type": "code",
   "execution_count": 63,
   "metadata": {},
   "outputs": [
    {
     "data": {
      "text/plain": [
       "[2, 6]"
      ]
     },
     "execution_count": 63,
     "metadata": {},
     "output_type": "execute_result"
    }
   ],
   "source": [
    "m=[]\n",
    "k=[]\n",
    "l=[1,2,3,5,6,\"jehiue\",\"kejie\"]\n",
    "j=[]\n",
    "try:\n",
    "    for i in l:\n",
    "        if i%2==0:\n",
    "            m.append(i)\n",
    "        else:\n",
    "            k.append(i)\n",
    "except:\n",
    "    for i in l:\n",
    "        j.append(i)\n",
    "    \n",
    "\n",
    "\n",
    "\n",
    "\n",
    "    "
   ]
  },
  {
   "cell_type": "code",
   "execution_count": 65,
   "metadata": {},
   "outputs": [],
   "source": [
    "import shutil,os"
   ]
  },
  {
   "cell_type": "code",
   "execution_count": 66,
   "metadata": {},
   "outputs": [
    {
     "data": {
      "text/plain": [
       "'C:\\\\Users\\\\JAY\\\\Downloads\\\\python advance assignments'"
      ]
     },
     "execution_count": 66,
     "metadata": {},
     "output_type": "execute_result"
    }
   ],
   "source": [
    "os.getcwd()"
   ]
  },
  {
   "cell_type": "code",
   "execution_count": 74,
   "metadata": {},
   "outputs": [
    {
     "data": {
      "text/plain": [
       "'Downloads'"
      ]
     },
     "execution_count": 74,
     "metadata": {},
     "output_type": "execute_result"
    }
   ],
   "source": [
    "shutil.copy(\"programming assignment 1.ipynb\",\"Downloads\")"
   ]
  },
  {
   "cell_type": "code",
   "execution_count": 76,
   "metadata": {},
   "outputs": [
    {
     "data": {
      "text/plain": [
       "['.ipynb_checkpoints',\n",
       " '1. Machine Learning - Introduction.pdf',\n",
       " '3. Logistic Regression.pdf',\n",
       " 'AnalytixLabs - Introduction to Analytics.pdf',\n",
       " 'AnalytixLabs_Excel basics.pdf',\n",
       " 'ANN Class files.zip',\n",
       " 'BoxPlots with default Split.pdf',\n",
       " 'Class_rough_notes.xlsx',\n",
       " 'Clustering & PCA-FA.zip',\n",
       " 'Credit Risk Analytics-checkpoint.ipynb',\n",
       " 'Credit Risk Analytics.ipynb',\n",
       " 'Creditcard Risk analytics.ipynb',\n",
       " 'Data Science & ML with Python - Final Projects (1).pdf',\n",
       " 'Data Science & ML with Python - Final Projects.pdf',\n",
       " 'Data Science with Python (Foundation) - Assignments - Case studies.pdf',\n",
       " 'debug.log',\n",
       " 'Decision_Trees - Class Explanation files',\n",
       " 'Decision_Trees - Class Explanation files.zip',\n",
       " 'Density Plots with Attrition Split.pdf',\n",
       " 'DSP Class 1 files.zip',\n",
       " 'DSP Class 10-11 files',\n",
       " 'DSP Class 10-11 files.zip',\n",
       " 'DSP Class 12-13 files',\n",
       " 'DSP Class 12-13 files.zip',\n",
       " 'DSP Class 2-3 files.zip',\n",
       " 'DSP Class 4-5 files.zip',\n",
       " 'DSP Class 8-9 files.zip',\n",
       " 'DSR Class 11 & 12 files.zip',\n",
       " 'DSR Class 13 & 14 files.zip',\n",
       " 'DSR Class 3 & 4 files.zip',\n",
       " 'DSR Class 7 & 8 files.zip',\n",
       " 'DSR Class 9 & 10 files.zip',\n",
       " 'DSR Foundation files.zip',\n",
       " 'DVA-Jun-23-2019-Batch-Class1-23-Jun-2019-ExcelClass-1_To Share.zip',\n",
       " 'DVA-Jun-23-2019-Batch-Class10-28-Jul-2019-Tableau-1_To Share.zip',\n",
       " 'DVA-Jun-23-2019-Batch-Class2-29-Jun-2019-ExcelClass-2_To Share.zip',\n",
       " 'DVA-Jun-23-2019-Batch-Class3-30-Jun-2019-ExcelClass-3_To Share.zip',\n",
       " 'Ensemble Learning Class files',\n",
       " 'Ensemble Learning Class files.zip',\n",
       " 'Excel Case Studies - June 19.zip',\n",
       " 'Get Started with Dropbox Paper.url',\n",
       " 'Get Started with Dropbox.pdf',\n",
       " 'Holt_Winters_auto_Forecast.zip',\n",
       " 'KNN & NB Class files',\n",
       " 'KNN & NB Class files.zip',\n",
       " 'R Case Studies (All 3 case studies).zip',\n",
       " 'R case study 1 (Banking).rar',\n",
       " 'Regression Case Studies - Linear & Logistic.rar',\n",
       " 'SQL case studies (latest).zip',\n",
       " 'SVM Class files.zip',\n",
       " 'Tableau Case studies_240918.zip',\n",
       " 'Text mining & NLP files.zip',\n",
       " 'Time series forecasting.zip',\n",
       " 'Transformation Plots.pdf']"
      ]
     },
     "execution_count": 76,
     "metadata": {},
     "output_type": "execute_result"
    }
   ],
   "source": [
    "os.listdir(r\"C:\\Users\\JAY\\Documents\\ds files\")"
   ]
  },
  {
   "cell_type": "code",
   "execution_count": 95,
   "metadata": {},
   "outputs": [],
   "source": [
    "\n",
    "   \n",
    "   \n",
    "\n",
    "des=r\"C:\\Users\\JAY\\Documents\\ds files\\al\"\n",
    "destination = shutil.copytree(r\"C:\\Users\\JAY\\Downloads\\python advance assignments\",des ) \n",
    "   \n"
   ]
  },
  {
   "cell_type": "code",
   "execution_count": 96,
   "metadata": {},
   "outputs": [
    {
     "ename": "AssertionError",
     "evalue": "x should be 'hello'",
     "output_type": "error",
     "traceback": [
      "\u001b[1;31m---------------------------------------------------------------------------\u001b[0m",
      "\u001b[1;31mAssertionError\u001b[0m                            Traceback (most recent call last)",
      "\u001b[1;32m<ipython-input-96-a13cd6e9aadd>\u001b[0m in \u001b[0;36m<module>\u001b[1;34m\u001b[0m\n\u001b[0;32m      2\u001b[0m \u001b[1;33m\u001b[0m\u001b[0m\n\u001b[0;32m      3\u001b[0m \u001b[1;31m#if condition returns False, AssertionError is raised:\u001b[0m\u001b[1;33m\u001b[0m\u001b[1;33m\u001b[0m\u001b[1;33m\u001b[0m\u001b[0m\n\u001b[1;32m----> 4\u001b[1;33m \u001b[1;32massert\u001b[0m \u001b[0mx\u001b[0m \u001b[1;33m==\u001b[0m \u001b[1;34m\"goodbye\"\u001b[0m\u001b[1;33m,\u001b[0m \u001b[1;34m\"x should be 'hello'\"\u001b[0m\u001b[1;33m\u001b[0m\u001b[1;33m\u001b[0m\u001b[0m\n\u001b[0m",
      "\u001b[1;31mAssertionError\u001b[0m: x should be 'hello'"
     ]
    }
   ],
   "source": [
    "x = \"hello\"\n",
    "\n",
    "#if condition returns False, AssertionError is raised:\n",
    "assert x == \"goodbye\", \"x should be 'hello'\"\n"
   ]
  },
  {
   "cell_type": "code",
   "execution_count": 24,
   "metadata": {},
   "outputs": [
    {
     "data": {
      "text/plain": [
       "['huqew', 'wjefhkj']"
      ]
     },
     "execution_count": 24,
     "metadata": {},
     "output_type": "execute_result"
    }
   ],
   "source": [
    "class pizza:\n",
    "    def garden_feast():\n",
    "        ingredients=[\"huqew\",\"wjefhkj\"]\n",
    "        return(ingredients)\n",
    "    def __init__(self,ingredients):\n",
    "        self.ingredients=ingredients\n",
    "p1=pizza([\"wdnwk\",\"jkedwjkd\",\"dmewod\"])\n",
    "p2=pizza.garden_feast()\n",
    "p2\n",
    "\n",
    "    "
   ]
  },
  {
   "cell_type": "markdown",
   "metadata": {},
   "source": [
    "Your task is to write a program which allows teachers to create a multiple\n",
    "choice test in a class called Testpaper and to be also able to assign a\n",
    "minimum pass mark. The testpaper&#39;s subject should also be included. The\n",
    "attributes are in the following order:\n",
    "1. subject\n",
    "2. markscheme\n",
    "3. pass_mark\n",
    "As well as that, we need to create student objects to take the test itself!\n",
    "Create another class called Student and do the following:\n",
    "- Create an attribute called tests_taken and set the default as &#39;No tests\n",
    "taken&#39;.\n",
    "- Make a method called take_test(), which takes in the testpaper object they\n",
    "are completing and the student&#39;s answers. Compare what they wrote to the\n",
    "mark scheme, and append to the/create a dictionary assigned to tests_taken\n",
    "in the way as shown in the point below.\n",
    "- Each key in the dictionary should be the testpaper subject and each value\n",
    "should be a string in the format seen in the examples below (whether or not\n",
    "the student has failed, and their percentage in brackets)."
   ]
  },
  {
   "cell_type": "code",
   "execution_count": 3,
   "metadata": {},
   "outputs": [
    {
     "data": {
      "text/plain": [
       "{'maths': 'fail!33.33333333333333%', 'english': 'fail!0.0%'}"
      ]
     },
     "execution_count": 3,
     "metadata": {},
     "output_type": "execute_result"
    }
   ],
   "source": [
    "class testpaper:\n",
    "    def __init__(self,subject,markscheme,pass_mark):\n",
    "        self.subject=subject\n",
    "        self.markscheme=markscheme\n",
    "        self.pass_mark=pass_mark\n",
    "class student:\n",
    "    test_taken=\"no tests taken\"\n",
    "    d={}\n",
    "    def take_test(self,x,l):\n",
    "        count=0\n",
    "        for i in range(len(x.markscheme)):\n",
    "            if x.markscheme[i]==l[i]:\n",
    "                count=count+1\n",
    "        per=(count/len(x.markscheme))*100\n",
    "        if per>x.pass_mark:\n",
    "            self.d[x.subject]=\"passed!{}%\".format(per)\n",
    "        else:\n",
    "            self.d[x.subject]=\"fail!{}%\".format(per)\n",
    "    def test_taken(self):\n",
    "        return(self.d)\n",
    "test1=testpaper(\"maths\",[\"1A\",\"2B\",\"3B\"],68)\n",
    "test2=testpaper(\"english\",[\"1A\",\"2A\",\"3B\"],68)\n",
    "s1=student()\n",
    "s1.take_test(test1,[\"1A\",\"3B\",\"2C\"])\n",
    "s1.take_test(test2,[\"2A\",\"3B\",\"4C\"])\n",
    "s1.test_taken()\n",
    "\n",
    "                \n",
    "                \n",
    "            \n",
    "            \n",
    "            \n",
    "\n",
    "        "
   ]
  },
  {
   "cell_type": "code",
   "execution_count": 25,
   "metadata": {},
   "outputs": [
    {
     "data": {
      "text/plain": [
       "66.66666666666666"
      ]
     },
     "execution_count": 25,
     "metadata": {},
     "output_type": "execute_result"
    }
   ],
   "source": [
    "l=[\"1A\",\"2D\",\"3A\"]\n",
    "k=[\"1A\",\"3C\",\"2B\"]\n",
    "count=0\n",
    "for i in range(len(l)):\n",
    "    if l[i]!=k[0]:\n",
    "        count=count+1\n",
    "per=(count/len(l))*100\n",
    "per\n",
    "    "
   ]
  },
  {
   "cell_type": "code",
   "execution_count": 3,
   "metadata": {},
   "outputs": [],
   "source": [
    "def skyline(l):\n",
    "    m=[]\n",
    "    for i in range(len(l[0])):\n",
    "        s=0\n",
    "        for j in range(len(l)):\n",
    "            s=s+l[j][i]\n",
    "        m.append(s)\n",
    "    return(max(m))"
   ]
  },
  {
   "cell_type": "code",
   "execution_count": 22,
   "metadata": {},
   "outputs": [
    {
     "data": {
      "text/plain": [
       "8200"
      ]
     },
     "execution_count": 22,
     "metadata": {},
     "output_type": "execute_result"
    }
   ],
   "source": [
    "def bonus(n):\n",
    "    bonus=0\n",
    "    bonus1=325*8\n",
    "    bonus2=550*8\n",
    "    bonus3=0\n",
    "    if n<=32:\n",
    "        bonus=0\n",
    "        return(bonus)\n",
    "    elif 32<n<=40:\n",
    "        n=n-32\n",
    "        bonus1=n*325\n",
    "        return(bonus1+bonus)\n",
    "    elif 40<n<=48:\n",
    "        n=n-40\n",
    "        bonus2=n*550\n",
    "        return(bonus2+bonus1+bonus)\n",
    "    elif n>48:\n",
    "        n=n-48\n",
    "        bonus3=n*600\n",
    "        return(bonus+bonus1+bonus2+bonus3)\n",
    "bonus(50)\n",
    "    "
   ]
  },
  {
   "cell_type": "code",
   "execution_count": 27,
   "metadata": {},
   "outputs": [
    {
     "data": {
      "text/plain": [
       "[1, 1, 2, 6, 24, 120]"
      ]
     },
     "execution_count": 27,
     "metadata": {},
     "output_type": "execute_result"
    }
   ],
   "source": [
    "def fact_of_fact(n):    \n",
    "    l=[]\n",
    "    for i in range(5+1):\n",
    "        l.append(i)\n",
    "    l[0]=1\n",
    "    l[1]=1\n",
    "    for i in range(2,6):\n",
    "        l[i]=l[i-1]*i\n",
    "    m=1\n",
    "    for i in l:\n",
    "        m=m*i\n",
    "    return(m)"
   ]
  },
  {
   "cell_type": "code",
   "execution_count": 32,
   "metadata": {},
   "outputs": [
    {
     "data": {
      "text/plain": [
       "'a'"
      ]
     },
     "execution_count": 32,
     "metadata": {},
     "output_type": "execute_result"
    }
   ],
   "source": [
    "def extra_letter(s,f):\n",
    "    d={}\n",
    "    x={}\n",
    "    for i in s:\n",
    "        d[i]=s.count(i)\n",
    "    for i in f:\n",
    "        x[i]=f.count(i)\n",
    "    for i in x:\n",
    "        if i in d:\n",
    "            if d[i]!=x[i]:\n",
    "                return(i)\n",
    "        else:\n",
    "            return(i)\n",
    "extra_letter(\"ae\",\"aea\")\n",
    "\n",
    "        \n",
    "    \n",
    "    "
   ]
  },
  {
   "cell_type": "code",
   "execution_count": 2,
   "metadata": {},
   "outputs": [
    {
     "name": "stdout",
     "output_type": "stream",
     "text": [
      "2 2 0\n"
     ]
    }
   ],
   "source": [
    "n=20\n",
    "nines=0\n",
    "threes=0\n",
    "ones=0\n",
    "while n>0:\n",
    "    if n>=9:\n",
    "        nines=n//9\n",
    "        n=n%9\n",
    "    elif 3<n<=8:\n",
    "        threes=n//3\n",
    "        n=n%3\n",
    "    elif 0<n<=2:\n",
    "        ones=n//1\n",
    "        n=0\n",
    "print(nines,ones,threes)\n",
    "    \n",
    "    "
   ]
  },
  {
   "cell_type": "markdown",
   "metadata": {},
   "source": [
    "def first_before_second(s,a,b):    \n",
    "    l=[]\n",
    "    count=0\n",
    "    for i in s:\n",
    "        if i==a or i==b:\n",
    "            l.append(i)\n",
    "    \n",
    "    for i in range(len(l)-1):\n",
    "        if l[i]!=l[i+1]:\n",
    "            count=count+1\n",
    "    if count>1:\n",
    "        return(False)\n",
    "    else:\n",
    "        return(True)\n",
    "first_before_second(\"happy birthday\",\"a\",\"y\")\n",
    "        \n",
    "        "
   ]
  },
  {
   "cell_type": "code",
   "execution_count": 12,
   "metadata": {},
   "outputs": [
    {
     "data": {
      "text/plain": [
       "69"
      ]
     },
     "execution_count": 12,
     "metadata": {},
     "output_type": "execute_result"
    }
   ],
   "source": [
    "ord(\"E\")"
   ]
  },
  {
   "cell_type": "code",
   "execution_count": 1,
   "metadata": {},
   "outputs": [
    {
     "name": "stdout",
     "output_type": "stream",
     "text": [
      "1\n",
      "2\n",
      "3\n",
      "4\n",
      "5\n",
      "6\n",
      "7\n",
      "8\n",
      "9\n"
     ]
    }
   ],
   "source": [
    "i=1\n",
    "while i<10:\n",
    "    print(i)\n",
    "    i=i+1"
   ]
  },
  {
   "cell_type": "code",
   "execution_count": 6,
   "metadata": {},
   "outputs": [
    {
     "data": {
      "text/plain": [
       "45"
      ]
     },
     "execution_count": 6,
     "metadata": {},
     "output_type": "execute_result"
    }
   ],
   "source": [
    "def pile_of_cubes(n):\n",
    "    m=n\n",
    "    s=0\n",
    "    for i in range(1,1000000):\n",
    "        s=s+i**3\n",
    "        if s==m:\n",
    "            break\n",
    "    return(i)\n",
    "pile_of_cues(1071225)\n"
   ]
  },
  {
   "cell_type": "code",
   "execution_count": 20,
   "metadata": {},
   "outputs": [
    {
     "data": {
      "text/plain": [
       "[['#', '#', '#', '#'],\n",
       " ['#', '#'],\n",
       " ['#', '#'],\n",
       " ['#', '#'],\n",
       " ['#', '#', '#', '#']]"
      ]
     },
     "execution_count": 20,
     "metadata": {},
     "output_type": "execute_result"
    }
   ],
   "source": [
    "n=4#column\n",
    "m=5#row\n",
    "l=[]\n",
    "for i in range(m):\n",
    "    k=[]\n",
    "    if i==0:\n",
    "        for j  in range(n):\n",
    "            k.append(\"#\")\n",
    "        l.append(k)\n",
    "    elif i==m-1:\n",
    "        for j in range(n):\n",
    "            k.append(\"#\")\n",
    "        l.append(k)\n",
    "    else:\n",
    "        l.append(k)\n",
    "for i in range(len(l)):\n",
    "    if i==0 or i==m-1:\n",
    "        continue\n",
    "    else:\n",
    "        l[i].insert(0,\"#\")\n",
    "        l[i].insert(m-1,\"#\")\n",
    "l\n",
    "  "
   ]
  },
  {
   "cell_type": "code",
   "execution_count": 4,
   "metadata": {},
   "outputs": [
    {
     "data": {
      "text/plain": [
       "[['***'], ['* *'], ['* *'], ['***']]"
      ]
     },
     "execution_count": 4,
     "metadata": {},
     "output_type": "execute_result"
    }
   ],
   "source": [
    "def photo_frame(n,m,j):\n",
    "    l=[]\n",
    "    for i in range(m):\n",
    "        k=[]\n",
    "        if i==0:\n",
    "            k.append(n*j)\n",
    "            l.append(k)\n",
    "        elif i==m-1:\n",
    "            k.append(n*j)\n",
    "            l.append(k)\n",
    "        else:\n",
    "            l.append(k)\n",
    "\n",
    "    for i in range(len(l)):\n",
    "        if i==0 or i==m-1:\n",
    "            continue\n",
    "        else:\n",
    "            l[i].insert(0,\"{}{}{}\".format(j,\" \"*(n-2),j))\n",
    "    return(l)\n",
    "photo_frame(3,4,\"*\")\n",
    "                \n",
    "                \n",
    "    "
   ]
  },
  {
   "cell_type": "code",
   "execution_count": 60,
   "metadata": {},
   "outputs": [
    {
     "data": {
      "text/plain": [
       "['#####', '#   #', '#   #', '#   #', '#####']"
      ]
     },
     "execution_count": 60,
     "metadata": {},
     "output_type": "execute_result"
    }
   ],
   "source": [
    "n=5\n",
    "l=[]\n",
    "for i in range(n):\n",
    "    l.append(0)\n",
    "for i in range(n):\n",
    "    if i==0:\n",
    "        l[i]=\"#\"*n\n",
    "    elif i==n-1:\n",
    "        l[i]=\"#\"*n\n",
    "    else:\n",
    "        l[i]=\"{}{}{}\".format(\"#\",\" \"*(n-2),\"#\")\n",
    "l\n",
    "    "
   ]
  },
  {
   "cell_type": "code",
   "execution_count": 65,
   "metadata": {},
   "outputs": [
    {
     "data": {
      "text/plain": [
       "[0, 1, 2, 3, 4, 0, 1, 2, 3]"
      ]
     },
     "execution_count": 65,
     "metadata": {},
     "output_type": "execute_result"
    }
   ],
   "source": [
    "l=[0,0,0,0,4,0,0,0,0]\n",
    "for i in range(round(len(l)/2)):\n",
    "    l[i]=i\n",
    "for i in range(len(l)-1,round(len(l)/2),-1):\n",
    "    l[i]=i-5\n",
    "l"
   ]
  },
  {
   "cell_type": "code",
   "execution_count": 86,
   "metadata": {},
   "outputs": [
    {
     "data": {
      "text/plain": [
       "['2344b', '932c', '832u32']"
      ]
     },
     "execution_count": 86,
     "metadata": {},
     "output_type": "execute_result"
    }
   ],
   "source": [
    "from collections import OrderedDict\n",
    "l=[\"932c\", \"832u32\", \"2344b\"]\n",
    "k=[]\n",
    "d={}\n",
    "ab=\"abcdefghijklmnopqrstuvwxyz\"\n",
    "for i in l:\n",
    "    for j in i:\n",
    "        if j in ab:\n",
    "            d[j]=i\n",
    "x=dict(sorted(d.items()))\n",
    "for i in x:\n",
    "    k.append(x[i])\n",
    "k\n",
    "    \n"
   ]
  },
  {
   "cell_type": "code",
   "execution_count": 16,
   "metadata": {},
   "outputs": [
    {
     "name": "stdout",
     "output_type": "stream",
     "text": [
      "5\n"
     ]
    }
   ],
   "source": [
    "n=10\n",
    "f=[]\n",
    "j=[]\n",
    "for i in range(n+1):\n",
    "    j.append(i)\n",
    "for i in range(n+1):\n",
    "    f.append(i)\n",
    "f[0]=1\n",
    "f[1]=1\n",
    "for i in range(2,len(f)):\n",
    "    f[i]=f[i-1]*i\n",
    "d={}\n",
    "for i in range(len(f)):\n",
    "    d[j[i]]=f[i]\n",
    "for i in d:\n",
    "    if d[i]%n==0:\n",
    "        print(i)\n",
    "        break\n",
    "\n",
    "    "
   ]
  },
  {
   "cell_type": "code",
   "execution_count": 28,
   "metadata": {},
   "outputs": [],
   "source": [
    "def rhyming(a,b):\n",
    "    v=\"aeiou\"\n",
    "    f=[]\n",
    "    k=[]\n",
    "    l=a.split(\" \")\n",
    "    j=b.split(\" \")\n",
    "    count=0\n",
    "    for i in l[-1]:\n",
    "        if i in v:\n",
    "            f.append(i)\n",
    "    for i in j[-1]:\n",
    "        if i in v:\n",
    "            k.append(i)\n",
    "    if len(f)!=len(k):\n",
    "        flag=1\n",
    "    for i in range(len(f)):\n",
    "        if f[i]!=k[i]:\n",
    "            count=count+1\n",
    "    if count>=1:\n",
    "        flag=3\n",
    "    if flag==1:\n",
    "        return(False)\n",
    "    elif flag==2:\n",
    "        return(False)\n",
    "    elif  flag==3:\n",
    "        return(False)\n",
    "    else:\n",
    "        return(True)\n",
    "\n",
    "\n",
    "\n",
    "        "
   ]
  },
  {
   "cell_type": "code",
   "execution_count": 31,
   "metadata": {},
   "outputs": [
    {
     "name": "stdout",
     "output_type": "stream",
     "text": [
      "sat\n"
     ]
    }
   ],
   "source": [
    "d={\"monday\":1,\"tuesday\":2,\"wednesday\":3,\"thursday\":4,\"friday\":5,\"sat\":6,\"sunday\":7}\n",
    "a=\"tuesday\"\n",
    "if a in d:\n",
    "    x=d[a]+4\n",
    "for i in d.items():\n",
    "    if x==i[1]:\n",
    "        print(i[0])"
   ]
  },
  {
   "cell_type": "code",
   "execution_count": 37,
   "metadata": {},
   "outputs": [
    {
     "name": "stdout",
     "output_type": "stream",
     "text": [
      "False\n"
     ]
    }
   ],
   "source": [
    "s=[\"Adrian M.\",\"Harriet S.\",\"Mandy T.\"]\n",
    "l=[\"Amazing Artichoke\",\"Hopeful gedgehog\", \"Marvelous Mouse\"]\n",
    "k={}\n",
    "t={}\n",
    "count=0\n",
    "for i in s:\n",
    "    k[i[0]]=1\n",
    "for i in l:\n",
    "    t[i[0]]=i.count(i[0])\n",
    "for i in k:\n",
    "    if i in t:\n",
    "        if k[i]+1==t[i]:\n",
    "            count=count+1\n",
    "if count==len(s):\n",
    "    print(True)\n",
    "else:\n",
    "    print(False)\n",
    "l=[22, 30, 11, 17, 15, 52, 27, 12]\n",
    "\n",
    " \n",
    "    \n",
    "        "
   ]
  },
  {
   "cell_type": "code",
   "execution_count": 38,
   "metadata": {},
   "outputs": [
    {
     "name": "stdout",
     "output_type": "stream",
     "text": [
      "Spider-Man\n"
     ]
    }
   ],
   "source": [
    "customers = {\n",
    "\"Batman\": [22, 30, 11, 17, 15, 52, 27, 12],\n",
    "\"Spider-Man\": [5, 17, 30, 33, 40, 22, 26, 10, 11, 45]\n",
    "}\n",
    "m=5\n",
    "g=20\n",
    "count=0\n",
    "for i in customers.items():\n",
    "    for j in i[1]:\n",
    "        if j>g:\n",
    "            count=count+1\n",
    "    if count>m:\n",
    "        print(i[0])\n",
    "        \n",
    "    "
   ]
  },
  {
   "cell_type": "code",
   "execution_count": 47,
   "metadata": {},
   "outputs": [
    {
     "data": {
      "text/plain": [
       "['parmesan', 'bacon']"
      ]
     },
     "execution_count": 47,
     "metadata": {},
     "output_type": "execute_result"
    }
   ],
   "source": [
    "class pizza:\n",
    "    def __init__(self,ingredients):\n",
    "        self.ingredients=ingredients\n",
    "    def garden_feast(self):\n",
    "        return([\"parmesan\",\"bacon\"])\n",
    "p1=pizza([\"asbjk\"])\n",
    "p1.ingredients\n",
    "p1.garden_feast()\n",
    "\n"
   ]
  },
  {
   "cell_type": "code",
   "execution_count": 11,
   "metadata": {},
   "outputs": [
    {
     "data": {
      "text/plain": [
       "[0, 1, 2, 3, 4, 0, 0, 0, 0]"
      ]
     },
     "execution_count": 11,
     "metadata": {},
     "output_type": "execute_result"
    }
   ],
   "source": [
    "l=[0,0,0,0,4,0,0,0,0]\n",
    "n=round(len(l)/2)\n",
    "for i in range(n):\n",
    "    l[i]=i\n",
    "for i in "
   ]
  },
  {
   "cell_type": "code",
   "execution_count": null,
   "metadata": {},
   "outputs": [],
   "source": [
    "l=[1,2,4,9,10,-10,-9,-3]\n"
   ]
  },
  {
   "cell_type": "code",
   "execution_count": null,
   "metadata": {},
   "outputs": [],
   "source": []
  },
  {
   "cell_type": "code",
   "execution_count": null,
   "metadata": {},
   "outputs": [],
   "source": []
  }
 ],
 "metadata": {
  "kernelspec": {
   "display_name": "Python 3",
   "language": "python",
   "name": "python3"
  },
  "language_info": {
   "codemirror_mode": {
    "name": "ipython",
    "version": 3
   },
   "file_extension": ".py",
   "mimetype": "text/x-python",
   "name": "python",
   "nbconvert_exporter": "python",
   "pygments_lexer": "ipython3",
   "version": "3.8.3"
  }
 },
 "nbformat": 4,
 "nbformat_minor": 4
}
