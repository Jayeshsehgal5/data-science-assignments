{
 "cells": [
  {
   "cell_type": "markdown",
   "metadata": {},
   "source": [
    "1. Write a Python program to find words which are greater than given length k?\n",
    "2. Write a Python program for removing i-th character from a string?\n",
    "3. Write a Python program to split and join a string?\n",
    "4. Write a Python to check if a given string is binary string or not?\n",
    "5. Write a Python program to find uncommon words from two Strings?\n",
    "6. Write a Python to find all duplicate characters in string?\n",
    "7. Write a Python Program to check if a string contains any special character?"
   ]
  },
  {
   "cell_type": "code",
   "execution_count": 1,
   "metadata": {
    "scrolled": true
   },
   "outputs": [
    {
     "name": "stdout",
     "output_type": "stream",
     "text": [
      "enter the word  lenght k   5\n",
      "enter a wordabcdef\n",
      "word is greater then length k abcdef\n"
     ]
    }
   ],
   "source": [
    "#1\n",
    "k=int(input(\"enter the word  lenght k   \"))\n",
    "s=input(\"enter a word\")\n",
    "if len(s)>k:\n",
    "    print(\"word is greater then length k\",s)\n",
    "else:\n",
    "    print(\"word is shorter then length k\")"
   ]
  },
  {
   "cell_type": "code",
   "execution_count": 7,
   "metadata": {},
   "outputs": [
    {
     "name": "stdout",
     "output_type": "stream",
     "text": [
      "enter the index to remove the character   3\n",
      "enter a string   abcdef\n",
      "abcef"
     ]
    }
   ],
   "source": [
    "#2\n",
    "i=int(input(\"enter the index to remove the character   \"))\n",
    "s=input(\"enter a string   \")\n",
    "l=[]\n",
    "for j in range(len(s)):\n",
    "    if j==i:\n",
    "        continue\n",
    "    else:\n",
    "        print(s[j],end=\"\")"
   ]
  },
  {
   "cell_type": "code",
   "execution_count": 13,
   "metadata": {},
   "outputs": [
    {
     "name": "stdout",
     "output_type": "stream",
     "text": [
      "enter a string  my name is\n",
      "['my', 'name', 'is']\n",
      "my name is "
     ]
    }
   ],
   "source": [
    "#3\n",
    "s=input(\"enter a string  \")\n",
    "s=s.split(\" \")\n",
    "print(s)\n",
    "for i in s:\n",
    "    print(i,end=\" \")\n",
    "\n",
    "\n",
    "\n"
   ]
  },
  {
   "cell_type": "code",
   "execution_count": 22,
   "metadata": {},
   "outputs": [
    {
     "name": "stdout",
     "output_type": "stream",
     "text": [
      "enter a string0123\n",
      "not a binary string\n"
     ]
    }
   ],
   "source": [
    "#4\n",
    "x=\"01\"\n",
    "s=input(\"enter a string\")\n",
    "y=0\n",
    "for i in s:\n",
    "    if i not in x:\n",
    "        y=1\n",
    "        break\n",
    "        \n",
    "if y==1:\n",
    "    print(\"not a binary string\")\n",
    "else:\n",
    "    print(\"binary string\")\n",
    "        \n",
    "    \n",
    "        "
   ]
  },
  {
   "cell_type": "code",
   "execution_count": 24,
   "metadata": {},
   "outputs": [
    {
     "name": "stdout",
     "output_type": "stream",
     "text": [
      "enter the first string  my name is \n",
      "enter the second string   my name is jay sehgal\n",
      "uncommon word are  jay sehgal\n"
     ]
    }
   ],
   "source": [
    "#5\n",
    "a=input(\"enter the first string  \")\n",
    "b=input(\"enter the second string   \")\n",
    "a=a.split()\n",
    "b=b.split()\n",
    "x=\"\"\n",
    "for i in a:\n",
    "    if i not in b:\n",
    "        x=x+ \" \"+ i\n",
    "for j in b:\n",
    "    if j not in a:\n",
    "        x=x+ \" \"+j\n",
    "print(\"uncommon word are\",x)\n",
    "        "
   ]
  },
  {
   "cell_type": "code",
   "execution_count": 1,
   "metadata": {},
   "outputs": [
    {
     "name": "stdout",
     "output_type": "stream",
     "text": [
      "enter a stringababcde\n"
     ]
    },
    {
     "data": {
      "text/plain": [
       "{'a', 'b'}"
      ]
     },
     "execution_count": 1,
     "metadata": {},
     "output_type": "execute_result"
    }
   ],
   "source": [
    "#6\n",
    "x=0\n",
    "s=input(\"enter a string\")\n",
    "l=[]\n",
    "for i in s:\n",
    "    if s.count(i)>1:\n",
    "        l.append(i)\n",
    "duplicates=set(l)\n",
    "duplicates\n",
    "       \n",
    "        \n",
    "\n",
    "        \n",
    "    \n"
   ]
  },
  {
   "cell_type": "code",
   "execution_count": 23,
   "metadata": {},
   "outputs": [
    {
     "name": "stdout",
     "output_type": "stream",
     "text": [
      "enter a string  abcd$\n",
      "true\n"
     ]
    }
   ],
   "source": [
    "special = \"\"\"!@#$%^&*()-+?_=,<>/\"\"\"\n",
    "s=input(\"enter a string  \")\n",
    "x=0\n",
    "for i in s:\n",
    "    if i in special:\n",
    "        x=1\n",
    "        break\n",
    "if x==1:\n",
    "    print(\"true\")\n",
    "else:\n",
    "    print(\"false\")\n",
    "\n",
    "\n",
    "\n",
    "        \n"
   ]
  },
  {
   "cell_type": "code",
   "execution_count": null,
   "metadata": {},
   "outputs": [],
   "source": [
    "\n"
   ]
  }
 ],
 "metadata": {
  "kernelspec": {
   "display_name": "Python 3",
   "language": "python",
   "name": "python3"
  },
  "language_info": {
   "codemirror_mode": {
    "name": "ipython",
    "version": 3
   },
   "file_extension": ".py",
   "mimetype": "text/x-python",
   "name": "python",
   "nbconvert_exporter": "python",
   "pygments_lexer": "ipython3",
   "version": "3.8.3"
  }
 },
 "nbformat": 4,
 "nbformat_minor": 4
}
