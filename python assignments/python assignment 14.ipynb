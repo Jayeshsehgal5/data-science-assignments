{
 "cells": [
  {
   "cell_type": "markdown",
   "metadata": {},
   "source": [
    "Define a class with a generator which can iterate the numbers, which are divisible by\n",
    "7, between a given range 0 and n.\n"
   ]
  },
  {
   "cell_type": "code",
   "execution_count": 2,
   "metadata": {},
   "outputs": [
    {
     "name": "stdout",
     "output_type": "stream",
     "text": [
      "0\n",
      "7\n",
      "14\n",
      "21\n",
      "28\n",
      "35\n",
      "42\n"
     ]
    }
   ],
   "source": [
    "class itera:\n",
    "    def gen(self,n):\n",
    "        for i in range(n):\n",
    "            if i%7==0:\n",
    "                yield(i)\n",
    "a=itera()\n",
    "for i in a.gen(45):\n",
    "    print(i)"
   ]
  },
  {
   "cell_type": "markdown",
   "metadata": {},
   "source": [
    "Write a program to compute the frequency of the words from the input. The output\n",
    "should output after sorting the key alphanumerically."
   ]
  },
  {
   "cell_type": "code",
   "execution_count": 3,
   "metadata": {},
   "outputs": [
    {
     "name": "stdout",
     "output_type": "stream",
     "text": [
      "enter a string in comma seperated formatNew,to,Python,or,choosing,between,Python,2,and,Python,3?,Read,Python,2,or,Python 3\n"
     ]
    },
    {
     "data": {
      "text/plain": [
       "{'2': 2,\n",
       " '3?': 1,\n",
       " 'New': 1,\n",
       " 'Python': 4,\n",
       " 'Python 3': 1,\n",
       " 'Read': 1,\n",
       " 'and': 1,\n",
       " 'between': 1,\n",
       " 'choosing': 1,\n",
       " 'or': 2,\n",
       " 'to': 1}"
      ]
     },
     "execution_count": 3,
     "metadata": {},
     "output_type": "execute_result"
    }
   ],
   "source": [
    "s=input(\"enter a string in comma seperated format\")\n",
    "s=s.split(\",\")\n",
    "s.sort()\n",
    "x={}\n",
    "for i in s:\n",
    "    x[i]=s.count(i)\n",
    "x\n",
    "\n"
   ]
  },
  {
   "cell_type": "markdown",
   "metadata": {},
   "source": [
    "Define a class Person and its two child classes: Male and Female. All classes have a\n",
    "method &quot;getGender&quot; which can print &quot;Male&quot; for Male class and &quot;Female&quot; for Female\n",
    "class."
   ]
  },
  {
   "cell_type": "code",
   "execution_count": 16,
   "metadata": {},
   "outputs": [
    {
     "name": "stdout",
     "output_type": "stream",
     "text": [
      "male\n",
      "female\n"
     ]
    }
   ],
   "source": [
    "class person:\n",
    "    def getGender(self):\n",
    "        return(\" \")\n",
    "\n",
    "    \n",
    "class male(person):\n",
    "    def getGender(self):\n",
    "        return(\"male\")\n",
    "class female(person):\n",
    "    def getGender(self):\n",
    "        return(\"female\")\n",
    "jay=male()\n",
    "print(jay.getGender())\n",
    "xyz=female()\n",
    "print(xyz.getGender())\n"
   ]
  },
  {
   "cell_type": "markdown",
   "metadata": {},
   "source": [
    "Please write a program to generate all sentences where subject is in [&quot;I&quot;, &quot;You&quot;] and\n",
    "verb is in [&quot;Play&quot;, &quot;Love&quot;] and the object is in [&quot;Hockey&quot;,&quot;Football&quot;]."
   ]
  },
  {
   "cell_type": "code",
   "execution_count": 25,
   "metadata": {},
   "outputs": [
    {
     "name": "stdout",
     "output_type": "stream",
     "text": [
      "I play Hockey\n",
      "I play football\n",
      "I love Hockey\n",
      "I love football\n",
      "You play Hockey\n",
      "You play football\n",
      "You love Hockey\n",
      "You love football\n"
     ]
    }
   ],
   "source": [
    "s=[\"I\",\"You\"]\n",
    "v=[\"play\",\"love\"]\n",
    "obj=[\"Hockey\",\"football\"]\n",
    "for i in s:\n",
    "    for j in v:\n",
    "        for k in obj:\n",
    "            print(i,j,k)\n",
    "\n",
    "           \n",
    "            "
   ]
  },
  {
   "cell_type": "markdown",
   "metadata": {},
   "source": [
    "Please write a program to compress and decompress the string &quot;hello world!hello\n",
    "world!hello world!hello world!&quot;."
   ]
  },
  {
   "cell_type": "code",
   "execution_count": 1,
   "metadata": {},
   "outputs": [
    {
     "data": {
      "text/plain": [
       "'h4e4l12o8 4w4r4d4!4'"
      ]
     },
     "execution_count": 1,
     "metadata": {},
     "output_type": "execute_result"
    }
   ],
   "source": [
    "a=\"hello world!hello world!hello world!hello world!\"\n",
    "d={}\n",
    "l=[]\n",
    "for i in a:\n",
    "    d[i]=a.count(i)\n",
    "for i,j in d.items():\n",
    "    l.append(str(i))\n",
    "    l.append(str(j))\n",
    "x=\"\".join(l)\n",
    "x\n",
    "        \n",
    "\n",
    "    "
   ]
  },
  {
   "cell_type": "code",
   "execution_count": null,
   "metadata": {},
   "outputs": [],
   "source": []
  }
 ],
 "metadata": {
  "kernelspec": {
   "display_name": "Python 3",
   "language": "python",
   "name": "python3"
  },
  "language_info": {
   "codemirror_mode": {
    "name": "ipython",
    "version": 3
   },
   "file_extension": ".py",
   "mimetype": "text/x-python",
   "name": "python",
   "nbconvert_exporter": "python",
   "pygments_lexer": "ipython3",
   "version": "3.8.3"
  }
 },
 "nbformat": 4,
 "nbformat_minor": 4
}
