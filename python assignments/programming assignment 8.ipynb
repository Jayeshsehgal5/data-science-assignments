{
 "cells": [
  {
   "cell_type": "markdown",
   "metadata": {},
   "source": [
    "1. Write a Python Program to Add Two Matrices?\n",
    "2. Write a Python Program to Multiply Two Matrices?\n",
    "3. Write a Python Program to Transpose a Matrix?\n",
    "4. Write a Python Program to Sort Words in Alphabetic Order?\n",
    "5. Write a Python Program to Remove Punctuation From a String?\n",
    "        "
   ]
  },
  {
   "cell_type": "code",
   "execution_count": 11,
   "metadata": {},
   "outputs": [
    {
     "name": "stdout",
     "output_type": "stream",
     "text": [
      "enter a value2\n",
      "enter a value3\n",
      "enter a value4\n",
      "enter a value5\n",
      "[[2, 3], [4, 5]]\n",
      "enter a value6\n",
      "enter a value7\n",
      "enter a value78\n",
      "enter a value7\n",
      "[[4, 5], [4, 5]]\n",
      "sum of matrices [[6, 8], [8, 10]]\n"
     ]
    }
   ],
   "source": [
    "l=[]\n",
    "for i in range(1,3):\n",
    "    m=[]\n",
    "    for j in range(1,3):\n",
    "        val=int(input(\"enter a value\"))\n",
    "        m.append(val)\n",
    "    l.append(m)\n",
    "print(l)\n",
    "k=[]\n",
    "for w in range(1,3):\n",
    "    r=[]\n",
    "    for q in range(1,3):\n",
    "        val1=int(input(\"enter a value\"))\n",
    "        r.append(val)\n",
    "    k.append(m)\n",
    "print(k)\n",
    "t=[[0,0],\n",
    "  [ 0,0]]\n",
    "for o in range(2):\n",
    "    for e in range(2):\n",
    "        t[o][e]=l[o][e]+k[o][e]\n",
    "print(\"sum of matrices\",t)"
   ]
  },
  {
   "cell_type": "code",
   "execution_count": 1,
   "metadata": {},
   "outputs": [
    {
     "name": "stdout",
     "output_type": "stream",
     "text": [
      "enter a value2\n",
      "enter a value3\n",
      "enter a value4\n",
      "enter a value5\n",
      "[[2, 3], [4, 5]]\n",
      "enter a value6\n",
      "enter a value7\n",
      "enter a value8\n",
      "enter a value9\n",
      "[[4, 5], [4, 5]]\n",
      "[[20, 25], [36, 45]]\n"
     ]
    }
   ],
   "source": [
    "#2\n",
    "l=[]\n",
    "for i in range(1,3):\n",
    "    m=[]\n",
    "    for j in range(1,3):\n",
    "        val=int(input(\"enter a value\"))\n",
    "        m.append(val)\n",
    "    l.append(m)\n",
    "print(l)\n",
    "k=[]\n",
    "for w in range(1,3):\n",
    "    r=[]\n",
    "    for q in range(1,3):\n",
    "        val1=int(input(\"enter a value\"))\n",
    "        r.append(val)\n",
    "    k.append(m)\n",
    "print(k)\n",
    "t=[[0,0],\n",
    "  [ 0,0]]\n",
    "for o in range(2):\n",
    "    for e in range(2):\n",
    "        for m in range(2):\n",
    "            t[o][e] += l[o][m] * k[m][e]\n",
    "print(t)\n",
    "\n",
    "            "
   ]
  },
  {
   "cell_type": "code",
   "execution_count": 3,
   "metadata": {},
   "outputs": [
    {
     "name": "stdout",
     "output_type": "stream",
     "text": [
      "[[1, 3], [2, 4]]\n"
     ]
    }
   ],
   "source": [
    "#3\n",
    "x=[[1,2],\n",
    "   [3,4]]\n",
    "transpose=[[0,0],\n",
    "          [0,0]]\n",
    "for i in range(len(x)):\n",
    "    for j in range(len(x[0])):\n",
    "        transpose[i][j]=x[j][i]\n",
    "print(transpose)"
   ]
  },
  {
   "cell_type": "code",
   "execution_count": 26,
   "metadata": {},
   "outputs": [
    {
     "name": "stdout",
     "output_type": "stream",
     "text": [
      "enter a stringmy name is\n",
      "['my', 'name', 'is']\n",
      "is my name "
     ]
    }
   ],
   "source": [
    "#4\n",
    "s=input(\"enter a string\")\n",
    "l=[]\n",
    "for i in s.split():\n",
    "    l.append(i.lower())\n",
    "print(l)\n",
    "l.sort()\n",
    "for i in l:\n",
    "    print(i,end=\" \")\n"
   ]
  },
  {
   "cell_type": "code",
   "execution_count": 28,
   "metadata": {},
   "outputs": [
    {
     "name": "stdout",
     "output_type": "stream",
     "text": [
      "enter a stringmy name ,is???,\n",
      "my name is\n"
     ]
    }
   ],
   "source": [
    "string=input(\"enter a string\")\n",
    "p=\"\"\"!()-[]{};:'\"\\,<>./?@#$%^&*_~\"\"\"\n",
    "s=\"\"\n",
    "for i in string:\n",
    "    if i not in p:\n",
    "        s=s+str(i)\n",
    "print(s)\n"
   ]
  },
  {
   "cell_type": "markdown",
   "metadata": {},
   "source": []
  },
  {
   "cell_type": "code",
   "execution_count": null,
   "metadata": {},
   "outputs": [],
   "source": []
  }
 ],
 "metadata": {
  "kernelspec": {
   "display_name": "Python 3",
   "language": "python",
   "name": "python3"
  },
  "language_info": {
   "codemirror_mode": {
    "name": "ipython",
    "version": 3
   },
   "file_extension": ".py",
   "mimetype": "text/x-python",
   "name": "python",
   "nbconvert_exporter": "python",
   "pygments_lexer": "ipython3",
   "version": "3.8.3"
  }
 },
 "nbformat": 4,
 "nbformat_minor": 4
}
