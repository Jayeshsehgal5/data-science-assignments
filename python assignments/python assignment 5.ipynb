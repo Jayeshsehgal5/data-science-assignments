{
 "cells": [
  {
   "cell_type": "markdown",
   "metadata": {},
   "source": [
    "1. Write a Python Program to Find LCM?\n",
    "2. Write a Python Program to Find HCF?\n",
    "3. Write a Python Program to Convert Decimal to Binary, Octal and Hexadecimal?\n",
    "4. Write a Python Program To Find ASCII value of a character?\n",
    "5. Write a Python Program to Make a Simple Calculator with 4 basic mathematical operations?\n"
   ]
  },
  {
   "cell_type": "code",
   "execution_count": 2,
   "metadata": {},
   "outputs": [
    {
     "name": "stdout",
     "output_type": "stream",
     "text": [
      "enter a number  2\n",
      "enter a number  3\n",
      "6\n"
     ]
    }
   ],
   "source": [
    "#1\n",
    "a=int(input(\"enter a number  \"))\n",
    "b=int(input(\"enter a number  \"))\n",
    "if(a > b ):   \n",
    "    max= a\n",
    "else:\n",
    "    max= b\n",
    "while(True):\n",
    "    if(max % a == 0 and max % b == 0):   \n",
    "        print(max)\n",
    "        break\n",
    "    max= max+ 1\n",
    "\n",
    "    "
   ]
  },
  {
   "cell_type": "code",
   "execution_count": 9,
   "metadata": {},
   "outputs": [
    {
     "name": "stdout",
     "output_type": "stream",
     "text": [
      "enter a number  20\n",
      "enter a number  25\n",
      "5\n"
     ]
    }
   ],
   "source": [
    "#2\n",
    "a=int(input(\"enter a number  \"))\n",
    "b=int(input(\"enter a number  \"))\n",
    "if(a > b ):   \n",
    "    min= b\n",
    "else:\n",
    "    min= a\n",
    "for i in range(1,min+1):\n",
    "    if(a % i == 0 and b % i == 0):   \n",
    "        hcf=i\n",
    "print(hcf)\n"
   ]
  },
  {
   "cell_type": "code",
   "execution_count": 13,
   "metadata": {},
   "outputs": [
    {
     "name": "stdout",
     "output_type": "stream",
     "text": [
      "enter a decimal number234\n",
      "0b11101010\n",
      "0o352\n",
      "0xea\n"
     ]
    }
   ],
   "source": [
    "#3\n",
    "a=int(input(\"enter a decimal number\"))\n",
    "print(bin(a))\n",
    "print(oct(a))\n",
    "print(hex(a))\n"
   ]
  },
  {
   "cell_type": "code",
   "execution_count": 14,
   "metadata": {},
   "outputs": [
    {
     "name": "stdout",
     "output_type": "stream",
     "text": [
      "enter a charactera\n",
      "97\n"
     ]
    }
   ],
   "source": [
    "#4\n",
    "a=input(\"enter a character\")\n",
    "print(ord(a))"
   ]
  },
  {
   "cell_type": "code",
   "execution_count": 15,
   "metadata": {},
   "outputs": [
    {
     "name": "stdout",
     "output_type": "stream",
     "text": [
      "enter a number23\n",
      "enter a number45\n",
      "enter a choice +,-,*,/*\n",
      "multiplication 1035\n"
     ]
    }
   ],
   "source": [
    "#5\n",
    "a=int(input(\"enter a number\"))\n",
    "b=int(input(\"enter a number\"))\n",
    "c=input(\"enter a choice +,-,*,/\")\n",
    "if c==\"+\":\n",
    "    sum=a+b\n",
    "    print(\"sum\",s)\n",
    "elif c==\"-\":\n",
    "    subtraction=a-b\n",
    "    print(\"subtraction=\",subtraction)\n",
    "elif c==\"*\":\n",
    "    m=a*b\n",
    "    print(\"multiplication\",m)\n",
    "elif c==\"/\":\n",
    "    d=a/b\n",
    "    print(\"division\",d)\n",
    "        \n"
   ]
  },
  {
   "cell_type": "code",
   "execution_count": null,
   "metadata": {},
   "outputs": [],
   "source": []
  }
 ],
 "metadata": {
  "kernelspec": {
   "display_name": "Python 3",
   "language": "python",
   "name": "python3"
  },
  "language_info": {
   "codemirror_mode": {
    "name": "ipython",
    "version": 3
   },
   "file_extension": ".py",
   "mimetype": "text/x-python",
   "name": "python",
   "nbconvert_exporter": "python",
   "pygments_lexer": "ipython3",
   "version": "3.8.3"
  }
 },
 "nbformat": 4,
 "nbformat_minor": 4
}
