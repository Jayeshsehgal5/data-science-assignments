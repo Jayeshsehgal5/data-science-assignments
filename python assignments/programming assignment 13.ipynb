{
 "cells": [
  {
   "cell_type": "markdown",
   "metadata": {},
   "source": [
    "Write a program that calculates and prints the value according to the given formula:\n",
    "Q = Square root of [(2 * C * D)/H]\n",
    "Following are the fixed values of C and H:\n",
    "C is 50. H is 30.\n",
    "D is the variable whose values should be input to your program in a comma-separated\n",
    "sequence."
   ]
  },
  {
   "cell_type": "code",
   "execution_count": 6,
   "metadata": {},
   "outputs": [
    {
     "name": "stdout",
     "output_type": "stream",
     "text": [
      "5.773502691896258,8.16496580927726,10.0,"
     ]
    }
   ],
   "source": [
    "import math\n",
    "def cal(*args):\n",
    "    C=50\n",
    "    H=30\n",
    "    for D in args:\n",
    "        print(math.sqrt((2*C*D)/H),end=\",\")\n",
    "cal(10,20,30)\n"
   ]
  },
  {
   "cell_type": "markdown",
   "metadata": {},
   "source": [
    "Write a program which takes 2 digits, X,Y as input and generates a 2-dimensional array. The\n",
    "element value in the i-th row and j-th column of the array should be i*j."
   ]
  },
  {
   "cell_type": "code",
   "execution_count": 9,
   "metadata": {},
   "outputs": [
    {
     "name": "stdout",
     "output_type": "stream",
     "text": [
      "enter a integer3\n",
      "enter a in integer5\n"
     ]
    },
    {
     "data": {
      "text/plain": [
       "[[0, 0, 0, 0, 0], [0, 1, 2, 3, 4], [0, 2, 4, 6, 8]]"
      ]
     },
     "execution_count": 9,
     "metadata": {},
     "output_type": "execute_result"
    }
   ],
   "source": [
    "X,Y=int(input(\"enter a integer\")),int(input(\"enter a in integer\"))\n",
    "l=[]\n",
    "for i in range(X):\n",
    "    m=[]\n",
    "    for j in range(Y):\n",
    "        m.append(i*j)\n",
    "    l.append(m)\n",
    "l\n"
   ]
  },
  {
   "cell_type": "markdown",
   "metadata": {},
   "source": [
    "Write a program that accepts a comma separated sequence of words as input and prints the\n",
    "words in a comma-separated sequence after sorting them alphabetically."
   ]
  },
  {
   "cell_type": "code",
   "execution_count": 16,
   "metadata": {},
   "outputs": [
    {
     "name": "stdout",
     "output_type": "stream",
     "text": [
      "enter comma seperated wordsmy,name,is,xyz\n",
      "my,name,is,xyz\n",
      "is,my,name,xyz,"
     ]
    }
   ],
   "source": [
    "s=input(\"enter comma seperated words\")\n",
    "l=s.split(\",\")\n",
    "print(s)\n",
    "l.sort()\n",
    "for i in l:\n",
    "    print(i,end=\",\")\n"
   ]
  },
  {
   "cell_type": "markdown",
   "metadata": {},
   "source": [
    "Write a program that accepts a sequence of whitespace separated words as input and prints the words after removing all duplicate words and sorting them alphanumerically."
   ]
  },
  {
   "cell_type": "code",
   "execution_count": 17,
   "metadata": {},
   "outputs": [
    {
     "name": "stdout",
     "output_type": "stream",
     "text": [
      "enter whitespace seperated wordsi am xyz i am abc\n",
      "xyz i abc am "
     ]
    }
   ],
   "source": [
    "s=input(\"enter whitespace seperated words\")\n",
    "l=s.split(\" \")\n",
    "l=set(l)\n",
    "for i in l:\n",
    "    print(i,end=\" \")"
   ]
  },
  {
   "cell_type": "markdown",
   "metadata": {},
   "source": [
    "Write a program that accepts a sentence and calculate the number of letters and digits."
   ]
  },
  {
   "cell_type": "code",
   "execution_count": 22,
   "metadata": {},
   "outputs": [
    {
     "name": "stdout",
     "output_type": "stream",
     "text": [
      "hello123\n",
      "5\n",
      "3\n"
     ]
    }
   ],
   "source": [
    "a=input()\n",
    "letters=0\n",
    "digits=0\n",
    "for i in a:\n",
    "    if i.isalpha()==True:\n",
    "        letters=letters+1\n",
    "    elif i.isdigit()==True:\n",
    "        digits=digits+1\n",
    "    else:\n",
    "        pass\n",
    "print(letters)\n",
    "print(digits)\n",
    "\n",
    "\n",
    "        \n",
    "    \n",
    "    "
   ]
  },
  {
   "cell_type": "markdown",
   "metadata": {},
   "source": [
    "A website requires the users to input username and password to register. Write a program to\n",
    "check the validity of password input by users.Following are the criteria for checking the password:\n",
    "1. At least 1 letter between [a-z]\n",
    "2. At least 1 number between [0-9]\n",
    "1. At least 1 letter between [A-Z]\n",
    "3. At least 1 character from [$#@]\n",
    "4. Minimum length of transaction password: 6\n",
    "5. Maximum length of transaction password: 12\n",
    "Your program should accept a sequence of comma separated passwords and will check them\n",
    "according to the above criteria. Passwords that match the criteria are to be printed, each\n",
    "separated by a comma."
   ]
  },
  {
   "cell_type": "code",
   "execution_count": 1,
   "metadata": {},
   "outputs": [
    {
     "name": "stdout",
     "output_type": "stream",
     "text": [
      "enter passwords  Jayesh12@,jayesh,jayesh123#\n",
      "['Jayesh12@']\n"
     ]
    }
   ],
   "source": [
    "s=input(\"enter passwords  \")\n",
    "l=s.split(\",\")\n",
    "k=[]\n",
    "special=\"@#$\"\n",
    "for i in l:\n",
    "    counta=0\n",
    "    countdigit=0\n",
    "    countb=0\n",
    "    counts=0\n",
    "    for j in i:\n",
    "        if j.isalpha()==True:\n",
    "            counta=counta+1\n",
    "    for j in i:\n",
    "        if j.isdigit()==True:\n",
    "            countdigit=countdigit+1\n",
    "    for j in i:\n",
    "        if j.isupper()==True:\n",
    "            countb=countb+1\n",
    "    for j in i:\n",
    "        if j in special:\n",
    "            counts=counts+1\n",
    "    if len(i)>12 or len(i)<6:\n",
    "        flag=1\n",
    "    elif counta<1:\n",
    "        flag=2\n",
    "    elif countdigit<1:\n",
    "        flag=3\n",
    "    elif countb<1:\n",
    "        flag=4\n",
    "    elif counts<1:\n",
    "        flag=5\n",
    "    else:\n",
    "        k.append(i)\n",
    "print(k)\n",
    "\n",
    "\n",
    "    \n",
    "        "
   ]
  },
  {
   "cell_type": "markdown",
   "metadata": {},
   "source": []
  },
  {
   "cell_type": "code",
   "execution_count": null,
   "metadata": {},
   "outputs": [],
   "source": []
  }
 ],
 "metadata": {
  "kernelspec": {
   "display_name": "Python 3",
   "language": "python",
   "name": "python3"
  },
  "language_info": {
   "codemirror_mode": {
    "name": "ipython",
    "version": 3
   },
   "file_extension": ".py",
   "mimetype": "text/x-python",
   "name": "python",
   "nbconvert_exporter": "python",
   "pygments_lexer": "ipython3",
   "version": "3.8.3"
  }
 },
 "nbformat": 4,
 "nbformat_minor": 4
}
