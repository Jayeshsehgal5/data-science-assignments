{
 "cells": [
  {
   "cell_type": "markdown",
   "metadata": {},
   "source": [
    "1. Write a Python program to Extract Unique values dictionary values?\n",
    "2. Write a Python program to find the sum of all items in a dictionary?\n",
    "3. Write a Python program to Merging two Dictionaries?\n",
    "4. Write a Python program to convert key-values list to flat dictionary?\n",
    "5. Write a Python program to insertion at the beginning in OrderedDict?\n",
    "6. Write a Python program to check order of character in string using OrderedDict()?\n",
    "7. Write a Python program to sort Python Dictionaries by Key or Value?"
   ]
  },
  {
   "cell_type": "code",
   "execution_count": 2,
   "metadata": {},
   "outputs": [
    {
     "name": "stdout",
     "output_type": "stream",
     "text": [
      "length of dictionary  4\n",
      "1abc\n",
      "2abc\n",
      "3de\n",
      "dictionary is  {1: 'abc', 2: 'abc', 3: 'de'}\n",
      "unique values {'abc', 'de'}\n"
     ]
    }
   ],
   "source": [
    "#1\n",
    "a={}\n",
    "n=int(input(\"length of dictionary  \"))\n",
    "for i in range(1,n):\n",
    "    a[i]=input(i)\n",
    "print(\"dictionary is \",a)\n",
    "a=list(a.values())\n",
    "x=set(a)\n",
    "print(\"unique values\",x)\n",
    "\n"
   ]
  },
  {
   "cell_type": "code",
   "execution_count": 2,
   "metadata": {},
   "outputs": [
    {
     "name": "stdout",
     "output_type": "stream",
     "text": [
      "length of dic  3\n",
      "2\n",
      "3\n",
      "dictionary is  {1: 2, 2: 3}\n",
      "8\n"
     ]
    }
   ],
   "source": [
    "#2\n",
    "a={}\n",
    "n=int(input(\"length of dic  \"))\n",
    "for i in range(1,n):\n",
    "    a[i]=int(input())\n",
    "print(\"dictionary is \",a)\n",
    "l=[]\n",
    "s=0\n",
    "for i,j in a.items():\n",
    "    l.append(i)\n",
    "    l.append(j)\n",
    "for i in l:\n",
    "    s=s+i\n",
    "print(s)\n",
    "    "
   ]
  },
  {
   "cell_type": "code",
   "execution_count": 5,
   "metadata": {},
   "outputs": [
    {
     "data": {
      "text/plain": [
       "{3: 'f', 4: 'efe', 1: 'a', 2: 'c'}"
      ]
     },
     "execution_count": 5,
     "metadata": {},
     "output_type": "execute_result"
    }
   ],
   "source": [
    "#3\n",
    "def merge(d1,d2):\n",
    "    return(d2.update(d1))\n",
    "d1={1:\"a\",2:\"c\"}\n",
    "d2={3:\"f\",4:\"efe\"}\n",
    "merge(d1,d2)\n",
    "d2\n",
    "\n"
   ]
  },
  {
   "cell_type": "code",
   "execution_count": 20,
   "metadata": {},
   "outputs": [
    {
     "data": {
      "text/plain": [
       "{'a': 1, 'b': 3, 'c': 4}"
      ]
     },
     "execution_count": 20,
     "metadata": {},
     "output_type": "execute_result"
    }
   ],
   "source": [
    "#4\n",
    "l=[[\"a\",1],[\"b\",3],[\"c\",4]]\n",
    "dict(l)"
   ]
  },
  {
   "cell_type": "code",
   "execution_count": 30,
   "metadata": {},
   "outputs": [
    {
     "data": {
      "text/plain": [
       "OrderedDict([('c', 4), ('a', 1), ('b', 2)])"
      ]
     },
     "execution_count": 30,
     "metadata": {},
     "output_type": "execute_result"
    }
   ],
   "source": [
    "#5\n",
    "from collections import OrderedDict\n",
    "d=OrderedDict([[\"a\",1],[\"b\",2]])\n",
    "d.update({\"c\":4})\n",
    "d.move_to_end(\"c\",last=False)\n",
    "d"
   ]
  },
  {
   "cell_type": "code",
   "execution_count": 31,
   "metadata": {},
   "outputs": [
    {
     "name": "stdout",
     "output_type": "stream",
     "text": [
      "97\n",
      "98\n"
     ]
    }
   ],
   "source": [
    "#6\n",
    "from collections import OrderedDict\n",
    "d=OrderedDict([[\"a\",1],[\"b\",2]])\n",
    "for i in d.keys():\n",
    "    print(ord(i))"
   ]
  },
  {
   "cell_type": "code",
   "execution_count": 12,
   "metadata": {},
   "outputs": [
    {
     "name": "stdout",
     "output_type": "stream",
     "text": [
      "['c', 'b', 'a']\n",
      "['c', 'a', 'b']\n"
     ]
    }
   ],
   "source": [
    "#7\n",
    "d={\"a\":5,\"b\":3,\"c\":7}\n",
    "a=sorted(d,key= lambda x:x,reverse=True)#by keys\n",
    "b=sorted(d,key=lambda x:d[x],reverse=True)#by values\n",
    "print(a)\n",
    "print(b)"
   ]
  },
  {
   "cell_type": "markdown",
   "metadata": {},
   "source": []
  },
  {
   "cell_type": "code",
   "execution_count": null,
   "metadata": {},
   "outputs": [],
   "source": []
  }
 ],
 "metadata": {
  "kernelspec": {
   "display_name": "Python 3",
   "language": "python",
   "name": "python3"
  },
  "language_info": {
   "codemirror_mode": {
    "name": "ipython",
    "version": 3
   },
   "file_extension": ".py",
   "mimetype": "text/x-python",
   "name": "python",
   "nbconvert_exporter": "python",
   "pygments_lexer": "ipython3",
   "version": "3.8.3"
  }
 },
 "nbformat": 4,
 "nbformat_minor": 4
}
