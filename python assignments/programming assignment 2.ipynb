{
 "cells": [
  {
   "cell_type": "code",
   "execution_count": 2,
   "metadata": {},
   "outputs": [
    {
     "name": "stdout",
     "output_type": "stream",
     "text": [
      "enter kilometers1000\n",
      "miles= 621.5040397762585\n"
     ]
    }
   ],
   "source": [
    "#Write a Python program to convert kilometers to miles?\n",
    "km=int(input(\"enter kilometers\"))\n",
    "miles=km/1.609\n",
    "print(\"miles=\",miles)"
   ]
  },
  {
   "cell_type": "code",
   "execution_count": 3,
   "metadata": {},
   "outputs": [
    {
     "name": "stdout",
     "output_type": "stream",
     "text": [
      "enter temp in celsius45\n",
      "fahrenheit= 113.0\n"
     ]
    }
   ],
   "source": [
    "#Write a Python program to convert Celsius to Fahrenheit\n",
    "celsius=int(input(\"enter temp in celsius\"))\n",
    "f=(celsius*9/5)+32\n",
    "print(\"fahrenheit=\",f)"
   ]
  },
  {
   "cell_type": "code",
   "execution_count": 6,
   "metadata": {
    "scrolled": true
   },
   "outputs": [
    {
     "name": "stdout",
     "output_type": "stream",
     "text": [
      "enter year2020\n",
      "enter month05\n",
      "      May 2020\n",
      "Mo Tu We Th Fr Sa Su\n",
      "             1  2  3\n",
      " 4  5  6  7  8  9 10\n",
      "11 12 13 14 15 16 17\n",
      "18 19 20 21 22 23 24\n",
      "25 26 27 28 29 30 31\n",
      "\n"
     ]
    }
   ],
   "source": [
    "#Write a Python program to display calendar\n",
    "import calendar\n",
    "year=int(input(\"enter year\"))\n",
    "mon=int(input(\"enter month\"))\n",
    "print(calendar.month(year,mon))"
   ]
  },
  {
   "cell_type": "markdown",
   "metadata": {},
   "source": []
  },
  {
   "cell_type": "code",
   "execution_count": 28,
   "metadata": {},
   "outputs": [
    {
     "name": "stdout",
     "output_type": "stream",
     "text": [
      "enter value of x^2  2\n",
      "enter value of x  5\n",
      "enter constant  -3\n",
      "roots are= 2.0 -12.0\n"
     ]
    }
   ],
   "source": [
    "#Write a Python program to solve quadratic equation\n",
    "import math\n",
    "a=int(input(\"enter value of x^2  \"))\n",
    "b=int(input(\"enter value of x  \"))\n",
    "c=int(input(\"enter constant  \"))\n",
    "d=math.sqrt(b**2-4*a*c)\n",
    "x=(-b+d)/2*a\n",
    "x1=(-b-d)/2*a  \n",
    "print(\"roots are=\",x,x1)\n",
    " \n",
    "      \n",
    "      \n",
    "      \n"
   ]
  },
  {
   "cell_type": "code",
   "execution_count": 31,
   "metadata": {},
   "outputs": [
    {
     "name": "stdout",
     "output_type": "stream",
     "text": [
      "enter value of a 23\n",
      "enter value of b 45\n",
      "45\n",
      "23\n"
     ]
    }
   ],
   "source": [
    "#Write a Python program to swap two variables without temp variable?\n",
    "a=int(input(\"enter value of a \"))\n",
    "b=int(input(\"enter value of b \"))\n",
    "a,b=b,a\n",
    "print(a)\n",
    "print(b)"
   ]
  },
  {
   "cell_type": "code",
   "execution_count": null,
   "metadata": {},
   "outputs": [],
   "source": []
  }
 ],
 "metadata": {
  "kernelspec": {
   "display_name": "Python 3",
   "language": "python",
   "name": "python3"
  },
  "language_info": {
   "codemirror_mode": {
    "name": "ipython",
    "version": 3
   },
   "file_extension": ".py",
   "mimetype": "text/x-python",
   "name": "python",
   "nbconvert_exporter": "python",
   "pygments_lexer": "ipython3",
   "version": "3.8.3"
  }
 },
 "nbformat": 4,
 "nbformat_minor": 4
}
