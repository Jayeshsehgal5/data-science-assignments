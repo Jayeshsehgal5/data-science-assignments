{
 "cells": [
  {
   "cell_type": "markdown",
   "metadata": {},
   "source": [
    "1. Write a Python Program to find sum of array?\n",
    "2. Write a Python Program to find largest element in an array?\n",
    "3. Write a Python Program for array rotation?\n",
    "4. Write a Python Program to Split the array and add the first part to the end?\n",
    "5. Write a Python Program to check if given array is Monotonic?\n"
   ]
  },
  {
   "cell_type": "code",
   "execution_count": 2,
   "metadata": {},
   "outputs": [
    {
     "name": "stdout",
     "output_type": "stream",
     "text": [
      "enter no of elemnets in a list4\n",
      "enter values to be appended in list2\n",
      "enter values to be appended in list3\n",
      "enter values to be appended in list4\n",
      "enter values to be appended in list5\n",
      "[2, 3, 4, 5]\n",
      "sum 14\n"
     ]
    }
   ],
   "source": [
    "#1\n",
    "l=[]\n",
    "n=int(input(\"enter no of elemnets in a list\"))\n",
    "for i in range(1,n+1):\n",
    "    val=int(input(\"enter values to be appended in list\"))\n",
    "    l.append(val)\n",
    "print(l)\n",
    "s=0\n",
    "for i in l:\n",
    "    s=s+i\n",
    "print(\"sum\",s)\n",
    "    "
   ]
  },
  {
   "cell_type": "code",
   "execution_count": 5,
   "metadata": {},
   "outputs": [
    {
     "name": "stdout",
     "output_type": "stream",
     "text": [
      "enter no of elemnets in a list3\n",
      "enter values to be appended in list5\n",
      "enter values to be appended in list6\n",
      "enter values to be appended in list7\n",
      "[5, 6, 7]\n",
      "largest no  7\n"
     ]
    }
   ],
   "source": [
    "l=[]\n",
    "n=int(input(\"enter no of elemnets in a list\"))\n",
    "for i in range(1,n+1):\n",
    "    val=int(input(\"enter values to be appended in list\"))\n",
    "    l.append(val)\n",
    "print(l)\n",
    "largest=l[0]\n",
    "for i in range(len(l)):\n",
    "    if l[i]>largest:\n",
    "        largest=l[i]\n",
    "print(\"largest no \",largest)"
   ]
  },
  {
   "cell_type": "code",
   "execution_count": 3,
   "metadata": {},
   "outputs": [
    {
     "name": "stdout",
     "output_type": "stream",
     "text": [
      "no of elements to rotate1\n",
      "[2, 3, 4, 5, 6, 1]\n"
     ]
    }
   ],
   "source": [
    "#3\n",
    "l=[1,2,3,4,5,6]\n",
    "d=int(input(\"no of elements to rotate\"))\n",
    "n=len(l)\n",
    "for i in range(d):\n",
    "    x=l[0]\n",
    "    for j in range(len(l)-1):\n",
    "        l[j]=l[j+1]\n",
    "    l[len(l)-1]=x\n",
    "print(l)\n",
    "    "
   ]
  },
  {
   "cell_type": "code",
   "execution_count": 11,
   "metadata": {},
   "outputs": [
    {
     "name": "stdout",
     "output_type": "stream",
     "text": [
      "part of how many elements2\n",
      "[3, 4, 5, 1, 2]\n"
     ]
    }
   ],
   "source": [
    "#4\n",
    "l=[1,2,3,4,5]\n",
    "d=int(input(\"part of how many elements\"))\n",
    "n=len(l)\n",
    "for i in range(d):\n",
    "    x=l[0]\n",
    "    for j in range(len(l)-1):\n",
    "        l[j]=l[j+1]\n",
    "    l[len(l)-1]=x\n",
    "print(l)\n",
    "    "
   ]
  },
  {
   "cell_type": "code",
   "execution_count": 22,
   "metadata": {},
   "outputs": [
    {
     "name": "stdout",
     "output_type": "stream",
     "text": [
      "True\n"
     ]
    }
   ],
   "source": [
    "#5\n",
    "l=[5,4,3,3,2]\n",
    "m=[]\n",
    "j=[]\n",
    "for i in range(len(l)-1):\n",
    "    if l[i]<=l[i+1]:\n",
    "        m.append(True)\n",
    "    else:\n",
    "        m.append(False)\n",
    "for i in range(len(l)-1):\n",
    "    if l[i]>=l[i+1]:\n",
    "        j.append(True)\n",
    "    else:\n",
    "        j.append(False)\n",
    "print(all(m) or all(j))\n",
    "        \n",
    "    "
   ]
  },
  {
   "cell_type": "markdown",
   "metadata": {},
   "source": []
  },
  {
   "cell_type": "code",
   "execution_count": null,
   "metadata": {},
   "outputs": [],
   "source": []
  }
 ],
 "metadata": {
  "kernelspec": {
   "display_name": "Python 3",
   "language": "python",
   "name": "python3"
  },
  "language_info": {
   "codemirror_mode": {
    "name": "ipython",
    "version": 3
   },
   "file_extension": ".py",
   "mimetype": "text/x-python",
   "name": "python",
   "nbconvert_exporter": "python",
   "pygments_lexer": "ipython3",
   "version": "3.8.3"
  }
 },
 "nbformat": 4,
 "nbformat_minor": 4
}
