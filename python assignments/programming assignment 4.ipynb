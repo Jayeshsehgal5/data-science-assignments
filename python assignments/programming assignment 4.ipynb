{
 "cells": [
  {
   "cell_type": "markdown",
   "metadata": {},
   "source": [
    "1. Write a Python Program to Find the Factorial of a Number?\n",
    "2. Write a Python Program to Display the multiplication Table?\n",
    "3. Write a Python Program to Print the Fibonacci sequence?\n",
    "4. Write a Python Program to Check Armstrong Number?\n",
    "5. Write a Python Program to Find Armstrong Number in an Interval?\n",
    "6. Write a Python Program to Find the Sum of Natural Numbers?\n"
   ]
  },
  {
   "cell_type": "code",
   "execution_count": 2,
   "metadata": {},
   "outputs": [
    {
     "name": "stdout",
     "output_type": "stream",
     "text": [
      "enter a number  4\n",
      "factorial 24\n"
     ]
    }
   ],
   "source": [
    "#1  \n",
    "a=int(input(\"enter a number  \"))\n",
    "f=1\n",
    "for i in range(f,a+1):\n",
    "    f=f*i\n",
    "print(\"factorial\",f)"
   ]
  },
  {
   "cell_type": "code",
   "execution_count": 4,
   "metadata": {},
   "outputs": [
    {
     "name": "stdout",
     "output_type": "stream",
     "text": [
      "enter a number to print its table  5\n",
      "till where you want to prints ist table10\n",
      "5 * 1 = 5\n",
      "5 * 2 = 10\n",
      "5 * 3 = 15\n",
      "5 * 4 = 20\n",
      "5 * 5 = 25\n",
      "5 * 6 = 30\n",
      "5 * 7 = 35\n",
      "5 * 8 = 40\n",
      "5 * 9 = 45\n",
      "5 * 10 = 50\n"
     ]
    }
   ],
   "source": [
    "#2\n",
    "a=int(input(\"enter a number to print its table  \"))\n",
    "b=int(input(\"till where you want to prints ist table\"))\n",
    "for i in range(1,b+1):\n",
    "    x=a*i\n",
    "    print(a,\"*\",i,\"=\",x)"
   ]
  },
  {
   "cell_type": "code",
   "execution_count": 1,
   "metadata": {},
   "outputs": [
    {
     "name": "stdout",
     "output_type": "stream",
     "text": [
      "no of terms in fibonacci series5\n",
      "0\n",
      "1\n",
      "1\n",
      "2\n",
      "3\n"
     ]
    }
   ],
   "source": [
    "#3\n",
    "n=int(input(\"no of terms in fibonacci series\"))\n",
    "a=0\n",
    "b=1\n",
    "\n",
    "for i in range(1,n+1):\n",
    "    print(a)\n",
    "    a,b=b,a+b\n",
    "    \n",
    "\n",
    "    \n"
   ]
  },
  {
   "cell_type": "code",
   "execution_count": 23,
   "metadata": {},
   "outputs": [
    {
     "name": "stdout",
     "output_type": "stream",
     "text": [
      "enter a three digit number153\n",
      "its a arm strong number\n"
     ]
    }
   ],
   "source": [
    "#4\n",
    "n=int(input(\"enter a three digit number\"))\n",
    "arm=0\n",
    "x=n\n",
    "while x>0:\n",
    "    a=x%10\n",
    "    arm=arm+a**3\n",
    "    x=x//10\n",
    "if arm==n:\n",
    "    print(\"its a arm strong number\")\n",
    "else:\n",
    "    print(\"not an armstrong number\")"
   ]
  },
  {
   "cell_type": "code",
   "execution_count": 10,
   "metadata": {},
   "outputs": [
    {
     "name": "stdout",
     "output_type": "stream",
     "text": [
      "enter starting number100\n",
      "enter the end 1000\n",
      "[153, 370, 371, 407]\n"
     ]
    }
   ],
   "source": [
    "#5\n",
    "n=int(input(\"enter starting number\"))\n",
    "k=int(input(\"enter the end \"))\n",
    "l=[]\n",
    "for i in range(n,k):\n",
    "    m=i\n",
    "    arm=0\n",
    "    while m>0:\n",
    "        a=m%10\n",
    "        arm=arm+a**3\n",
    "        m=m//10\n",
    "    if arm==i:\n",
    "        l.append(i)\n",
    "print(l)\n",
    "\n",
    "        "
   ]
  },
  {
   "cell_type": "code",
   "execution_count": null,
   "metadata": {},
   "outputs": [],
   "source": [
    "#6\n",
    "n=int(input(\"till which number  \"))\n",
    "s=0\n",
    "for i in range(1,n+1):\n",
    "    s=s+i\n",
    "print(s)\n"
   ]
  },
  {
   "cell_type": "markdown",
   "metadata": {},
   "source": []
  },
  {
   "cell_type": "code",
   "execution_count": null,
   "metadata": {},
   "outputs": [],
   "source": []
  }
 ],
 "metadata": {
  "kernelspec": {
   "display_name": "Python 3",
   "language": "python",
   "name": "python3"
  },
  "language_info": {
   "codemirror_mode": {
    "name": "ipython",
    "version": 3
   },
   "file_extension": ".py",
   "mimetype": "text/x-python",
   "name": "python",
   "nbconvert_exporter": "python",
   "pygments_lexer": "ipython3",
   "version": "3.8.3"
  }
 },
 "nbformat": 4,
 "nbformat_minor": 4
}
