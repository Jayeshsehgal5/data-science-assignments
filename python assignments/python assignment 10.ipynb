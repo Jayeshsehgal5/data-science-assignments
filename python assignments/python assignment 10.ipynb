{
 "cells": [
  {
   "cell_type": "markdown",
   "metadata": {},
   "source": [
    "1. Write a Python program to find sum of elements in list?\n",
    "2. Write a Python program to Multiply all numbers in the list?\n",
    "3. Write a Python program to find smallest number in a list?\n",
    "4. Write a Python program to find largest number in a list?\n",
    "5. Write a Python program to find second largest number in a list?\n",
    "6. Write a Python program to find N largest elements from a list?\n",
    "7. Write a Python program to print even numbers in a list?\n",
    "8. Write a Python program to print odd numbers in a List?\n",
    "9. Write a Python program to Remove empty List from List?\n",
    "10. Write a Python program to Cloning or Copying a list?\n",
    "11. Write a Python program to Count occurrences of an element in a list?"
   ]
  },
  {
   "cell_type": "code",
   "execution_count": 5,
   "metadata": {},
   "outputs": [
    {
     "name": "stdout",
     "output_type": "stream",
     "text": [
      "enter value1\n",
      "enter value2\n",
      "enter value3\n",
      "[1, 2, 3]\n",
      "sum=  6\n"
     ]
    }
   ],
   "source": [
    "#1\n",
    "l=[]\n",
    "for i in range(1,4):\n",
    "    val=int(input(\"enter value\"))\n",
    "    l.append(i)\n",
    "print(l)    \n",
    "s=0\n",
    "for i in l:\n",
    "    s=s+i\n",
    "print(\"sum= \",s)"
   ]
  },
  {
   "cell_type": "code",
   "execution_count": 6,
   "metadata": {},
   "outputs": [
    {
     "name": "stdout",
     "output_type": "stream",
     "text": [
      "enter value1\n",
      "enter value2\n",
      "enter value3\n",
      "[1, 2, 3]\n",
      "multiplication  6\n"
     ]
    }
   ],
   "source": [
    "#2\n",
    "l=[]\n",
    "for i in range(1,4):\n",
    "    val=int(input(\"enter value\"))\n",
    "    l.append(i)\n",
    "print(l)    \n",
    "s=1\n",
    "for i in l:\n",
    "    s=s*i\n",
    "print(\"multiplication \",s)"
   ]
  },
  {
   "cell_type": "code",
   "execution_count": 9,
   "metadata": {},
   "outputs": [
    {
     "name": "stdout",
     "output_type": "stream",
     "text": [
      "enter value1\n",
      "enter value2\n",
      "enter value3\n",
      "[1, 2, 3]\n",
      "minimum no in the list is=  1\n"
     ]
    }
   ],
   "source": [
    "#3\n",
    "l=[]\n",
    "for i in range(1,4):\n",
    "    val=int(input(\"enter value\"))\n",
    "    l.append(i)\n",
    "print(l)\n",
    "minimum=l[0]\n",
    "for i in l:\n",
    "    if i<minimum:\n",
    "        minimum=i\n",
    "\n",
    "print(\"minimum no in the list is= \",minimum)\n",
    "\n"
   ]
  },
  {
   "cell_type": "code",
   "execution_count": 10,
   "metadata": {},
   "outputs": [
    {
     "name": "stdout",
     "output_type": "stream",
     "text": [
      "enter value1\n",
      "enter value2\n",
      "enter value3\n",
      "[1, 2, 3]\n",
      "maximum no in the list  3\n"
     ]
    }
   ],
   "source": [
    "#4\n",
    "l=[]\n",
    "for i in range(1,4):\n",
    "    val=int(input(\"enter value\"))\n",
    "    l.append(i)\n",
    "print(l)\n",
    "max=l[0]\n",
    "for i in l:\n",
    "    if i>max:\n",
    "        max=i\n",
    "\n",
    "print(\"maximum no in the list \",max)\n",
    "\n"
   ]
  },
  {
   "cell_type": "code",
   "execution_count": 16,
   "metadata": {},
   "outputs": [
    {
     "name": "stdout",
     "output_type": "stream",
     "text": [
      "largest no is=  85\n",
      "second largest no is =  76\n"
     ]
    }
   ],
   "source": [
    "#5\n",
    "l=[1,2,3,76,85,4,5]\n",
    "l.sort()\n",
    "largest=l[-1]\n",
    "print(\"largest no is= \",largest)\n",
    "second_largest=l[-2]\n",
    "print(\"second largest no is = \",second_largest)\n",
    "    \n",
    "\n",
    "\n"
   ]
  },
  {
   "cell_type": "code",
   "execution_count": 17,
   "metadata": {},
   "outputs": [
    {
     "name": "stdout",
     "output_type": "stream",
     "text": [
      "no of largest numbers you want from the list3\n",
      "98\n",
      "87\n",
      "85\n"
     ]
    }
   ],
   "source": [
    "#6\n",
    "l=[2,3,78,5,87,6,85,98]\n",
    "n=int(input(\"no of largest numbers you want from the list\"))\n",
    "l.sort()\n",
    "for i in range(1,n+1):\n",
    "    print(l[-i])\n"
   ]
  },
  {
   "cell_type": "code",
   "execution_count": 22,
   "metadata": {},
   "outputs": [
    {
     "name": "stdout",
     "output_type": "stream",
     "text": [
      "enter the len of the list4\n",
      "enter value1\n",
      "enter value2\n",
      "enter value3\n",
      "enter value4\n",
      "[1, 2, 3, 4]\n",
      "even list is= [2, 4]\n"
     ]
    }
   ],
   "source": [
    "#7\n",
    "n=int(input(\"enter the len of the list\"))\n",
    "l=[]\n",
    "for i in range(1,n+1):\n",
    "    val=int(input(\"enter value\"))\n",
    "    l.append(i)\n",
    "print(l)\n",
    "m=[]\n",
    "for i in l:\n",
    "    if i%2==0:\n",
    "        m.append(i)\n",
    "print(\"even list is=\",m)\n"
   ]
  },
  {
   "cell_type": "code",
   "execution_count": 26,
   "metadata": {},
   "outputs": [
    {
     "name": "stdout",
     "output_type": "stream",
     "text": [
      "enter the len of the list4\n",
      "enter value1\n",
      "enter value2\n",
      "enter value3\n",
      "enter value4\n",
      "[1, 2, 3, 4]\n",
      "odd list is= [1, 3]\n"
     ]
    }
   ],
   "source": [
    "#8\n",
    "n=int(input(\"enter the len of the list\"))\n",
    "l=[]\n",
    "for i in range(1,n+1):\n",
    "    val=int(input(\"enter value\"))\n",
    "    l.append(i)\n",
    "print(l)\n",
    "m=[]\n",
    "for i in l:\n",
    "    if i%2!=0:\n",
    "        m.append(i)\n",
    "print(\"odd list is=\",m)"
   ]
  },
  {
   "cell_type": "code",
   "execution_count": 29,
   "metadata": {},
   "outputs": [
    {
     "name": "stdout",
     "output_type": "stream",
     "text": [
      "[1, 5, 6, 7, 8]\n"
     ]
    }
   ],
   "source": [
    "#9\n",
    "l=[1,5,6,7,8,[],[]]\n",
    "m=[]\n",
    "for i in l:\n",
    "    if i !=[]:\n",
    "        m.append(i)\n",
    "print(m)"
   ]
  },
  {
   "cell_type": "code",
   "execution_count": 32,
   "metadata": {},
   "outputs": [
    {
     "name": "stdout",
     "output_type": "stream",
     "text": [
      "enter the len of the list4\n",
      "enter value1\n",
      "enter value2\n",
      "enter value3\n",
      "enter value4\n",
      "original list [1, 2, 3, 4]\n",
      "copied list [1, 2, 3, 4]\n"
     ]
    }
   ],
   "source": [
    "#10\n",
    "n=int(input(\"enter the len of the list\"))\n",
    "l=[]\n",
    "for i in range(1,n+1):\n",
    "    val=int(input(\"enter value\"))\n",
    "    l.append(i)\n",
    "m=l.copy()\n",
    "print(\"original list\",l)\n",
    "print(\"copied list\",m)"
   ]
  },
  {
   "cell_type": "code",
   "execution_count": 6,
   "metadata": {},
   "outputs": [
    {
     "name": "stdout",
     "output_type": "stream",
     "text": [
      "enter the len of the list4\n",
      "enter value1\n",
      "enter value2\n",
      "enter value2\n",
      "enter value4\n",
      "enter a number for which you want to check its occurence2\n",
      "occurence of  2 is 2\n"
     ]
    }
   ],
   "source": [
    "#11\n",
    "n=int(input(\"enter the len of the list\"))\n",
    "l=[]\n",
    "for i in range(1,n+1):\n",
    "    val=int(input(\"enter value\"))\n",
    "    l.append(i)\n",
    "n=int(input(\"enter a number for which you want to check its occurence\"))\n",
    "count=1\n",
    "for i in l:\n",
    "    if i==n:\n",
    "        count=count+1\n",
    "print(\"occurence of \",n,\"is\",count)"
   ]
  },
  {
   "cell_type": "code",
   "execution_count": null,
   "metadata": {},
   "outputs": [],
   "source": []
  },
  {
   "cell_type": "code",
   "execution_count": null,
   "metadata": {},
   "outputs": [],
   "source": []
  }
 ],
 "metadata": {
  "kernelspec": {
   "display_name": "Python 3",
   "language": "python",
   "name": "python3"
  },
  "language_info": {
   "codemirror_mode": {
    "name": "ipython",
    "version": 3
   },
   "file_extension": ".py",
   "mimetype": "text/x-python",
   "name": "python",
   "nbconvert_exporter": "python",
   "pygments_lexer": "ipython3",
   "version": "3.8.3"
  }
 },
 "nbformat": 4,
 "nbformat_minor": 4
}
