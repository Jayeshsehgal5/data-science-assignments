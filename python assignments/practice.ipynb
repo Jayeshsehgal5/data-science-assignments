{
 "cells": [
  {
   "cell_type": "code",
   "execution_count": 1,
   "metadata": {},
   "outputs": [
    {
     "name": "stdout",
     "output_type": "stream",
     "text": [
      "enter a number153\n",
      "armstrong number\n"
     ]
    }
   ],
   "source": [
    "n=int(input(\"enter a number\"))\n",
    "m=n\n",
    "arm=0\n",
    "while m>0:\n",
    "    a=m%10\n",
    "    arm=arm+a**3\n",
    "    m=m//10\n",
    "if n==arm:\n",
    "    print(\"armstrong number\")\n",
    "else:\n",
    "    print(\"not a armstrong number\")"
   ]
  },
  {
   "cell_type": "markdown",
   "metadata": {},
   "source": [
    "n=int(input(\"enter the statring number\"))\n",
    "k=int(input(\"enter the ennd number\"))\n",
    "l=[]\n",
    "for i in range(n,k):\n",
    "    m=i\n",
    "    arm=0\n",
    "    while m>0:\n",
    "        a=m%10\n",
    "        arm=arm+a**3\n",
    "        arm=arm//10\n",
    "    if arm==i:\n",
    "        l.append(i)\n",
    "print(l)\n",
    "    "
   ]
  },
  {
   "cell_type": "code",
   "execution_count": 1,
   "metadata": {},
   "outputs": [
    {
     "name": "stdout",
     "output_type": "stream",
     "text": [
      "enter the statring number100\n",
      "enter the ennd number1000\n",
      "[153, 370, 371, 407]\n"
     ]
    }
   ],
   "source": [
    "n=int(input(\"enter the statring number\"))\n",
    "k=int(input(\"enter the ennd number\"))\n",
    "l=[]\n",
    "for i in range(n,k):\n",
    "    m=i\n",
    "    arm=0\n",
    "    while m>0:\n",
    "        a=m%10\n",
    "        arm=arm+a**3\n",
    "        m=m//10\n",
    "    if arm==i:\n",
    "        l.append(i)\n",
    "print(l)\n",
    "    "
   ]
  },
  {
   "cell_type": "code",
   "execution_count": 3,
   "metadata": {},
   "outputs": [
    {
     "name": "stdout",
     "output_type": "stream",
     "text": [
      "enter a number5\n",
      "enter a number6\n",
      "30\n"
     ]
    }
   ],
   "source": [
    "n=int(input(\"enter a number\"))\n",
    "b=int(input(\"enter a number\"))\n",
    "i=b\n",
    "while True:\n",
    "    if i%n==0 and i%b==0:\n",
    "        print(i)\n",
    "        break\n",
    "    i=i+1\n"
   ]
  },
  {
   "cell_type": "code",
   "execution_count": 7,
   "metadata": {},
   "outputs": [
    {
     "name": "stdout",
     "output_type": "stream",
     "text": [
      "enter a number25\n",
      "enter a number30\n",
      "5\n"
     ]
    }
   ],
   "source": [
    "n=int(input(\"enter a number\"))\n",
    "b=int(input(\"enter a number\"))\n",
    "hcf=0\n",
    "if n>b:\n",
    "    min=b\n",
    "else:\n",
    "    min=n\n",
    "for i in range(2,min):\n",
    "    if n%i==0 and b%i==0:\n",
    "        hcf=i\n",
    "print(hcf)\n",
    "        "
   ]
  },
  {
   "cell_type": "code",
   "execution_count": 12,
   "metadata": {},
   "outputs": [
    {
     "name": "stdout",
     "output_type": "stream",
     "text": [
      "enter hom many numbers to be rotated2\n",
      "[3, 4, 5, 1, 2]\n"
     ]
    }
   ],
   "source": [
    "l=[1,2,3,4,5]\n",
    "n=int(input(\"enter hom many numbers to be rotated\"))\n",
    "for i in range(n):\n",
    "    temp=l[0]\n",
    "    for j in range(len(l)-1):\n",
    "        l[j]=l[j+1]\n",
    "    l[len(l)-1]=temp\n",
    "print(l)\n",
    "        \n",
    "      "
   ]
  },
  {
   "cell_type": "code",
   "execution_count": 4,
   "metadata": {},
   "outputs": [
    {
     "name": "stdout",
     "output_type": "stream",
     "text": [
      "True\n",
      "[True, True, True, True, True, True]\n"
     ]
    }
   ],
   "source": [
    "l=[1,2,3,4,5,6,7]\n",
    "m=[]\n",
    "k=[]\n",
    "for i in range(len(l)-1):\n",
    "    if l[i]>l[i+1]:\n",
    "        m.append(True)\n",
    "    else:\n",
    "        m.append(False)\n",
    "for j in range(len(l)-1):\n",
    "    if l[j]<l[j+1]:\n",
    "        k.append(True)\n",
    "    else:\n",
    "        k.append(False)\n",
    "print(all(m) or all(k))\n"
   ]
  },
  {
   "cell_type": "code",
   "execution_count": 5,
   "metadata": {},
   "outputs": [],
   "source": [
    "import numpy as np\n",
    "\n"
   ]
  },
  {
   "cell_type": "code",
   "execution_count": 7,
   "metadata": {},
   "outputs": [
    {
     "name": "stdout",
     "output_type": "stream",
     "text": [
      "[[2, 4], [5, 7]]\n"
     ]
    }
   ],
   "source": [
    "x=[[1,2],\n",
    "   [2,3]]\n",
    "y=[[1,2],\n",
    "  [3,4]]\n",
    "result=[[0,0],\n",
    "       [0,0]]\n",
    "for i in range(len(x)):\n",
    "    for j in range(len(x)):\n",
    "        result[i][j]=x[i][j]+y[i][j]\n",
    "print(result)"
   ]
  },
  {
   "cell_type": "code",
   "execution_count": 13,
   "metadata": {},
   "outputs": [
    {
     "data": {
      "text/plain": [
       "[[1, 2, 3], [5, 3, 5]]"
      ]
     },
     "execution_count": 13,
     "metadata": {},
     "output_type": "execute_result"
    }
   ],
   "source": [
    "x=[[1,5],\n",
    "  [2,3],\n",
    "  [3,5]]\n",
    "result=[[0,0,0],\n",
    "       [0,0,0]]\n",
    "for i in range(len(x[0])):\n",
    "    for j in range(len(x)):\n",
    "        result[i][j]=x[j][i]\n",
    "result"
   ]
  },
  {
   "cell_type": "code",
   "execution_count": 16,
   "metadata": {},
   "outputs": [
    {
     "data": {
      "text/plain": [
       "[[10, 13], [26, 34]]"
      ]
     },
     "execution_count": 16,
     "metadata": {},
     "output_type": "execute_result"
    }
   ],
   "source": [
    "x=[[1,2],\n",
    "  [3,5]]\n",
    "y=[[2,3],\n",
    "  [4,5]]\n",
    "result=[[0,0],\n",
    "       [0,0]]\n",
    "for i in range(len(x)):\n",
    "    for j in range(len(x)):\n",
    "        for k in range(len(x)):\n",
    "            result[i][j]=result[i][j]+x[i][k]*y[k][j]\n",
    "result"
   ]
  },
  {
   "cell_type": "code",
   "execution_count": 22,
   "metadata": {},
   "outputs": [
    {
     "name": "stdout",
     "output_type": "stream",
     "text": [
      "enter a number135\n",
      "dissarium\n"
     ]
    }
   ],
   "source": [
    "n=int(input(\"enter a number\"))\n",
    "l=\",\".join(str(n)).split(\",\")\n",
    "count=1\n",
    "s=0\n",
    "for i in range(len(l)):\n",
    "    l[i]=int(l[i])\n",
    "for i in range(len(l)):\n",
    "    l[i]=l[i]**count\n",
    "    count=count+1\n",
    "for i in range(len(l)):\n",
    "    s=s+l[i]\n",
    "if s==n:\n",
    "    print(\"dissarium\")\n",
    "else:\n",
    "    print(\"jdffk\")"
   ]
  },
  {
   "cell_type": "code",
   "execution_count": 6,
   "metadata": {},
   "outputs": [
    {
     "name": "stdout",
     "output_type": "stream",
     "text": [
      "enter a number135\n",
      "disarum\n"
     ]
    }
   ],
   "source": [
    "n=int(input(\"enter a number\"))\n",
    "x=str(n)\n",
    "l=len(x)\n",
    "m=n\n",
    "disarium=0\n",
    "while m>0:\n",
    "    a=m%10\n",
    "    disarium=disarium+a**l\n",
    "    m=m//10\n",
    "    l=l-1\n",
    "if disarium==n:\n",
    "    print(\"disarum\")\n",
    "else:\n",
    "    print(\"dfhksjdf\")\n",
    "    "
   ]
  },
  {
   "cell_type": "code",
   "execution_count": 5,
   "metadata": {},
   "outputs": [
    {
     "name": "stdout",
     "output_type": "stream",
     "text": [
      "lkwjr\n"
     ]
    }
   ],
   "source": [
    "\n",
    "n=135\n",
    "k=str(n)\n",
    "l=len(k)\n",
    "disarium=0\n",
    "while n>0:\n",
    "    a=n%10\n",
    "    disarium=disarium +a**l\n",
    "    n=n//10\n",
    "    l=l-1\n",
    "if n==disarium:\n",
    "    print(\"ebrjk\")\n",
    "else:\n",
    "    print(\"lkwjr\")\n"
   ]
  },
  {
   "cell_type": "code",
   "execution_count": 7,
   "metadata": {},
   "outputs": [
    {
     "data": {
      "text/plain": [
       "['my', 'name', 'is', 'jayesh', 'sehgal']"
      ]
     },
     "execution_count": 7,
     "metadata": {},
     "output_type": "execute_result"
    }
   ],
   "source": [
    "s=\"my name is jayesh sehgal\"\n",
    "k=5\n",
    "l=s.split(\" \")\n",
    "for i in l:\n",
    "    if len(i)>5:\n",
    "        print(i)"
   ]
  },
  {
   "cell_type": "code",
   "execution_count": 9,
   "metadata": {},
   "outputs": [
    {
     "name": "stdout",
     "output_type": "stream",
     "text": [
      "enter a chr to remove from stringf\n",
      "hjegw\n"
     ]
    }
   ],
   "source": [
    "a=\"hfjegw\"\n",
    "n=input(\"enter a chr to remove from string\")\n",
    "for i in a:\n",
    "    a=a.replace(n,\"\")\n",
    "print(a)"
   ]
  },
  {
   "cell_type": "code",
   "execution_count": 12,
   "metadata": {},
   "outputs": [
    {
     "name": "stdout",
     "output_type": "stream",
     "text": [
      "m\n"
     ]
    }
   ],
   "source": [
    "a=\"mya\"\n",
    "b=\"ayg\"\n",
    "for i in a:\n",
    "    if i not in b:\n",
    "        print(i)"
   ]
  },
  {
   "cell_type": "code",
   "execution_count": 17,
   "metadata": {},
   "outputs": [
    {
     "name": "stdout",
     "output_type": "stream",
     "text": [
      "a\n",
      "b\n"
     ]
    }
   ],
   "source": [
    "a=\"abcdab\"\n",
    "d={}\n",
    "for i in a:\n",
    "    d[i]=a.count(i)\n",
    "for i in d:\n",
    "    if d[i]>1:\n",
    "        print(i)"
   ]
  },
  {
   "cell_type": "code",
   "execution_count": 27,
   "metadata": {},
   "outputs": [
    {
     "name": "stdout",
     "output_type": "stream",
     "text": [
      "10\n"
     ]
    }
   ],
   "source": [
    "d={1:3,2:4}\n",
    "l=[]\n",
    "s=0\n",
    "for i,j in d.items():\n",
    "    l.append(i)\n",
    "    l.append(j)\n",
    "for i in l:\n",
    "    s=s+i\n",
    "print(s)\n",
    "    "
   ]
  },
  {
   "cell_type": "markdown",
   "metadata": {},
   "source": [
    "A website requires the users to input username and password to register. Write a program to\n",
    "check the validity of password input by users.Following are the criteria for checking the password:\n",
    "1. At least 1 letter between [a-z]\n",
    "2. At least 1 number between [0-9]\n",
    "1. At least 1 letter between [A-Z]\n",
    "3. At least 1 character from [$#@]\n",
    "4. Minimum length of transaction password: 6\n",
    "5. Maximum length of transaction password: 12\n",
    "Your program should accept a sequence of comma separated passwords and will check them\n",
    "according to the above criteria. Passwords that match the criteria are to be printed, each\n",
    "separated by a comma."
   ]
  },
  {
   "cell_type": "code",
   "execution_count": 37,
   "metadata": {},
   "outputs": [
    {
     "name": "stdout",
     "output_type": "stream",
     "text": [
      "enter a stringJayesh12@,jayesh,jayesh123#\n",
      "['Jayesh12@']\n"
     ]
    }
   ],
   "source": [
    "s=input(\"enter passwords\")\n",
    "l=s.split(\",\")\n",
    "k=[]\n",
    "special=\"@#$\"\n",
    "for i in l:\n",
    "    counta=0\n",
    "    countdigit=0\n",
    "    countb=0\n",
    "    counts=0\n",
    "    if len(i)>12 or len(i)<6:\n",
    "        flag=1\n",
    "    for j in i:\n",
    "        if j.isalpha()==True:\n",
    "            counta=counta+1\n",
    "    for j in i:\n",
    "        if j.isdigit()==True:\n",
    "            countdigit=countdigit+1\n",
    "    for j in i:\n",
    "        if j.isupper()==True:\n",
    "            countb=countb+1\n",
    "    for j in i:\n",
    "        if j in special:\n",
    "            counts=counts+1\n",
    "    if counta<1:\n",
    "        flag=2\n",
    "    elif countdigit<1:\n",
    "        flag=3\n",
    "    elif countb<1:\n",
    "        flag=4\n",
    "    elif counts<1:\n",
    "        flag=5\n",
    "    else:\n",
    "        k.append(i)\n",
    "print(k)\n",
    "    \n",
    "        "
   ]
  },
  {
   "cell_type": "code",
   "execution_count": 44,
   "metadata": {},
   "outputs": [
    {
     "data": {
      "text/plain": [
       "'h4e4l12o8 4w4r4d4!4'"
      ]
     },
     "execution_count": 44,
     "metadata": {},
     "output_type": "execute_result"
    }
   ],
   "source": [
    "a=\"hello world!hello world!hello world!hello world!\"\n",
    "d={}\n",
    "l=[]\n",
    "for i in a:\n",
    "    d[i]=a.count(i)\n",
    "for i,j in d.items():\n",
    "    l.append(str(i))\n",
    "    l.append(str(j))\n",
    "x=\"\".join(l)\n",
    "x\n"
   ]
  },
  {
   "cell_type": "code",
   "execution_count": 43,
   "metadata": {},
   "outputs": [
    {
     "ename": "TypeError",
     "evalue": "can't multiply sequence by non-int of type 'str'",
     "output_type": "error",
     "traceback": [
      "\u001b[1;31m---------------------------------------------------------------------------\u001b[0m",
      "\u001b[1;31mTypeError\u001b[0m                                 Traceback (most recent call last)",
      "\u001b[1;32m<ipython-input-43-3955bfb3e2bc>\u001b[0m in \u001b[0;36m<module>\u001b[1;34m\u001b[0m\n\u001b[0;32m      2\u001b[0m \u001b[0mx\u001b[0m\u001b[1;33m=\u001b[0m\u001b[1;34m\"\"\u001b[0m\u001b[1;33m\u001b[0m\u001b[1;33m\u001b[0m\u001b[0m\n\u001b[0;32m      3\u001b[0m \u001b[1;32mfor\u001b[0m \u001b[0mi\u001b[0m \u001b[1;32min\u001b[0m \u001b[0mrange\u001b[0m\u001b[1;33m(\u001b[0m\u001b[0mlen\u001b[0m\u001b[1;33m(\u001b[0m\u001b[0ma\u001b[0m\u001b[1;33m)\u001b[0m\u001b[1;33m)\u001b[0m\u001b[1;33m:\u001b[0m\u001b[1;33m\u001b[0m\u001b[1;33m\u001b[0m\u001b[0m\n\u001b[1;32m----> 4\u001b[1;33m     \u001b[0ml\u001b[0m\u001b[1;33m[\u001b[0m\u001b[0mi\u001b[0m\u001b[1;33m]\u001b[0m\u001b[1;33m=\u001b[0m\u001b[0ml\u001b[0m\u001b[1;33m[\u001b[0m\u001b[0mi\u001b[0m\u001b[1;33m]\u001b[0m\u001b[1;33m*\u001b[0m\u001b[1;33m(\u001b[0m\u001b[0ml\u001b[0m\u001b[1;33m[\u001b[0m\u001b[0mi\u001b[0m\u001b[1;33m+\u001b[0m\u001b[1;36m1\u001b[0m\u001b[1;33m]\u001b[0m\u001b[1;33m)\u001b[0m\u001b[1;33m\u001b[0m\u001b[1;33m\u001b[0m\u001b[0m\n\u001b[0m\u001b[0;32m      5\u001b[0m \u001b[1;33m\u001b[0m\u001b[0m\n",
      "\u001b[1;31mTypeError\u001b[0m: can't multiply sequence by non-int of type 'str'"
     ]
    }
   ],
   "source": [
    "\n",
    "    "
   ]
  },
  {
   "cell_type": "code",
   "execution_count": 45,
   "metadata": {},
   "outputs": [
    {
     "name": "stdout",
     "output_type": "stream",
     "text": [
      "enter a number12\n"
     ]
    }
   ],
   "source": [
    "n=int(input(\"enter a number\"))\n",
    "k=1+2**n\n",
    "m=1+2*n\n",
    "if k%m==0:\n",
    "    print(\"curzon number\")"
   ]
  },
  {
   "cell_type": "code",
   "execution_count": 49,
   "metadata": {},
   "outputs": [],
   "source": [
    "s=\"12ab34\"\n",
    "l=[]\n",
    "for i in s:\n",
    "    if type(i)==int:\n",
    "        print(i)\n"
   ]
  },
  {
   "cell_type": "code",
   "execution_count": 50,
   "metadata": {},
   "outputs": [
    {
     "ename": "SyntaxError",
     "evalue": "invalid syntax (<ipython-input-50-ae0275885e5d>, line 6)",
     "output_type": "error",
     "traceback": [
      "\u001b[1;36m  File \u001b[1;32m\"<ipython-input-50-ae0275885e5d>\"\u001b[1;36m, line \u001b[1;32m6\u001b[0m\n\u001b[1;33m    elif\u001b[0m\n\u001b[1;37m        ^\u001b[0m\n\u001b[1;31mSyntaxError\u001b[0m\u001b[1;31m:\u001b[0m invalid syntax\n"
     ]
    }
   ],
   "source": [
    "l=[1,\"ajskd\",2,3,\"ewhfkj\"]\n",
    "k=[]\n",
    "for i in l:\n",
    "    if type(i)==int:\n",
    "        k.append(i)\n",
    "    elif"
   ]
  },
  {
   "cell_type": "code",
   "execution_count": 53,
   "metadata": {},
   "outputs": [
    {
     "data": {
      "text/plain": [
       "[1, 3, 4]"
      ]
     },
     "execution_count": 53,
     "metadata": {},
     "output_type": "execute_result"
    }
   ],
   "source": [
    "l=[1,2,3,4]\n",
    "l.pop(1)\n",
    "l"
   ]
  },
  {
   "cell_type": "code",
   "execution_count": 56,
   "metadata": {},
   "outputs": [
    {
     "data": {
      "text/plain": [
       "[0, 4, 5]"
      ]
     },
     "execution_count": 56,
     "metadata": {},
     "output_type": "execute_result"
    }
   ],
   "source": [
    "s=\"AbcdEFgh\"\n",
    "l=[]\n",
    "for i in s:\n",
    "    if i.isupper()==True:\n",
    "        l.append(s.index(i))\n",
    "l\n",
    "    "
   ]
  },
  {
   "cell_type": "code",
   "execution_count": 59,
   "metadata": {},
   "outputs": [
    {
     "data": {
      "text/plain": [
       "['cows', 'pig']"
      ]
     },
     "execution_count": 59,
     "metadata": {},
     "output_type": "execute_result"
    }
   ],
   "source": [
    "x=[\"cow\",\"cow\",\"cow\",\"pig\"]\n",
    "d={}\n",
    "l=[]\n",
    "y=\"\"\n",
    "for i in x:\n",
    "    d[i]=x.count(i)\n",
    "for i in d:\n",
    "    if d[i]>1:\n",
    "        l.append(i+\"s\")\n",
    "    else:\n",
    "        l.append(i)\n",
    "l\n",
    "        \n",
    "    "
   ]
  },
  {
   "cell_type": "code",
   "execution_count": 64,
   "metadata": {},
   "outputs": [
    {
     "data": {
      "text/plain": [
       "[3, 0, 1, 2]"
      ]
     },
     "execution_count": 64,
     "metadata": {},
     "output_type": "execute_result"
    }
   ],
   "source": [
    "l=[[1,0,0,1],\n",
    "  [1,0,1,1],\n",
    "  [1,0,0,0]]\n",
    "k=[]\n",
    "for i in range(len(l[0])):\n",
    "    s=0\n",
    "    for j in range(len(l)):\n",
    "        s=s+l[j][i]\n",
    "    k.append(s)\n",
    "k\n",
    "        \n",
    "\n",
    "\n"
   ]
  },
  {
   "cell_type": "code",
   "execution_count": 66,
   "metadata": {},
   "outputs": [
    {
     "name": "stdout",
     "output_type": "stream",
     "text": [
      "helloo\n"
     ]
    }
   ],
   "source": [
    "s=\"he**oo\"\n",
    "r=\"ll\"\n",
    "x=\"\"\n",
    "count=0\n",
    "for i in s:\n",
    "    if i==\"*\":\n",
    "        x=x+r[count]\n",
    "        count=count+1\n",
    "    else:\n",
    "        x=x+i\n",
    "print(x)\n",
    "        "
   ]
  },
  {
   "cell_type": "code",
   "execution_count": 72,
   "metadata": {},
   "outputs": [
    {
     "name": "stdout",
     "output_type": "stream",
     "text": [
      "34560\n"
     ]
    }
   ],
   "source": [
    "n=5\n",
    "l=[]\n",
    "s=1\n",
    "for i in range(1,n+1):\n",
    "    l.append(i)\n",
    "for i in range(1,len(l)):\n",
    "    l[i]=l[i]*l[i-1]\n",
    "for i in l:\n",
    "    s=s*i\n",
    "print(s)"
   ]
  },
  {
   "cell_type": "code",
   "execution_count": 74,
   "metadata": {},
   "outputs": [
    {
     "name": "stdout",
     "output_type": "stream",
     "text": [
      "A\n"
     ]
    }
   ],
   "source": [
    "l=[\"A\",\"A\",\"B\",\"B\",\"A\"]\n",
    "d={}\n",
    "for i in l:\n",
    "    d[i]=l.count(i)\n",
    "x=len(l)/2\n",
    "for i in d:\n",
    "    if d[i]>x:\n",
    "        print(i)\n"
   ]
  },
  {
   "cell_type": "code",
   "execution_count": 76,
   "metadata": {},
   "outputs": [
    {
     "name": "stdout",
     "output_type": "stream",
     "text": [
      "the *** jumped over the ****\n"
     ]
    }
   ],
   "source": [
    "s=\"the cow jumped over the moon\"\n",
    "l=[\"cow\",\"moon\"]\n",
    "k=\"*\"\n",
    "for i in l:\n",
    "    if i in s:\n",
    "        s=s.replace(i,k*len(i))\n",
    "print(s)"
   ]
  },
  {
   "cell_type": "code",
   "execution_count": 78,
   "metadata": {},
   "outputs": [
    {
     "name": "stdout",
     "output_type": "stream",
     "text": [
      "3\n"
     ]
    }
   ],
   "source": [
    "def sockmerchannt(l):\n",
    "    d={}\n",
    "    count=0\n",
    "    for i in l:\n",
    "        d[i]=l.count(i)\n",
    "    for i in d:\n",
    "        count=count+d[i]//2\n",
    "    return(count)"
   ]
  },
  {
   "cell_type": "code",
   "execution_count": 79,
   "metadata": {},
   "outputs": [
    {
     "ename": "IndexError",
     "evalue": "list index out of range",
     "output_type": "error",
     "traceback": [
      "\u001b[1;31m---------------------------------------------------------------------------\u001b[0m",
      "\u001b[1;31mIndexError\u001b[0m                                Traceback (most recent call last)",
      "\u001b[1;32m<ipython-input-79-ad86c0b6b8a9>\u001b[0m in \u001b[0;36m<module>\u001b[1;34m\u001b[0m\n\u001b[0;32m      1\u001b[0m \u001b[0mlist\u001b[0m\u001b[1;33m=\u001b[0m\u001b[1;33m[\u001b[0m\u001b[1;36m1\u001b[0m\u001b[1;33m,\u001b[0m\u001b[1;36m2\u001b[0m\u001b[1;33m,\u001b[0m\u001b[1;36m4\u001b[0m\u001b[1;33m,\u001b[0m\u001b[1;36m9\u001b[0m\u001b[1;33m,\u001b[0m\u001b[1;36m10\u001b[0m\u001b[1;33m,\u001b[0m\u001b[1;33m-\u001b[0m\u001b[1;36m10\u001b[0m\u001b[1;33m,\u001b[0m\u001b[1;33m-\u001b[0m\u001b[1;36m9\u001b[0m\u001b[1;33m,\u001b[0m\u001b[1;36m3\u001b[0m\u001b[1;33m]\u001b[0m\u001b[1;33m\u001b[0m\u001b[1;33m\u001b[0m\u001b[0m\n\u001b[1;32m----> 2\u001b[1;33m \u001b[0mlist\u001b[0m\u001b[1;33m[\u001b[0m\u001b[1;36m8\u001b[0m\u001b[1;33m]\u001b[0m\u001b[1;33m\u001b[0m\u001b[1;33m\u001b[0m\u001b[0m\n\u001b[0m",
      "\u001b[1;31mIndexError\u001b[0m: list index out of range"
     ]
    }
   ],
   "source": [
    "list=[1,2,4,9,10,-10,-9,3]\n",
    "list[8]"
   ]
  },
  {
   "cell_type": "code",
   "execution_count": 108,
   "metadata": {},
   "outputs": [
    {
     "name": "stdout",
     "output_type": "stream",
     "text": [
      "['####']\n",
      "['#  #']\n",
      "['#  #']\n",
      "['#  #']\n",
      "['####']\n"
     ]
    }
   ],
   "source": [
    "def frame(n,m,k):\n",
    "    l=[]\n",
    "    for i in range(n):\n",
    "        l.append([])\n",
    "    for i in range(len(l)):\n",
    "        if i==0 or i==n-1:\n",
    "            l[i].insert(0,m*k)\n",
    "        else:\n",
    "            l[i].insert(0,\"{}{}{}\".format(k,(m-2)*\" \",k))\n",
    "    return(l)\n",
    "def seperator(l):\n",
    "    for i in l:\n",
    "        print(i)\n",
    "seperator(l)\n",
    "        \n",
    "  \n"
   ]
  },
  {
   "cell_type": "code",
   "execution_count": 118,
   "metadata": {},
   "outputs": [
    {
     "data": {
      "text/plain": [
       "['2344b', '932c', '832u32']"
      ]
     },
     "execution_count": 118,
     "metadata": {},
     "output_type": "execute_result"
    }
   ],
   "source": [
    "def sort_by_letter(l):\n",
    "    k=[]\n",
    "    a=\"abcdefghijklmnopqrstuvwxyz\"\n",
    "    d={}\n",
    "    for i in l:\n",
    "        for j in i:\n",
    "            if j in a:\n",
    "                d[j]=i\n",
    "    x=dict(sorted(d.items()))\n",
    "    for i in x:\n",
    "        k.append(d[i])\n",
    "    return(k)"
   ]
  },
  {
   "cell_type": "code",
   "execution_count": 120,
   "metadata": {},
   "outputs": [
    {
     "name": "stdout",
     "output_type": "stream",
     "text": [
      "enter a number10\n",
      "0\n",
      "1\n",
      "1\n",
      "2\n",
      "3\n",
      "5\n",
      "8\n",
      "13\n",
      "21\n",
      "34\n"
     ]
    }
   ],
   "source": [
    "n=int(input(\"enter a number\"))\n",
    "a=0\n",
    "b=1\n",
    "for i in range(n):\n",
    "    print(a)\n",
    "    a,b=b,a+b\n",
    "    "
   ]
  },
  {
   "cell_type": "code",
   "execution_count": 136,
   "metadata": {},
   "outputs": [
    {
     "name": "stdout",
     "output_type": "stream",
     "text": [
      "enter a number6\n",
      "3\n"
     ]
    }
   ],
   "source": [
    "def kempner(n):\n",
    "    l=[]\n",
    "    k=[]\n",
    "    for i in range(1,n+1):\n",
    "        l.append(i)\n",
    "    for i in range(1,len(l)):\n",
    "        l[i]=l[i]*l[i-1]\n",
    "    for i in l:\n",
    "        if i%n==0:\n",
    "            k.append(l.index(i)+1)\n",
    "    return(k[0])"
   ]
  },
  {
   "cell_type": "code",
   "execution_count": 140,
   "metadata": {},
   "outputs": [
    {
     "data": {
      "text/plain": [
       "{'name': 'a', 'score': 100, 'reputation': 20, 'jk': 1}"
      ]
     },
     "execution_count": 140,
     "metadata": {},
     "output_type": "execute_result"
    }
   ],
   "source": [
    "d={\"name\":\"a\",\"score\":100, \"reputation\": 20 }\n",
    "d[\"jk\"]=1\n",
    "d\n"
   ]
  },
  {
   "cell_type": "code",
   "execution_count": 145,
   "metadata": {},
   "outputs": [],
   "source": [
    "def rhyming(s1,s2):\n",
    "    l=s1.split(\" \")\n",
    "    k=s2.split(\" \")\n",
    "    u=[]\n",
    "    t=[]\n",
    "    x=0\n",
    "    vowels=\"aeiou\"\n",
    "    for i in l[-1]:\n",
    "        if i in vowels:\n",
    "            u.append(i)\n",
    "    for i in k[-1]:\n",
    "        if i in vowels:\n",
    "            t.append(i)\n",
    "    if len(u)!=len(t):\n",
    "        return(False)\n",
    "    elif len(u)==len(t):\n",
    "        for i in range(len(u)):\n",
    "            if u[i]!=t[i]:\n",
    "                print(False)\n",
    "                break\n",
    "    else:\n",
    "        return(\"true\")\n",
    "            \n",
    "            \n",
    "rhyming(\"Sam I am\",\"Green eggs and ham\")\n",
    "                \n",
    "    \n",
    "            \n",
    "            \n",
    "   \n",
    "  \n",
    "        \n"
   ]
  },
  {
   "cell_type": "code",
   "execution_count": 156,
   "metadata": {},
   "outputs": [
    {
     "data": {
      "text/plain": [
       "True"
      ]
     },
     "execution_count": 156,
     "metadata": {},
     "output_type": "execute_result"
    }
   ],
   "source": [
    "def rhyming(s1,s2):\n",
    "    l=s1.split(\" \")\n",
    "    k=s2.split(\" \")\n",
    "    u=[]\n",
    "    t=[]\n",
    "    x=0\n",
    "    vowels=\"aeiou\"\n",
    "    for i in l[-1]:\n",
    "        if i in vowels:\n",
    "            u.append(i)\n",
    "    for i in k[-1]:\n",
    "        if i in vowels:\n",
    "            t.append(i)\n",
    "    if len(u)!=len(t):\n",
    "        return(False)\n",
    "    elif len(u)==len(t):\n",
    "        for i in range(len(u)):\n",
    "            if u[i]!=t[i]:\n",
    "                x=1\n",
    "                break\n",
    "    if x==1:\n",
    "        return(False)\n",
    "    else:\n",
    "        return(True)\n",
    "rhyming(\"Sam I ame\",\"Green eggs and haem\")"
   ]
  },
  {
   "cell_type": "code",
   "execution_count": 184,
   "metadata": {},
   "outputs": [
    {
     "ename": "AttributeError",
     "evalue": "'smoothie' object has no attribute 'cost'",
     "output_type": "error",
     "traceback": [
      "\u001b[1;31m---------------------------------------------------------------------------\u001b[0m",
      "\u001b[1;31mAttributeError\u001b[0m                            Traceback (most recent call last)",
      "\u001b[1;32m<ipython-input-184-2d5c62d152cd>\u001b[0m in \u001b[0;36m<module>\u001b[1;34m\u001b[0m\n\u001b[0;32m     43\u001b[0m \u001b[1;31m#s1.getprice()\u001b[0m\u001b[1;33m\u001b[0m\u001b[1;33m\u001b[0m\u001b[1;33m\u001b[0m\u001b[0m\n\u001b[0;32m     44\u001b[0m \u001b[1;31m#s1.get_name()\u001b[0m\u001b[1;33m\u001b[0m\u001b[1;33m\u001b[0m\u001b[1;33m\u001b[0m\u001b[0m\n\u001b[1;32m---> 45\u001b[1;33m \u001b[0ms1\u001b[0m\u001b[1;33m.\u001b[0m\u001b[0mcost\u001b[0m\u001b[1;33m\u001b[0m\u001b[1;33m\u001b[0m\u001b[0m\n\u001b[0m\u001b[0;32m     46\u001b[0m \u001b[1;33m\u001b[0m\u001b[0m\n\u001b[0;32m     47\u001b[0m \u001b[1;33m\u001b[0m\u001b[0m\n",
      "\u001b[1;31mAttributeError\u001b[0m: 'smoothie' object has no attribute 'cost'"
     ]
    }
   ],
   "source": [
    "class smoothie:\n",
    "    def __init__(self,ingredients):\n",
    "        self.ingredients=ingredients\n",
    "    def getcost(self):\n",
    "        d={\"Strawberries\":1.50,\n",
    "            \"Banana\":0.50,\n",
    "            \"Mango\" :2.50,\n",
    "            \"Blueberries\":1.00,\n",
    "            \"Raspberries\":1.00,\n",
    "            \"Apple\":1.75,\n",
    "            \"Pineapple\":3.50}\n",
    "        k=[]\n",
    "        self.cost=0\n",
    "        for i in d:\n",
    "            if i in self.ingredients:\n",
    "                k.append(d[i])\n",
    "        for i in k:\n",
    "            self.cost=self.cost+i\n",
    "        return(self.cost)\n",
    "    def getprice(self):\n",
    "        return(self.cost+self.cost*1.5)\n",
    "    def get_name(self):\n",
    "        j=[]\n",
    "        a=\"berries\"\n",
    "        for i in self.ingredients:\n",
    "            if a in i:\n",
    "                i=i.replace(a,\"berry\")\n",
    "                j.append(i)\n",
    "        for i in self.ingredients:\n",
    "            if a not in i:\n",
    "                j.append(i)\n",
    "        j.sort()\n",
    "        if len(j)>1:\n",
    "            j.append(\"Fusion\")\n",
    "            name=\" \".join(j)\n",
    "            return(name)\n",
    "        else:\n",
    "            j.append(\"Smoothie\")\n",
    "            name=\" \".join(j)\n",
    "            return(name)\n",
    "s1=smoothie([\"Banana\",\"Raspberries\",\"Blueberries\"])  \n",
    "#s1.getcost()\n",
    "#s1.getprice()\n",
    "#s1.get_name()\n",
    "s1.cost\n",
    "        \n",
    "            \n",
    "        "
   ]
  },
  {
   "cell_type": "code",
   "execution_count": 160,
   "metadata": {},
   "outputs": [
    {
     "data": {
      "text/plain": [
       "[0.5, 1.75]"
      ]
     },
     "execution_count": 160,
     "metadata": {},
     "output_type": "execute_result"
    }
   ],
   "source": [
    "k=[]\n",
    "d={\"Strawberries\":1.50,\n",
    "\"Banana\":0.50,\n",
    "\"Mango\" :2.50,\n",
    "\"Blueberries\":1.00,\n",
    "\"Raspberries\":1.00,\n",
    "\"Apple\":1.75,\n",
    "\"Pineapple\":3.50}\n",
    "l=[\"Banana\",\"Apple\"]\n",
    "for i in d:\n",
    "    if i in l:\n",
    "        k.append(d[i])\n",
    "for i in k:\n",
    "    s=0\n"
   ]
  },
  {
   "cell_type": "code",
   "execution_count": 171,
   "metadata": {},
   "outputs": [
    {
     "data": {
      "text/plain": [
       "['Apple', 'Banana', 'blueberry', 'raspberry']"
      ]
     },
     "execution_count": 171,
     "metadata": {},
     "output_type": "execute_result"
    }
   ],
   "source": [
    "l=[\"Banana\",\"Apple\",\"raspberries\",\"blueberries\"]\n",
    "a=\"berries\"\n",
    "k=[]\n",
    "for i in l:\n",
    "    if a in i:\n",
    "        i=i.replace(a,\"berry\")\n",
    "        k.append(i)\n",
    "for i in l:\n",
    "    if a not in i:\n",
    "        k.append(i)\n",
    "k.sort()\n",
    "k\n",
    "        \n",
    "        \n",
    "        \n",
    "    \n",
    "    \n"
   ]
  },
  {
   "cell_type": "code",
   "execution_count": 173,
   "metadata": {},
   "outputs": [
    {
     "data": {
      "text/plain": [
       "[1, 2, 3, 4, 5, 6, 2]"
      ]
     },
     "execution_count": 173,
     "metadata": {},
     "output_type": "execute_result"
    }
   ],
   "source": [
    "l=[1,2,3,4,5,6]\n",
    "l.append(2)\n",
    "l"
   ]
  },
  {
   "cell_type": "code",
   "execution_count": null,
   "metadata": {},
   "outputs": [],
   "source": []
  }
 ],
 "metadata": {
  "kernelspec": {
   "display_name": "Python 3",
   "language": "python",
   "name": "python3"
  },
  "language_info": {
   "codemirror_mode": {
    "name": "ipython",
    "version": 3
   },
   "file_extension": ".py",
   "mimetype": "text/x-python",
   "name": "python",
   "nbconvert_exporter": "python",
   "pygments_lexer": "ipython3",
   "version": "3.8.3"
  }
 },
 "nbformat": 4,
 "nbformat_minor": 4
}
