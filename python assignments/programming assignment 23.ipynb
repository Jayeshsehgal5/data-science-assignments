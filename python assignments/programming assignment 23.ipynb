{
 "cells": [
  {
   "cell_type": "markdown",
   "metadata": {},
   "source": [
    "Create a function that takes a number as an argument and returns True or False depending\n",
    "on whether the number is symmetrical or not. A number is symmetrical when it is the same as\n",
    "its reverse."
   ]
  },
  {
   "cell_type": "code",
   "execution_count": 2,
   "metadata": {},
   "outputs": [
    {
     "data": {
      "text/plain": [
       "False"
      ]
     },
     "execution_count": 2,
     "metadata": {},
     "output_type": "execute_result"
    }
   ],
   "source": [
    "def symmetrical(s):\n",
    "    m=s\n",
    "    x=str(s)\n",
    "    x=x[::-1]\n",
    "    n=int(x)\n",
    "    return(m==n)\n",
    "symmetrical(7237)\n",
    "    \n",
    "    "
   ]
  },
  {
   "cell_type": "markdown",
   "metadata": {},
   "source": [
    "Given a string of numbers separated by a comma and space, return the product of the\n",
    "numbers."
   ]
  },
  {
   "cell_type": "code",
   "execution_count": 4,
   "metadata": {},
   "outputs": [
    {
     "data": {
      "text/plain": [
       "15"
      ]
     },
     "execution_count": 4,
     "metadata": {},
     "output_type": "execute_result"
    }
   ],
   "source": [
    "def multiply(s):\n",
    "    \n",
    "    l=s.split(\", \")\n",
    "    m=1\n",
    "\n",
    "    for i in range(len(l)):\n",
    "        l[i]=int(l[i])\n",
    "    for i in l:\n",
    "        m=m*i\n",
    "    return(m)\n",
    "multiply(\"1, 3, 5\")\n"
   ]
  },
  {
   "cell_type": "markdown",
   "metadata": {},
   "source": [
    "Create a function that squares every digit of a number."
   ]
  },
  {
   "cell_type": "code",
   "execution_count": 9,
   "metadata": {},
   "outputs": [
    {
     "name": "stdout",
     "output_type": "stream",
     "text": [
      "491625\n"
     ]
    }
   ],
   "source": [
    "def square(n):\n",
    "    \n",
    "    s=str(n)\n",
    "    s=\",\".join(s)\n",
    "    l=s.split(\",\")\n",
    "    m=[]\n",
    "    x=\"\"\n",
    "    for i in range(len(l)):\n",
    "        l[i]=int(l[i])\n",
    "    for i in l:\n",
    "        m.append(i**2)\n",
    "    for i in range(len(m)):\n",
    "        m[i]=str(m[i])\n",
    "    for i in m:\n",
    "        x=x+i\n",
    "    x=int(x)\n",
    "    print(x)\n",
    "square(2345)\n"
   ]
  },
  {
   "cell_type": "markdown",
   "metadata": {},
   "source": [
    "Create a function that sorts a list and removes all duplicate items from it."
   ]
  },
  {
   "cell_type": "code",
   "execution_count": 10,
   "metadata": {},
   "outputs": [
    {
     "data": {
      "text/plain": [
       "[1, 2, 3, 4, 5]"
      ]
     },
     "execution_count": 10,
     "metadata": {},
     "output_type": "execute_result"
    }
   ],
   "source": [
    "def setify(l):\n",
    "    l.sort()\n",
    "    s=set(l)\n",
    "    x=list(s)\n",
    "    return(x)\n",
    "setify([1,1,1,2,3,4,5])"
   ]
  },
  {
   "cell_type": "code",
   "execution_count": 11,
   "metadata": {},
   "outputs": [
    {
     "data": {
      "text/plain": [
       "2.5"
      ]
     },
     "execution_count": 11,
     "metadata": {},
     "output_type": "execute_result"
    }
   ],
   "source": [
    "def mean(n):\n",
    "    s=str(n)\n",
    "    s=\",\".join(s)\n",
    "    l=s.split(\",\")\n",
    "    j=0\n",
    "    for i in range(len(l)):\n",
    "        l[i]=int(l[i])\n",
    "    for i in l:\n",
    "        j=j+i\n",
    "    return(j/len(l))\n",
    "mean(1234)"
   ]
  },
  {
   "cell_type": "code",
   "execution_count": null,
   "metadata": {},
   "outputs": [],
   "source": []
  }
 ],
 "metadata": {
  "kernelspec": {
   "display_name": "Python 3",
   "language": "python",
   "name": "python3"
  },
  "language_info": {
   "codemirror_mode": {
    "name": "ipython",
    "version": 3
   },
   "file_extension": ".py",
   "mimetype": "text/x-python",
   "name": "python",
   "nbconvert_exporter": "python",
   "pygments_lexer": "ipython3",
   "version": "3.8.3"
  }
 },
 "nbformat": 4,
 "nbformat_minor": 4
}
