{
 "cells": [
  {
   "cell_type": "markdown",
   "metadata": {},
   "source": [
    "1. Write a Python program to check if the given number is a Disarium Number?\n",
    "2. Write a Python program to print all disarium numbers between 1 to 100?\n",
    "3. Write a Python program to check if the given number is Happy Number?\n",
    "4. Write a Python program to print all happy numbers between 1 and 100?\n",
    "5. Write a Python program to determine whether the given number is a Harshad Number?\n",
    "6. Write a Python program to print all pronic numbers between 1 and 100?\n"
   ]
  },
  {
   "cell_type": "code",
   "execution_count": 13,
   "metadata": {},
   "outputs": [
    {
     "name": "stdout",
     "output_type": "stream",
     "text": [
      "enter a number  135\n",
      "dissarium number\n"
     ]
    }
   ],
   "source": [
    "#1\n",
    "\n",
    "n=input(\"enter a number  \")\n",
    "m=int(n)\n",
    "x=\",\".join(n)\n",
    "l=x.split(\",\")\n",
    "for i in range(len(l)):\n",
    "    l[i]=int(l[i])\n",
    "count=1\n",
    "for i in range(len(l)):\n",
    "    l[i]=l[i]**count\n",
    "    count=count+1\n",
    "s=0\n",
    "for i in l:\n",
    "    s=s+i\n",
    "if s==m:\n",
    "    print(\"dissarium number\")\n",
    "else:\n",
    "    print(\"not a dissarium number\")\n",
    "\n",
    "\n",
    "\n",
    "    \n",
    "    "
   ]
  },
  {
   "cell_type": "code",
   "execution_count": 16,
   "metadata": {},
   "outputs": [
    {
     "data": {
      "text/plain": [
       "[1, 2, 3, 4, 5, 6, 7, 8, 9, 89]"
      ]
     },
     "execution_count": 16,
     "metadata": {},
     "output_type": "execute_result"
    }
   ],
   "source": [
    "m=[]\n",
    "for i in range(1,100):\n",
    "    n=i\n",
    "    k=str(n)\n",
    "    l=len(k)\n",
    "    disarium=0\n",
    "    while n>0:\n",
    "        a=n%10\n",
    "        disarium=disarium +a**l\n",
    "        n=n//10\n",
    "        l=l-1\n",
    "    if i==disarium:\n",
    "        m.append(i)\n",
    "m    \n",
    "\n"
   ]
  },
  {
   "cell_type": "code",
   "execution_count": 21,
   "metadata": {},
   "outputs": [
    {
     "name": "stdout",
     "output_type": "stream",
     "text": [
      "entera number123\n",
      "not a happy number\n"
     ]
    }
   ],
   "source": [
    "#3\n",
    "def happy_number(n):\n",
    "    s=0\n",
    "    while(n>0):\n",
    "        a=n%10\n",
    "        s=s+(a*a)\n",
    "        n=n//10\n",
    "    return(s)\n",
    "n=int(input(\"enter a number\"))\n",
    "m=n\n",
    "while(m!=1 and m!=4):\n",
    "    m=happy_number(m)\n",
    "if m==1:\n",
    "    print(\"happy number\")\n",
    "else:\n",
    "    print(\"not a happy number\")\n",
    "\n",
    "    "
   ]
  },
  {
   "cell_type": "code",
   "execution_count": 27,
   "metadata": {},
   "outputs": [
    {
     "data": {
      "text/plain": [
       "[1, 7, 10, 13, 19, 23, 28, 31, 32, 44, 49, 68, 70, 79, 82, 86, 91, 94, 97]"
      ]
     },
     "execution_count": 27,
     "metadata": {},
     "output_type": "execute_result"
    }
   ],
   "source": [
    "#4\n",
    "def happy_number(n):\n",
    "    s=0\n",
    "    while(n>0):\n",
    "        a=n%10\n",
    "        s=s+(a*a)\n",
    "        n=n//10\n",
    "    return(s)\n",
    "l=[]\n",
    "for i in range(1,100):\n",
    "    m=i\n",
    "    while(m!=1 and m!=4):\n",
    "        m=happy_number(m)\n",
    "    if m==1:\n",
    "        l.append(i)\n",
    "l\n",
    "\n",
    "\n"
   ]
  },
  {
   "cell_type": "code",
   "execution_count": 29,
   "metadata": {},
   "outputs": [
    {
     "name": "stdout",
     "output_type": "stream",
     "text": [
      "harshad number\n"
     ]
    }
   ],
   "source": [
    "#5\n",
    "n=int(input(\"enter a number\"))\n",
    "m=n\n",
    "s=0\n",
    "while m>0:\n",
    "    a=m%10\n",
    "    s=s+a\n",
    "    m=m//10\n",
    "if n%s==0:\n",
    "    print(\"harshad number\")\n",
    "else:\n",
    "    print(\"not a harshad number\")\n",
    "\n",
    "\n",
    "    "
   ]
  },
  {
   "cell_type": "code",
   "execution_count": 31,
   "metadata": {},
   "outputs": [
    {
     "name": "stdout",
     "output_type": "stream",
     "text": [
      "2\n",
      "6\n",
      "12\n",
      "20\n",
      "30\n",
      "42\n",
      "56\n",
      "72\n",
      "90\n"
     ]
    }
   ],
   "source": [
    "#6\n",
    "def pronic(n):\n",
    "    flag=False\n",
    "    for j in range(1,n):\n",
    "        if (j*(j+1))==n:\n",
    "            \n",
    "            flag=True\n",
    "            break\n",
    "    if flag==True:\n",
    "        return(True)\n",
    "for i in range(1,100):\n",
    "    if pronic(i):\n",
    "        print(i)\n"
   ]
  },
  {
   "cell_type": "code",
   "execution_count": null,
   "metadata": {},
   "outputs": [],
   "source": []
  }
 ],
 "metadata": {
  "kernelspec": {
   "display_name": "Python 3",
   "language": "python",
   "name": "python3"
  },
  "language_info": {
   "codemirror_mode": {
    "name": "ipython",
    "version": 3
   },
   "file_extension": ".py",
   "mimetype": "text/x-python",
   "name": "python",
   "nbconvert_exporter": "python",
   "pygments_lexer": "ipython3",
   "version": "3.8.3"
  }
 },
 "nbformat": 4,
 "nbformat_minor": 4
}
