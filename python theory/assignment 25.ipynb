{
 "cells": [
  {
   "cell_type": "markdown",
   "metadata": {},
   "source": [
    "1.What is the difference between enclosing a list comprehension in square brackets and\n",
    "parentheses?\n",
    "2. What is the relationship between generators and iterators?\n",
    "3. What are the signs that a function is a generator function?\n",
    "4. What is the purpose of a yield statement?\n",
    "5. What is the relationship between map calls and list comprehensions? Make a comparison and\n",
    "contrast between the two."
   ]
  },
  {
   "cell_type": "code",
   "execution_count": null,
   "metadata": {},
   "outputs": [],
   "source": [
    "#1\n",
    "#when enclosed within the square brackets it is taken as list inside the list where as in parenthesis it is taken as a list"
   ]
  },
  {
   "cell_type": "code",
   "execution_count": 12,
   "metadata": {},
   "outputs": [],
   "source": [
    "#2'\n",
    "#generator is used to create an iterator  function using yield statement"
   ]
  },
  {
   "cell_type": "code",
   "execution_count": 13,
   "metadata": {},
   "outputs": [],
   "source": [
    "#3\n",
    "#it it is iterable then it is generator function.it will only be iterbable if it uses yield statement"
   ]
  },
  {
   "cell_type": "code",
   "execution_count": 14,
   "metadata": {},
   "outputs": [],
   "source": [
    "#4\n",
    "#yield statement is used to make function a generator"
   ]
  },
  {
   "cell_type": "code",
   "execution_count": null,
   "metadata": {},
   "outputs": [],
   "source": [
    "#5\n",
    "#map is function which uses a function and a iterable object and applies the fuction to all the iterable objects \n",
    "#and then return a object,whereas list comprehensions return a list\n",
    "#similarity-both of them applies a function to the list\n",
    "#difference-1.map returns a object and listcomprehensions returns a list\n",
    "            #2.map is faster then list comprehnesions"
   ]
  }
 ],
 "metadata": {
  "kernelspec": {
   "display_name": "Python 3",
   "language": "python",
   "name": "python3"
  },
  "language_info": {
   "codemirror_mode": {
    "name": "ipython",
    "version": 3
   },
   "file_extension": ".py",
   "mimetype": "text/x-python",
   "name": "python",
   "nbconvert_exporter": "python",
   "pygments_lexer": "ipython3",
   "version": "3.8.3"
  }
 },
 "nbformat": 4,
 "nbformat_minor": 4
}
